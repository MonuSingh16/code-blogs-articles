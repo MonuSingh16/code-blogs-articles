{
 "cells": [
  {
   "cell_type": "markdown",
   "metadata": {},
   "source": [
    "### PCA\n",
    "\n",
    "Principal Component Analysis (PCA) is a dimensionality reduction technique widely used in machine learning and statistics. It aims to transform a dataset into a new coordinate system in which the data's variability is maximized along the new axes. PCA achieves this by identifying the principal components, which are the directions in the feature space along which the data varies the most."
   ]
  },
  {
   "cell_type": "code",
   "execution_count": 1,
   "metadata": {},
   "outputs": [
    {
     "name": "stdout",
     "output_type": "stream",
     "text": [
      "     PCA_Component_1  PCA_Component_2\n",
      "0          -2.684126         0.319397\n",
      "1          -2.714142        -0.177001\n",
      "2          -2.888991        -0.144949\n",
      "3          -2.745343        -0.318299\n",
      "4          -2.728717         0.326755\n",
      "..               ...              ...\n",
      "145         1.944110         0.187532\n",
      "146         1.527167        -0.375317\n",
      "147         1.764346         0.078859\n",
      "148         1.900942         0.116628\n",
      "149         1.390189        -0.282661\n",
      "\n",
      "[150 rows x 2 columns]\n"
     ]
    }
   ],
   "source": [
    "from sklearn.decomposition import PCA\n",
    "from sklearn.datasets import load_iris\n",
    "import pandas as pd\n",
    "\n",
    "# Load the Iris dataset\n",
    "iris = load_iris()\n",
    "X = iris.data\n",
    "y = iris.target\n",
    "\n",
    "# Create a DataFrame for better visualization\n",
    "df = pd.DataFrame(data=X, columns=[f'Feature_{i+1}' for i in range(X.shape[1])])\n",
    "\n",
    "# Standardize the data (optional)\n",
    "# X = (X - X.mean(axis=0)) / X.std(axis=0)\n",
    "\n",
    "# Create a PCA instance\n",
    "pca = PCA(n_components=2)  # Choose the number of components\n",
    "\n",
    "# Fit and transform the data\n",
    "X_pca = pca.fit_transform(X)\n",
    "\n",
    "# Add PCA components to DataFrame\n",
    "df['PCA_Component_1'] = X_pca[:, 0]\n",
    "df['PCA_Component_2'] = X_pca[:, 1]\n",
    "\n",
    "# Display the DataFrame with PCA components\n",
    "print(df[['PCA_Component_1', 'PCA_Component_2']])\n"
   ]
  },
  {
   "cell_type": "code",
   "execution_count": null,
   "metadata": {},
   "outputs": [],
   "source": []
  }
 ],
 "metadata": {
  "kernelspec": {
   "display_name": "venv-dl-1.0",
   "language": "python",
   "name": "python3"
  },
  "language_info": {
   "codemirror_mode": {
    "name": "ipython",
    "version": 3
   },
   "file_extension": ".py",
   "mimetype": "text/x-python",
   "name": "python",
   "nbconvert_exporter": "python",
   "pygments_lexer": "ipython3",
   "version": "3.9.18"
  }
 },
 "nbformat": 4,
 "nbformat_minor": 2
}
