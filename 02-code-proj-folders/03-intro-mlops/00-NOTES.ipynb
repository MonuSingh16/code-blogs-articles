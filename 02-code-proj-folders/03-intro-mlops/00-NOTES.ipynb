{
 "cells": [
  {
   "cell_type": "markdown",
   "id": "c5446e40",
   "metadata": {},
   "source": [
    "#### Steps to be followed -\n",
    "\n",
    "1. Train & Serialize the model\n",
    "2. Write a FastAPI application that loads the model and defines a prediction endpoint\n",
    "3. Run the API Server and test with sample inputs\n",
    "4. Containerize the app with Docker"
   ]
  },
  {
   "cell_type": "code",
   "execution_count": null,
   "id": "91029734",
   "metadata": {},
   "outputs": [],
   "source": []
  }
 ],
 "metadata": {
  "kernelspec": {
   "display_name": "code-blogs-articles",
   "language": "python",
   "name": "python3"
  },
  "language_info": {
   "codemirror_mode": {
    "name": "ipython",
    "version": 3
   },
   "file_extension": ".py",
   "mimetype": "text/x-python",
   "name": "python",
   "nbconvert_exporter": "python",
   "pygments_lexer": "ipython3",
   "version": "3.12.0"
  }
 },
 "nbformat": 4,
 "nbformat_minor": 5
}
