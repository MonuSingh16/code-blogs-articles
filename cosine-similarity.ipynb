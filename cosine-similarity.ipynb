{
 "cells": [
  {
   "cell_type": "markdown",
   "metadata": {},
   "source": [
    "#### Cosine Similarity\n",
    "\n",
    "Cosine similarity is a measure of similarity between two non-zero vectors in an inner product space that measures the cosine of the angle between them. In the context of text data, it's often used to determine the similarity between two documents represented as vectors in a high-dimensional space. The cosine similarity ranges from -1 (completely dissimilar) to 1 (completely similar), with 0 indicating orthogonality (no similarity).\n",
    "\n",
    "The cosine similarity $cosine_similarity(A,B)$ between two vectors $A$ and $B$ is calculated using the formula:\n",
    "\n",
    "$similarity(A,B)$ $=$ $A . B$ $/$ $||A|| ||B||$\n"
   ]
  },
  {
   "cell_type": "code",
   "execution_count": 5,
   "metadata": {},
   "outputs": [
    {
     "name": "stdout",
     "output_type": "stream",
     "text": [
      "\n",
      "Vectorize Feature Names:\n",
      "['and' 'document' 'first' 'is' 'second' 'the' 'third' 'this']\n",
      "\n",
      "Vectorize Array for feature names:\n",
      "[[0.         0.39896105 0.60276058 0.39896105 0.         0.39896105\n",
      "  0.         0.39896105]\n",
      " [0.         0.61221452 0.         0.30610726 0.5865905  0.30610726\n",
      "  0.         0.30610726]\n",
      " [0.56894695 0.29690012 0.         0.29690012 0.         0.29690012\n",
      "  0.56894695 0.29690012]\n",
      " [0.         0.39896105 0.60276058 0.39896105 0.         0.39896105\n",
      "  0.         0.39896105]]\n",
      "\n",
      "Cosine Similarity Matrix:\n",
      "[[1.         0.61062437 0.47380634 1.        ]\n",
      " [0.61062437 1.         0.45441641 0.61062437]\n",
      " [0.47380634 0.45441641 1.         0.47380634]\n",
      " [1.         0.61062437 0.47380634 1.        ]]\n"
     ]
    }
   ],
   "source": [
    "from sklearn.feature_extraction.text import TfidfVectorizer\n",
    "from sklearn.metrics.pairwise import cosine_similarity\n",
    "\n",
    "# Sample Documents\n",
    "document = [ \"This is the first document.\",\n",
    "    \"This document is the second document.\",\n",
    "    \"And this is the third document.\",\n",
    "    \"Is this the first document?\"\n",
    "]\n",
    "\n",
    "# Create an instance of  TfidfVectorizer\n",
    "vectorizer = TfidfVectorizer()\n",
    "\n",
    "# Fit and transform the documents\n",
    "tfidf_matrix = vectorizer.fit_transform(document)\n",
    "\n",
    "# Calculate the cosine similarity\n",
    "cos_sim = cosine_similarity(tfidf_matrix, tfidf_matrix)\n",
    "\n",
    "# print the feature space\n",
    "print(\"\\nVectorize Feature Names:\")\n",
    "print(vectorizer.get_feature_names_out())\n",
    "\n",
    "print(\"\\nVectorize Array for feature names:\")\n",
    "print(tfidf_matrix.toarray())\n",
    "\n",
    "# print the cosine similarity matrix\n",
    "print(\"\\nCosine Similarity Matrix:\")\n",
    "print(cos_sim)"
   ]
  },
  {
   "cell_type": "code",
   "execution_count": null,
   "metadata": {},
   "outputs": [],
   "source": []
  }
 ],
 "metadata": {
  "kernelspec": {
   "display_name": "venv-dl-1.0",
   "language": "python",
   "name": "python3"
  },
  "language_info": {
   "codemirror_mode": {
    "name": "ipython",
    "version": 3
   },
   "file_extension": ".py",
   "mimetype": "text/x-python",
   "name": "python",
   "nbconvert_exporter": "python",
   "pygments_lexer": "ipython3",
   "version": "3.9.18"
  }
 },
 "nbformat": 4,
 "nbformat_minor": 2
}
