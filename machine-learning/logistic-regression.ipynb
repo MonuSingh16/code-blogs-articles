{
 "cells": [
  {
   "cell_type": "markdown",
   "metadata": {},
   "source": [
    "#### Logistic Regression\n",
    "\n",
    "Logistic Regression is a statistical method used for binary classification problems, where the dependent variable is categorical and represents two classes (e.g., 0 or 1, True or False, Yes or No). Despite its name, logistic regression is used for classification, not regression.\n",
    "\n",
    "<u>*Logistic Regression Model:*</u>\n",
    "The logistic regression model is based on the logistic function (also called the sigmoid function), which maps any real-valued number to the range of [0,1]. The logistic function is defined as:\n",
    "\n",
    "$Sigmoid(z) = \\frac{1}{1 + \\exp{(-z)}}$\n",
    "\n",
    "The logistic function maps `z` to the probability that the dependent variable belongs to the positive class\n",
    "\n",
    "$P(Y=1|X) = Sigmoid(z)$"
   ]
  },
  {
   "cell_type": "markdown",
   "metadata": {},
   "source": [
    "#### Sigmoid Function\n",
    "\n",
    "The sigmoid function, also known as the logistic function, is a mathematical function that maps any real-valued number to a value between 0 and 1. It is particularly used in logistic regression to model the probability of a binary outcome.\n",
    "\n",
    "The sigmoid function has an S-shaped curve, and its output ranges from 0 to 1. It is characterized by the following properties:\n",
    "\n",
    "1. Asymptotes: The sigmoid function approaches 0 as `z` approaches negative infinity and approaches 1 as `z` approaches positive infinity.\n",
    "2. Midpoint: The sigmoid function has a midpoint at `z=0`, where `σ(0)=0.5`.\n",
    "3. Derivative: The derivative of the sigmoid function with respect to `z` is given by `(z)=σ(z)⋅(1−σ(z))`. This property is crucial for gradient-based optimization algorithms used in training machine learning models like logistic regression."
   ]
  },
  {
   "cell_type": "code",
   "execution_count": 3,
   "metadata": {},
   "outputs": [
    {
     "data": {
      "image/png": "[encoded data removed]",
      "text/plain": [
       "<Figure size 640x480 with 1 Axes>"
      ]
     },
     "metadata": {},
     "output_type": "display_data"
    }
   ],
   "source": [
    "import numpy as np\n",
    "import matplotlib.pyplot as plt\n",
    "\n",
    "def sigmoid(z):\n",
    "    return 1 / (1 + np.exp(-z))\n",
    "\n",
    "# Generate values for z\n",
    "z_values = np.linspace(-7, 7, 100)\n",
    "\n",
    "# Compute sigmoid values\n",
    "sigmoid_values = sigmoid(z_values)\n",
    "\n",
    "# Plot the sigmoid function\n",
    "plt.plot(z_values, sigmoid_values, label=\"Sigmoid Function\")\n",
    "plt.title(\"Sigmoid Function\")\n",
    "plt.xlabel(\"z\")\n",
    "plt.ylabel(\"σ(z)\")\n",
    "plt.axhline(0.5, color='red', linestyle='--', linewidth=1, label=\"Midpoint\")\n",
    "plt.legend()\n",
    "plt.grid(True)\n",
    "plt.show()"
   ]
  },
  {
   "cell_type": "code",
   "execution_count": 4,
   "metadata": {},
   "outputs": [
    {
     "name": "stdout",
     "output_type": "stream",
     "text": [
      "Accuracy: 0.86\n"
     ]
    }
   ],
   "source": [
    "import numpy as np\n",
    "\n",
    "class LogisticRegressionScratch:\n",
    "\n",
    "    def __init__(self, learning_rate=0.01, n_iterations=100):\n",
    "        self.learning_rate = learning_rate\n",
    "        self.n_iterations = n_iterations\n",
    "        self.weights = None\n",
    "        self.bias = None\n",
    "\n",
    "    def sigmoid(self, z):\n",
    "        return 1 / (1 + np.exp(-z))\n",
    "    \n",
    "    def fit(self, X, y):\n",
    "        m, n = X.shape\n",
    "        self.weights = np.zeros((n,1))\n",
    "        self.bias = 0\n",
    "\n",
    "        for _ in range(self.n_iterations):\n",
    "            z = np.dot(X, self.weights) + self.bias\n",
    "            predictions = self.sigmoid(z)\n",
    "\n",
    "            # Compute gradients\n",
    "            dz = predictions - y\n",
    "            dw = (1 / m) * np.dot(X.T, dz)\n",
    "            db = (1 / m) * np.sum(dz)\n",
    "\n",
    "            # Update weights and bias\n",
    "            self.weights -= self.learning_rate * dw\n",
    "            self.bias -= self.learning_rate * db\n",
    "\n",
    "    def predict(self, X):\n",
    "        z = np.dot(X, self.weights) + self.bias\n",
    "        predictions = self.sigmoid(z)\n",
    "        return (predictions >= 0.5).astype(int)\n",
    "\n",
    "# Example usage:\n",
    "# Generate synthetic data\n",
    "np.random.seed(42)\n",
    "X = 2 * np.random.rand(100, 1)\n",
    "y = (4 + 3 * X + np.random.randn(100, 1) > 6).astype(int)\n",
    "\n",
    "# Instantiate and train the logistic regression model\n",
    "log_reg = LogisticRegressionScratch(learning_rate=0.1, n_iterations=1000)\n",
    "log_reg.fit(X, y)\n",
    "\n",
    "# Make predictions\n",
    "predictions = log_reg.predict(X)\n",
    "\n",
    "# Display accuracy\n",
    "accuracy = np.mean(predictions == y)\n",
    "print(\"Accuracy:\", accuracy)"
   ]
  },
  {
   "cell_type": "code",
   "execution_count": 2,
   "metadata": {},
   "outputs": [
    {
     "name": "stdout",
     "output_type": "stream",
     "text": [
      "Accuracy: 1.0\n",
      "Confusion Matrix:\n",
      "[[20  0]\n",
      " [ 0 10]]\n",
      "Classification Report:\n",
      "              precision    recall  f1-score   support\n",
      "\n",
      "           0       1.00      1.00      1.00        20\n",
      "           1       1.00      1.00      1.00        10\n",
      "\n",
      "    accuracy                           1.00        30\n",
      "   macro avg       1.00      1.00      1.00        30\n",
      "weighted avg       1.00      1.00      1.00        30\n",
      "\n"
     ]
    }
   ],
   "source": [
    "\"\"\" \n",
    "Let's consider an example using the famous Iris dataset, \n",
    "where the task is to predict whether a flower is of the species \"setosa\" or not based on the petal width.\n",
    "\"\"\"\n",
    "\n",
    "import numpy as np\n",
    "import matplotlib.pyplot as plt\n",
    "from sklearn.datasets import load_iris\n",
    "from sklearn.model_selection import train_test_split\n",
    "from sklearn.preprocessing import StandardScaler\n",
    "from sklearn.linear_model import LogisticRegression\n",
    "from sklearn.metrics import accuracy_score, classification_report, confusion_matrix\n",
    "\n",
    "# Load the Iris dataset\n",
    "iris = load_iris()\n",
    "X = iris.data[:, 3:] # Petal width feature\n",
    "y = (iris.target == 0).astype(int) # 1 if Iris setosa, 0 otherwise\n",
    "\n",
    "# Split the data into training and testing sets\n",
    "X_train, X_test, y_train, y_test = train_test_split(X, y, test_size=0.2, random_state=42)\n",
    "\n",
    "# Standardize features (optional but can be beneficial for logistic regression)\n",
    "scaler = StandardScaler()\n",
    "X_train_scaled = scaler.fit_transform(X_train)\n",
    "X_test_scaled = scaler.transform(X_test)\n",
    "\n",
    "# Create a logistic regression model\n",
    "model = LogisticRegression(random_state=42)\n",
    "\n",
    "# Train the model\n",
    "model.fit(X_train_scaled, y_train)\n",
    "\n",
    "# Make predictions on the test set\n",
    "y_pred = model.predict(X_test_scaled)\n",
    "\n",
    "# Evaluate the model\n",
    "accuracy = accuracy_score(y_test, y_pred)\n",
    "conf_matrix = confusion_matrix(y_test, y_pred)\n",
    "\n",
    "# Print results\n",
    "print(\"Accuracy:\", accuracy)\n",
    "print(\"Confusion Matrix:\")\n",
    "print(conf_matrix)\n",
    "print(\"Classification Report:\")\n",
    "print(classification_report(y_test, y_pred))"
   ]
  },
  {
   "cell_type": "code",
   "execution_count": null,
   "metadata": {},
   "outputs": [],
   "source": []
  }
 ],
 "metadata": {
  "kernelspec": {
   "display_name": "venv-dl-1.0",
   "language": "python",
   "name": "python3"
  },
  "language_info": {
   "codemirror_mode": {
    "name": "ipython",
    "version": 3
   },
   "file_extension": ".py",
   "mimetype": "text/x-python",
   "name": "python",
   "nbconvert_exporter": "python",
   "pygments_lexer": "ipython3",
   "version": "3.9.18"
  }
 },
 "nbformat": 4,
 "nbformat_minor": 2
}
