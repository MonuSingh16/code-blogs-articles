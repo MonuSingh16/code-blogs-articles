{
 "cells": [
  {
   "cell_type": "markdown",
   "metadata": {},
   "source": [
    "### Matrix factorization\n",
    "\n",
    "Matrix factorization is a technique used in linear algebra and machine learning to decompose a matrix into the product of two or more matrices. The goal is to approximate the original matrix by representing it in a lower-dimensional form. This approach is particularly useful for various applications, including collaborative filtering in recommendation systems and latent factor analysis."
   ]
  },
  {
   "cell_type": "markdown",
   "metadata": {},
   "source": [
    "**Basic Concept:**\n",
    "\n",
    "Given an $× (m×n)$ matrix $A$, matrix factorization decomposes it into two lower-rank matrices, U and V, such that their product approximates \n",
    "\n",
    "$A ≈ UV$\n",
    "\n",
    "$U$ is an $m×k$ matrix, where $k$ is the desired lower rank. $V$ is a $k×n$ matrix.\n",
    "The product $UV$ is an approximation of $A$, and the goal is to find $U$ and $V$ in a way that minimizes the difference between $A$ and $UV$.\n",
    "\n"
   ]
  },
  {
   "cell_type": "markdown",
   "metadata": {},
   "source": [
    "**Recommendation Systems:**\n",
    "\n",
    "In collaborative filtering, users and items are represented by matrices, and matrix factorization helps discover latent factors (features) that capture user preferences and item characteristics.\n",
    "\n",
    "Image and Signal Processing:Matrix factorization is used for tasks like image compression and denoising, where the original data matrix is decomposed into lower-rank approximations.\n",
    "\n",
    "Topic Modeling:In natural language processing, matrix factorization is employed for topic modeling. The document-term matrix is factorized to identify latent topics and their representations.\n"
   ]
  },
  {
   "cell_type": "code",
   "execution_count": 1,
   "metadata": {},
   "outputs": [
    {
     "name": "stdout",
     "output_type": "stream",
     "text": [
      "Original Matrix A:\n",
      "[[0.46249735 0.05894705 0.19196441 0.6870503  0.17955772]\n",
      " [0.33025973 0.70425182 0.37721673 0.68744693 0.97827752]\n",
      " [0.12520974 0.23955245 0.56609368 0.46934993 0.05223865]\n",
      " [0.98065162 0.13633898 0.93330025 0.56214047 0.20563172]\n",
      " [0.41321004 0.07257962 0.39851778 0.22844649 0.7390779 ]]\n",
      "\n",
      "Factorized Matrix U:\n",
      "[[0.7236914  0.18729994]\n",
      " [0.59353647 1.14652989]\n",
      " [0.65991783 0.12651993]\n",
      " [1.54137786 0.        ]\n",
      " [0.5492428  0.54908252]]\n",
      "\n",
      "Factorized Matrix V:\n",
      "[[0.58958396 0.0731548  0.59134566 0.45243032 0.10834968]\n",
      " [0.         0.48033917 0.02915535 0.33486358 0.86229282]]\n",
      "\n",
      "Approximated Matrix A (UV):\n",
      "[[0.42667684 0.14290899 0.43341256 0.39013985 0.23991912]\n",
      " [0.34993958 0.59414326 0.38441269 0.65246499 1.05295398]\n",
      " [0.38907697 0.10904863 0.39392827 0.34093375 0.18059912]\n",
      " [0.90877166 0.11275918 0.9114871  0.69736607 0.1670078 ]\n",
      " [0.32382475 0.30392559 0.34080104 0.43236183 0.5329802 ]]\n"
     ]
    }
   ],
   "source": [
    "from sklearn.decomposition import NMF\n",
    "import numpy as np\n",
    "\n",
    "# Create a random matrix A\n",
    "A = np.random.rand(5, 5)\n",
    "\n",
    "# Choose the number of components (lower rank)\n",
    "n_components = 2\n",
    "\n",
    "# Apply Non-Negative Matrix Factorization (NMF)\n",
    "model = NMF(n_components=n_components, init='random', random_state=42)\n",
    "U = model.fit_transform(A)\n",
    "V = model.components_\n",
    "\n",
    "# Reconstruct the original matrix\n",
    "A_approx = np.dot(U, V)\n",
    "\n",
    "print(\"Original Matrix A:\")\n",
    "print(A)\n",
    "print(\"\\nFactorized Matrix U:\")\n",
    "print(U)\n",
    "print(\"\\nFactorized Matrix V:\")\n",
    "print(V)\n",
    "print(\"\\nApproximated Matrix A (UV):\")\n",
    "print(A_approx)"
   ]
  },
  {
   "cell_type": "code",
   "execution_count": null,
   "metadata": {},
   "outputs": [],
   "source": []
  }
 ],
 "metadata": {
  "kernelspec": {
   "display_name": "venv-dl-1.0",
   "language": "python",
   "name": "python3"
  },
  "language_info": {
   "codemirror_mode": {
    "name": "ipython",
    "version": 3
   },
   "file_extension": ".py",
   "mimetype": "text/x-python",
   "name": "python",
   "nbconvert_exporter": "python",
   "pygments_lexer": "ipython3",
   "version": "3.9.18"
  }
 },
 "nbformat": 4,
 "nbformat_minor": 2
}
