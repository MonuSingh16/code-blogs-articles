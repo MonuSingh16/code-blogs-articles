{
 "cells": [
  {
   "cell_type": "markdown",
   "metadata": {},
   "source": [
    "### Random Forest\n",
    "\n",
    "Random Forest is an ensemble learning technique that builds a multitude of decision trees and merges their predictions. It is a powerful and versatile algorithm that is used for both classification and regression tasks. The key idea behind a Random Forest is to reduce overfitting and improve generalization by combining the predictions of multiple trees.\n",
    "\n",
    "**Working of Random Forest:**\n",
    "\n",
    "<u>Bootstrapped Sampling:</u>\n",
    "Random Forest starts by creating multiple random subsets of the training data through a process called bootstrapped sampling (sampling with replacement).\n",
    "For each tree in the forest, a different subset is created.\n",
    "\n",
    "<u>Decision Tree Building:</u>\n",
    "A decision tree is constructed for each bootstrapped sample using a subset of features at each node.\n",
    "At each node of the tree, instead of considering all features, a random subset of features is chosen for splitting. This helps in decorrelating the trees.\n",
    "\n",
    "<u>Voting or Averaging:</u>\n",
    "For classification, each tree in the forest \"votes\" for a class, and the class with the majority of votes is chosen as the final prediction.\n",
    "For regression, the predictions of all trees are averaged to obtain the final prediction.\n",
    "Reducing Overfitting:\n",
    "\n",
    "The use of bootstrapped samples and random feature subsets helps reduce overfitting by introducing randomness into the model.\n",
    "\n",
    "The ensemble of diverse trees tends to be more robust and less prone to overfitting compared to individual trees.\n"
   ]
  },
  {
   "cell_type": "markdown",
   "metadata": {},
   "source": []
  },
  {
   "cell_type": "code",
   "execution_count": null,
   "metadata": {
    "vscode": {
     "languageId": "plaintext"
    }
   },
   "outputs": [],
   "source": []
  }
 ],
 "metadata": {
  "language_info": {
   "name": "python"
  }
 },
 "nbformat": 4,
 "nbformat_minor": 2
}
