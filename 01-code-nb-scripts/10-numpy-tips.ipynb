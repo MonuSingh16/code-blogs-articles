{
 "cells": [
  {
   "cell_type": "code",
   "execution_count": 1,
   "id": "9b8f9d69",
   "metadata": {},
   "outputs": [
    {
     "name": "stdout",
     "output_type": "stream",
     "text": [
      "[[11 12 13]\n",
      " [24 25 26]]\n"
     ]
    }
   ],
   "source": [
    "## BROADCASTING\n",
    "# 1. 2 array with different shape, numpy will strecth the smaller array\n",
    "# along the axis with size 1 so the shapes matches element wise.\n",
    "\n",
    "import numpy as np\n",
    "a = np.array([[1, 2, 3], [4, 5, 6]]) # Shape (2, 3)\n",
    "b = np.array([[10], [20]]) # Shape (2, 1)\n",
    "\n",
    "# b is broadcast to shape (2, 3) along the axis 1:\n",
    "# [[10, 10, 10],\n",
    "#   [20, 20, 20] ]\n",
    "\n",
    "result = a + b\n",
    "print(result)\n"
   ]
  },
  {
   "cell_type": "code",
   "execution_count": 6,
   "id": "af434a7c",
   "metadata": {},
   "outputs": [
    {
     "name": "stdout",
     "output_type": "stream",
     "text": [
      "(3,)\n",
      "(1, 3)\n",
      "[[1 2 3]]\n",
      "(3,)\n",
      "[1 2 3]\n"
     ]
    }
   ],
   "source": [
    "## SQUEEZE\n",
    "# 1. removes axes of length 1 from an array's shape\n",
    "# 2. sometimes after operations like keepdims=True,extra dim of size 1,(1 3)\n",
    "# 3. removes axes of length 1\n",
    "arr = np.array([1, 2, 3]) # Shape (1, 3)\n",
    "print(arr.shape)\n",
    "\n",
    "arr = arr.reshape(1, -1)\n",
    "print(arr.shape)\n",
    "print(arr)\n",
    "\n",
    "arr_squeezed = arr.squeeze()\n",
    "print(arr_squeezed.shape) # Shape (3,)\n",
    "print(arr_squeezed)\n"
   ]
  }
 ],
 "metadata": {
  "kernelspec": {
   "display_name": "code-blogs-articles",
   "language": "python",
   "name": "python3"
  },
  "language_info": {
   "codemirror_mode": {
    "name": "ipython",
    "version": 3
   },
   "file_extension": ".py",
   "mimetype": "text/x-python",
   "name": "python",
   "nbconvert_exporter": "python",
   "pygments_lexer": "ipython3",
   "version": "3.12.0"
  }
 },
 "nbformat": 4,
 "nbformat_minor": 5
}
