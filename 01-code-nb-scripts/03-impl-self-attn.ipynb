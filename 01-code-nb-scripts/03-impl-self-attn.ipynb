{
 "cells": [
  {
   "cell_type": "markdown",
   "id": "14e25958",
   "metadata": {},
   "source": [
    "#### Simplied Self-Attention"
   ]
  },
  {
   "cell_type": "code",
   "execution_count": 1,
   "id": "f1712258",
   "metadata": {},
   "outputs": [
    {
     "name": "stdout",
     "output_type": "stream",
     "text": [
      "torch.Size([6, 3])\n",
      "tensor([0.9544, 1.4950, 1.4754, 0.8434, 0.7070, 1.0865])\n",
      "Attention Wieghts tensor([0.1455, 0.2278, 0.2249, 0.1285, 0.1077, 0.1656])\n",
      "Sum of Attention Weights tensor(1.0000)\n",
      "Attention Wights with Softmax tensor([0.1385, 0.2379, 0.2333, 0.1240, 0.1082, 0.1581])\n",
      "Sum of Attention Weights tensor(1.)\n",
      "Attention Weights with PyTorch tensor([0.1385, 0.2379, 0.2333, 0.1240, 0.1082, 0.1581])\n",
      "Sum of Attention Weights tensor(1.)\n",
      "Context Vector tensor([0.4419, 0.6515, 0.5683])\n"
     ]
    }
   ],
   "source": [
    "# STEP 0\n",
    "import torch\n",
    "inputs = torch.tensor(\n",
    "[[0.43, 0.15, 0.89], # Your (x^1)\n",
    "[0.55, 0.87, 0.66], # journey (x^2)\n",
    "[0.57, 0.85, 0.64], # starts (x^3)\n",
    "[0.22, 0.58, 0.33], # with (x^4)\n",
    "[0.77, 0.25, 0.10], # one (x^5)\n",
    "[0.05, 0.80, 0.55]] # step (x^6)\n",
    ")\n",
    "print(inputs.shape) # With 6 Tokens of each 3 dimensions.\n",
    "\n",
    "# ---- STEP 1 ------ Attention Scores\n",
    "query_2 = inputs[1] # second input token as query\n",
    "attn_scores_2 = torch.empty(inputs.shape[0]) # same shape as input sequence\n",
    "for i, x_i in enumerate(inputs):\n",
    "    attn_scores_2[i] = torch.dot(x_i, query_2)\n",
    "    # concise way to multiply two vectors element wise.\n",
    "    # measure of similarity on how close two vectors.\n",
    "    # determine the extend each element \"attends to\" any other element\n",
    "print(attn_scores_2)\n",
    "\n",
    "# ---- STEP 2 ----- Normalize Attention Scores.\n",
    "# To use Softamx, better at managing extreme values & \n",
    "# offer more favourable gradient  properties.\n",
    "# the output is not negative & interepretable as probabilities\n",
    "# OPTION A\n",
    "attn_weights_temp_2 = attn_scores_2 / attn_scores_2.sum()\n",
    "print(\"Attention Wieghts\", attn_weights_temp_2)\n",
    "print(\"Sum of Attention Weights\", attn_weights_temp_2.sum()\n",
    "      )\n",
    "# OPTION B\n",
    "def softmax_naive(x):\n",
    "    return torch.exp(x) / torch.exp(x).sum(dim=0)\n",
    "\n",
    "attn_weights_naive_2 = softmax_naive(attn_scores_2)\n",
    "print(\"Attention Wights with Softmax\", attn_weights_naive_2)\n",
    "print(\"Sum of Attention Weights\", attn_weights_naive_2.sum())\n",
    "\n",
    "# OPTION C\n",
    "# Softmax naive may have underflow or overflow issues, (num stability)\n",
    "# Advisable to use PyTorch's Softmax\n",
    "attn_weights_2 = torch.softmax(attn_scores_2, dim=0)\n",
    "print(\"Attention Weights with PyTorch\", attn_weights_2)\n",
    "print(\"Sum of Attention Weights\", attn_weights_2.sum())\n",
    "\n",
    "# STEP 3 - Calculating Context Vectors\n",
    "context_vect_2 = torch.zeros(query_2.shape) # second input token\n",
    "for i, x_i in enumerate(inputs):\n",
    "    context_vect_2 += attn_weights_2[i] * x_i\n",
    "print(\"Context Vector\", context_vect_2)"
   ]
  },
  {
   "cell_type": "markdown",
   "id": "49eb297e",
   "metadata": {},
   "source": [
    "#### Self Attention For All Token"
   ]
  },
  {
   "cell_type": "code",
   "execution_count": 3,
   "id": "fbfac700",
   "metadata": {},
   "outputs": [
    {
     "name": "stdout",
     "output_type": "stream",
     "text": [
      "tensor([[0.9995, 0.9544, 0.9422, 0.4753, 0.4576, 0.6310],\n",
      "        [0.9544, 1.4950, 1.4754, 0.8434, 0.7070, 1.0865],\n",
      "        [0.9422, 1.4754, 1.4570, 0.8296, 0.7154, 1.0605],\n",
      "        [0.4753, 0.8434, 0.8296, 0.4937, 0.3474, 0.6565],\n",
      "        [0.4576, 0.7070, 0.7154, 0.3474, 0.6654, 0.2935],\n",
      "        [0.6310, 1.0865, 1.0605, 0.6565, 0.2935, 0.9450]])\n",
      "tensor([[0.2098, 0.2006, 0.1981, 0.1242, 0.1220, 0.1452],\n",
      "        [0.1385, 0.2379, 0.2333, 0.1240, 0.1082, 0.1581],\n",
      "        [0.1390, 0.2369, 0.2326, 0.1242, 0.1108, 0.1565],\n",
      "        [0.1435, 0.2074, 0.2046, 0.1462, 0.1263, 0.1720],\n",
      "        [0.1526, 0.1958, 0.1975, 0.1367, 0.1879, 0.1295],\n",
      "        [0.1385, 0.2184, 0.2128, 0.1420, 0.0988, 0.1896]])\n",
      "Context Vectors tensor([[0.4421, 0.5931, 0.5790],\n",
      "        [0.4419, 0.6515, 0.5683],\n",
      "        [0.4431, 0.6496, 0.5671],\n",
      "        [0.4304, 0.6298, 0.5510],\n",
      "        [0.4671, 0.5910, 0.5266],\n",
      "        [0.4177, 0.6503, 0.5645]])\n"
     ]
    }
   ],
   "source": [
    "# SLOWER FOR LOOP\n",
    "# attn_scores = torch.empty(6, 6)\n",
    "# for i, x_i in enumerate(inputs):\n",
    "#     for j, x_j in enumerate(inputs):\n",
    "#         attn_scores[i, j] = torch.dot(x_i, x_j)\n",
    "# print(\"Attention Scores\", attn_scores)\n",
    "\n",
    "# STEP 1 - ATENTION SCORES\n",
    "attn_scores = inputs @ inputs.T # Matric Multiplications\n",
    "print(attn_scores)\n",
    "\n",
    "# STEP 2 - NORMALIZE ATTENTION SCORES - ATTENTION WEIGHTS\n",
    "attn_weights = torch.softmax(attn_scores, dim=-1)\n",
    "# apply normalization along last dimension\n",
    "# it will normalize along columns, so that values in each row sum upto 1\n",
    "print(attn_weights)\n",
    "\n",
    "# STEP 3 - CONTEXT VECTORS COMPUTED\n",
    "context_vecs = attn_weights @ inputs\n",
    "print(\"Context Vectors\", context_vecs)\n",
    "# Each row contains three dimensional context vectors"
   ]
  },
  {
   "cell_type": "markdown",
   "id": "d147d70a",
   "metadata": {},
   "source": [
    "#### Self Attention with Trainable Weights\n"
   ]
  },
  {
   "cell_type": "code",
   "execution_count": 4,
   "id": "96dd84d1",
   "metadata": {},
   "outputs": [
    {
     "name": "stdout",
     "output_type": "stream",
     "text": [
      "Keys Shape torch.Size([6, 2])\n",
      "Values Shape torch.Size([6, 2])\n",
      "tensor([ 0.2172,  0.1376,  0.1730, -0.0491,  0.7616, -0.3809])\n",
      "tensor([0.2854, 0.4081])\n"
     ]
    }
   ],
   "source": [
    "# Trainable weights are crucial so that model can learn\n",
    "# to produce good context vectors\n",
    "x_2 = inputs[1] # Second element\n",
    "d_in = inputs.shape[1] # The embeddings, d=3\n",
    "d_out = 2 # output embedding, d = 2\n",
    "# In GPT MOdels, input & Output are same.\n",
    "\n",
    "torch.manual_seed(123)\n",
    "# Why Query, Key & Values ?\n",
    "# -- Search (Query in DB), Key is like a DB Indexing, Searching\n",
    "# -- Values is the actual content as in key-valu pair in db\n",
    "# Matrices used to prpject embedded input tokens.\n",
    "# Would use requires_grad=True, to update matrices during training\n",
    "W_q = torch.nn.Parameter(torch.randn(d_in, d_out), requires_grad=False)\n",
    "W_k = torch.nn.Parameter(torch.randn(d_in, d_out), requires_grad=False)\n",
    "W_v = torch.nn.Parameter(torch.randn(d_in, d_out), requires_grad=False)\n",
    "\n",
    "query_2 = x_2 @ W_q # (1, 3) @ (3, 2)\n",
    "# key_2 = x_2 @ W_k\n",
    "# value_2 = x_2 @ W_v\n",
    "\n",
    "# need to obtain all keys & values\n",
    "keys = inputs @ W_k\n",
    "values = inputs @ W_v\n",
    "# Projected to (6, 2) i.e. on to 2 dimensional embedding space.\n",
    "print(\"Keys Shape\", keys.shape)\n",
    "print(\"Values Shape\", values.shape)\n",
    "\n",
    "# Attention Score\n",
    "attn_scores_2 = query_2 @ keys.T # all attention score for given query\n",
    "print(attn_scores_2)\n",
    "\n",
    "# Attention Wieghts\n",
    "# By dividing them by square root of the embedding dimension of keys\n",
    "# large dot product - small gradients during backpropogation, due to softmax\n",
    "# As dot product increases, softmax function behaves like a step function\n",
    "\n",
    "d_k = keys.shape[-1]\n",
    "attn_weights_2 = torch.softmax(attn_scores_2 / d_k ** 0.5, dim=-1)\n",
    "context_vec_2 = attn_weights_2 @ values\n",
    "print(context_vec_2)\n"
   ]
  },
  {
   "cell_type": "markdown",
   "id": "abf1c073",
   "metadata": {},
   "source": [
    "#### A compact self-attention class"
   ]
  },
  {
   "cell_type": "code",
   "execution_count": 5,
   "id": "30f9e401",
   "metadata": {},
   "outputs": [
    {
     "name": "stdout",
     "output_type": "stream",
     "text": [
      "tensor([[0.2996, 0.8053],\n",
      "        [0.3061, 0.8210],\n",
      "        [0.3058, 0.8203],\n",
      "        [0.2948, 0.7939],\n",
      "        [0.2927, 0.7891],\n",
      "        [0.2990, 0.8040]], grad_fn=<MmBackward0>)\n"
     ]
    }
   ],
   "source": [
    "import torch.nn as nn\n",
    "class SelfAttention_v1(nn.Module): # a class derived from nn.Module\n",
    "    def __init__(self, d_in, d_out):\n",
    "        super().__init__()\n",
    "        # intializes trainable weights, tranforming input d_in to d_out\n",
    "        self.W_q = nn.Parameter(torch.rand(d_in, d_out))\n",
    "        self.W_k = nn.Parameter(torch.rand(d_in, d_out))\n",
    "        self.W_v = nn.Parameter(torch.rand(d_in, d_out))\n",
    "\n",
    "    def forward(self, x):\n",
    "        # transform input data into Queries, Keys, values\n",
    "        queries = x @ self.W_q\n",
    "        keys = x @ self.W_k\n",
    "        values = x @ self.W_v\n",
    "\n",
    "        attn_scores = queries @ keys.T # (6, 2) @ (2, 6) --> (6, 6)\n",
    "        attn_weights = torch.softmax(\n",
    "            attn_scores / keys.shape[-1] ** 0.5, dim=-1 \n",
    "        )\n",
    "        context_vec = attn_weights @ values # (6, 6) @ (6, 2) --> (6, 2)\n",
    "        return context_vec\n",
    "\n",
    "torch.manual_seed(123)\n",
    "sa_v1 = SelfAttention_v1(3, 2)\n",
    "print(sa_v1(inputs))"
   ]
  },
  {
   "cell_type": "markdown",
   "id": "fc870304",
   "metadata": {},
   "source": [
    "#### Self Attention class using PyTorch's Linear Layers\n"
   ]
  },
  {
   "cell_type": "code",
   "execution_count": 6,
   "id": "60aad6b1",
   "metadata": {},
   "outputs": [
    {
     "name": "stdout",
     "output_type": "stream",
     "text": [
      "tensor([[-0.5337, -0.1051],\n",
      "        [-0.5323, -0.1080],\n",
      "        [-0.5323, -0.1079],\n",
      "        [-0.5297, -0.1076],\n",
      "        [-0.5311, -0.1066],\n",
      "        [-0.5299, -0.1081]], grad_fn=<MmBackward0>)\n"
     ]
    }
   ],
   "source": [
    "# Using nn.Linear has optimized weight initialization scheme,\n",
    "# leading better model training  (effective & Stable)\n",
    "\n",
    "class SelfAttention_v2(nn.Module):\n",
    "    def __init__(self, d_in, d_out, qkv_bias=False):\n",
    "        super().__init__()\n",
    "        self.W_q = nn.Linear(d_in, d_out, bias=qkv_bias)\n",
    "        self.W_k = nn.Linear(d_in, d_out, bias=qkv_bias)\n",
    "        self.W_v = nn.Linear(d_in, d_out, bias=qkv_bias)\n",
    "\n",
    "    def forward(self, x):\n",
    "        queries = self.W_q(x)\n",
    "        keys = self.W_k(x)\n",
    "        values = self.W_v(x)\n",
    "\n",
    "        attn_scores = queries @ keys.T\n",
    "        attn_weights = torch.softmax(\n",
    "            attn_scores / keys.shape[-1] ** 0.5, dim=-1\n",
    "        )\n",
    "        context_vec = attn_weights @ values\n",
    "        return context_vec\n",
    "\n",
    "torch.manual_seed(123)\n",
    "sa_v2 = SelfAttention_v2(3, 2)\n",
    "print(sa_v2(inputs))\n",
    "    \n"
   ]
  },
  {
   "cell_type": "markdown",
   "id": "abe4ed29",
   "metadata": {},
   "source": [
    "#### Comparing SelfAttention_v1 and SelfAttention_v2\n",
    "\n",
    "Transfer the weight matrices from a SelfAttention_v2 object to a Self-Attention_v1, such that both objects then produce the same results. Your task is to correctly assign the weights from an instance of SelfAttention_v2 to an instance of SelfAttention_v1. To do this, you need to understand the relationship between the weights in both versions."
   ]
  },
  {
   "cell_type": "code",
   "execution_count": 7,
   "id": "61026f07",
   "metadata": {},
   "outputs": [
    {
     "data": {
      "text/plain": [
       "tensor([[0.1366, 0.1025],\n",
       "        [0.1841, 0.7264],\n",
       "        [0.3153, 0.6871]])"
      ]
     },
     "execution_count": 7,
     "metadata": {},
     "output_type": "execute_result"
    }
   ],
   "source": [
    "sa_v2.W_k.weight.data.T\n",
    "sa_v1.W_k.data"
   ]
  },
  {
   "cell_type": "code",
   "execution_count": null,
   "id": "498a2f29",
   "metadata": {},
   "outputs": [],
   "source": []
  }
 ],
 "metadata": {
  "kernelspec": {
   "display_name": "code-blogs-articles",
   "language": "python",
   "name": "python3"
  },
  "language_info": {
   "codemirror_mode": {
    "name": "ipython",
    "version": 3
   },
   "file_extension": ".py",
   "mimetype": "text/x-python",
   "name": "python",
   "nbconvert_exporter": "python",
   "pygments_lexer": "ipython3",
   "version": "3.12.0"
  }
 },
 "nbformat": 4,
 "nbformat_minor": 5
}
