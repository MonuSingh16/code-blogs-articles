{
 "cells": [
  {
   "cell_type": "markdown",
   "metadata": {},
   "source": [
    "#### Regularization\n",
    "\n",
    "Regularization is a technique used in machine learning to prevent overfitting by adding a penalty term to the loss function. It discourages overly complex models by penalizing large coefficients. Two common regularization methods are L1 regularization (Lasso) and L2 regularization (Ridge)."
   ]
  },
  {
   "cell_type": "markdown",
   "metadata": {},
   "source": [
    "**L1 Regularization (Lasso):**\n",
    "In L1 regularization, the penalty term is the absolute sum of the coefficients. It has the effect of encouraging sparsity in the model, meaning it tends to set some coefficients to exactly zero.\n",
    "\n",
    "Mathematical Formulation:\n",
    "\n",
    "$lambda * \\sum\\limits_{i=1}^{n} |{w_i}|$"
   ]
  },
  {
   "cell_type": "code",
   "execution_count": 2,
   "metadata": {},
   "outputs": [
    {
     "name": "stdout",
     "output_type": "stream",
     "text": [
      "Mean Squared Error (Lasso): 0.03730134466341611\n",
      "Coefficients with L1 Regularization: [-0.         -0.05365287  0.29443195  0.45856441]\n"
     ]
    }
   ],
   "source": [
    "from sklearn.linear_model import Lasso\n",
    "from sklearn.datasets import load_iris\n",
    "from sklearn.model_selection import train_test_split\n",
    "from sklearn.metrics import mean_squared_error\n",
    "from sklearn.preprocessing import StandardScaler\n",
    "\n",
    "# Load the Boston Housing dataset\n",
    "iris = load_iris()\n",
    "X, y = iris.data, iris.target\n",
    "\n",
    "# Split the dataset into training and testing sets\n",
    "X_train, X_test, y_train, y_test = train_test_split(X, y, test_size=0.2, random_state=42)\n",
    "\n",
    "# Standardize the features\n",
    "scaler = StandardScaler()\n",
    "X_train_std = scaler.fit_transform(X_train)\n",
    "X_test_std = scaler.transform(X_test)\n",
    "\n",
    "# Create a Lasso regression model\n",
    "lasso = Lasso(alpha=0.01)  # alpha is the regularization strength\n",
    "\n",
    "# Fit the model to the training data\n",
    "lasso.fit(X_train_std, y_train)\n",
    "\n",
    "# Make predictions on the testing set\n",
    "y_pred = lasso.predict(X_test_std)\n",
    "\n",
    "# Evaluate the model\n",
    "mse = mean_squared_error(y_test, y_pred)\n",
    "print(\"Mean Squared Error (Lasso):\", mse)\n",
    "print(\"Coefficients with L1 Regularization:\", lasso.coef_)"
   ]
  },
  {
   "cell_type": "markdown",
   "metadata": {},
   "source": [
    "**L2 Regularization (Ridge):**\n",
    "\n",
    "In L2 regularization, the penalty term is the squared sum of the coefficients. It has the effect of penalizing large coefficients but typically does not lead to sparsity in the model.\n",
    "\n",
    "Mathematical Formulation:\n",
    "\n",
    "$lambda * \\sum\\limits_{i}^{n} w_i ^ 2$\n"
   ]
  },
  {
   "cell_type": "code",
   "execution_count": 3,
   "metadata": {},
   "outputs": [
    {
     "name": "stdout",
     "output_type": "stream",
     "text": [
      "Mean Squared Error (Ridge): 0.03711155735552844\n",
      "Coefficients with L2 Regularization: [-0.09511762 -0.02686975  0.44424177  0.41045818]\n"
     ]
    }
   ],
   "source": [
    "from sklearn.linear_model import Ridge\n",
    "\n",
    "# Create a Ridge regression model\n",
    "ridge = Ridge(alpha=0.01)  # alpha is the regularization strength\n",
    "\n",
    "# Fit the model to the training data\n",
    "ridge.fit(X_train_std, y_train)\n",
    "\n",
    "# Make predictions on the testing set\n",
    "y_pred_ridge = ridge.predict(X_test_std)\n",
    "\n",
    "# Evaluate the model\n",
    "mse_ridge = mean_squared_error(y_test, y_pred_ridge)\n",
    "print(\"Mean Squared Error (Ridge):\", mse_ridge)\n",
    "print(\"Coefficients with L2 Regularization:\", ridge.coef_)"
   ]
  },
  {
   "cell_type": "code",
   "execution_count": null,
   "metadata": {},
   "outputs": [],
   "source": []
  }
 ],
 "metadata": {
  "kernelspec": {
   "display_name": "venv-dl-1.0",
   "language": "python",
   "name": "python3"
  },
  "language_info": {
   "codemirror_mode": {
    "name": "ipython",
    "version": 3
   },
   "file_extension": ".py",
   "mimetype": "text/x-python",
   "name": "python",
   "nbconvert_exporter": "python",
   "pygments_lexer": "ipython3",
   "version": "3.9.18"
  }
 },
 "nbformat": 4,
 "nbformat_minor": 2
}
