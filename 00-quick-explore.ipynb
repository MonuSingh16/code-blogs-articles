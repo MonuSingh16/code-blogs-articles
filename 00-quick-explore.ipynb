{
 "cells": [
  {
   "cell_type": "code",
   "execution_count": null,
   "id": "e3000fcd",
   "metadata": {},
   "outputs": [],
   "source": []
  },
  {
   "cell_type": "code",
   "execution_count": 18,
   "id": "8c7173b4",
   "metadata": {},
   "outputs": [
    {
     "name": "stdout",
     "output_type": "stream",
     "text": [
      "tensor([[[-6.7551e-01,  1.0748e+00,  1.3845e+00,  6.5353e-01],\n",
      "         [-6.3221e-01,  7.9054e-01, -9.1392e-01,  7.0415e-01],\n",
      "         [ 1.3968e+00, -4.4675e-01,  2.2130e+00, -8.7841e-01]],\n",
      "\n",
      "        [[ 1.0176e-01,  8.5011e-02,  1.2939e-04,  5.2281e-01],\n",
      "         [-7.2002e-01,  3.4378e-01, -9.3164e-01,  1.1351e+00],\n",
      "         [-8.5246e-01, -1.7654e+00, -7.4132e-01, -1.9917e+00]]])\n"
     ]
    }
   ],
   "source": [
    "# tensor is multidimensional array\n",
    "import torch\n",
    "x = torch.randn(2, 3, 4)  # create a random tensor with shape (2, 3, 4)\n",
    "print(x)  # print the tensor"
   ]
  },
  {
   "cell_type": "markdown",
   "id": "0640a21b",
   "metadata": {},
   "source": [
    "#### CUDA vs MPS\n",
    "\n",
    "1. torch.cuda.is_available() checks if a CUDA-capable NVIDIA GPU is available and if PyTorch can use it. CUDA is NVIDIA’s technology for running computations on their GPUs. This is used on most Windows and Linux systems with NVIDIA GPUs.\n",
    "\n",
    "2. torch.mps.is_available() checks if Apple’s Metal Performance Shaders (MPS) backend is available. MPS is Apple’s technology for running computations on Apple Silicon (M1, M2, M3 chips) and some Intel Macs with supported GPUs. CUDA does not work on Apple Silicon; MPS is used instead."
   ]
  },
  {
   "cell_type": "code",
   "execution_count": 22,
   "id": "18bfbfbe",
   "metadata": {},
   "outputs": [
    {
     "name": "stdout",
     "output_type": "stream",
     "text": [
      "Running on MPS: mps:0\n",
      "CUDA not available\n"
     ]
    }
   ],
   "source": [
    "if torch.mps.is_available():\n",
    "    device = torch.device(\"mps\")\n",
    "    x = torch.randn(3, 3).to(device)\n",
    "    print(\"Running on MPS:\", x.device)\n",
    "else:\n",
    "    print(\"MPS not available\")\n",
    "\n",
    "if torch.cuda.is_available():\n",
    "    device = torch.device(\"cuda\")\n",
    "    x = torch.randn(3, 3).to(device)\n",
    "    print(\"Running on CUDA:\", x.device)\n",
    "else:\n",
    "    print(\"CUDA not available\")"
   ]
  },
  {
   "cell_type": "code",
   "execution_count": null,
   "id": "b1bb93b3",
   "metadata": {},
   "outputs": [],
   "source": []
  },
  {
   "cell_type": "code",
   "execution_count": 10,
   "id": "aca16e30",
   "metadata": {},
   "outputs": [
    {
     "name": "stdout",
     "output_type": "stream",
     "text": [
      "torch.Size([2, 4])\n",
      "Parameter containing:\n",
      "tensor([[-0.2013,  0.1039,  0.1993,  0.4580],\n",
      "        [ 0.1079, -0.2671,  0.1110, -0.2548]], requires_grad=True)\n",
      "torch.Size([2])\n",
      "Parameter containing:\n",
      "tensor([-0.0651, -0.4072], requires_grad=True)\n"
     ]
    }
   ],
   "source": [
    "import torch.nn as nn\n",
    "\n",
    "class MyModel(nn.Module):\n",
    "    def __init__(self):\n",
    "        super().__init__()\n",
    "        self.linear = nn.Linear(4, 2)\n",
    "\n",
    "# PyTorch makes two tensors for the weights and biases.\n",
    "# Special because Pytorch marks them as things it should changes during Training.\n",
    "# When we call model.parameters(), it returns these tensors.\n",
    "model = MyModel()\n",
    "for param in model.parameters():\n",
    "    print(param.shape)\n",
    "    print(param)"
   ]
  },
  {
   "cell_type": "code",
   "execution_count": null,
   "id": "4a7956ac",
   "metadata": {},
   "outputs": [],
   "source": []
  },
  {
   "cell_type": "code",
   "execution_count": null,
   "id": "d35282fb",
   "metadata": {},
   "outputs": [
    {
     "name": "stdout",
     "output_type": "stream",
     "text": [
      "True\n",
      "[Parameter containing:\n",
      "tensor([[-0.6255, -0.5323],\n",
      "        [-1.7597,  0.5376]], requires_grad=True)]\n"
     ]
    }
   ],
   "source": [
    "import torch\n",
    "import torch.nn as nn\n",
    "\n",
    "w = nn.Parameter(torch.randn(2, 2))\n",
    "print(isinstance(w, nn.Parameter))\n",
    "\n",
    "# nn.Parameter is a special kind of tensor that is automatically registered as a parameter in the module.\n",
    "# It is used to define learnable parameters in a neural network.\n",
    "# nn.Parameter is a subclass of torch.Tensor, so it behaves like a tensor.\n",
    "\n",
    "# If you add this to a module, it will show up in .parameters()\n",
    "class MyModel(nn.Module):\n",
    "    def __init__(self):\n",
    "        super().__init__()\n",
    "        self.my_weight = nn.Parameter(torch.randn(2, 2))\n",
    "\n",
    "model = MyModel()\n",
    "print(list(model.parameters()))\n"
   ]
  },
  {
   "cell_type": "code",
   "execution_count": null,
   "id": "429aadd9",
   "metadata": {},
   "outputs": [],
   "source": []
  },
  {
   "cell_type": "code",
   "execution_count": 1,
   "id": "14bce064",
   "metadata": {},
   "outputs": [],
   "source": [
    "import torch\n",
    "import torch.nn as nn\n",
    "import torch.optim as optim\n",
    "from torch.nn import functional as F"
   ]
  },
  {
   "cell_type": "code",
   "execution_count": null,
   "id": "7f944555",
   "metadata": {},
   "outputs": [
    {
     "data": {
      "text/plain": [
       "tensor([[-0.9442,  0.0367,  0.3134, -0.7202, -0.3174,  0.3125],\n",
       "        [ 0.0459,  0.2607,  0.1560, -0.6120,  1.2428,  0.6578],\n",
       "        [-0.8398, -0.1090,  0.1608, -0.4982, -0.4739,  0.0708],\n",
       "        [-0.3803, -0.1351,  0.0249, -0.4601,  0.1185,  0.0723],\n",
       "        [-0.4724,  0.0727,  0.0468, -0.5159,  0.2836,  0.1467],\n",
       "        [-0.7485, -0.2667,  0.3595, -0.4836,  0.0442,  0.1493],\n",
       "        [-0.3828, -0.1605,  0.1255, -0.2986,  0.1661,  0.0273],\n",
       "        [-0.4709, -0.2345,  0.1679, -0.1312,  0.1520,  0.0548],\n",
       "        [-0.5072, -0.2233,  0.1079, -0.4745,  0.1901, -0.1194],\n",
       "        [-0.9217, -0.1705,  0.3464, -0.5381, -0.2762,  0.1383],\n",
       "        [-1.0513, -0.1603,  0.4750, -0.6926, -0.2177,  0.2249],\n",
       "        [-1.0403, -0.1923,  0.2474, -0.8217, -0.5872,  0.1576]])"
      ]
     },
     "execution_count": 2,
     "metadata": {},
     "output_type": "execute_result"
    }
   ],
   "source": [
    "tokens = [\"The\", \" \", \"cat\", \" \", \"sat\", \" \", \"on\", \" \", \"the\", \" \", \"mat\", \".\"]\n",
    "n_tokens = len(tokens)\n",
    "d_k = 6\n",
    "\n",
    "# randomly initialize Q, K, V with Standard Normal distribution (mean=0, std=1)\n",
    "Q = torch.randn(n_tokens, d_k) # n_tokens x d_k\n",
    "K = torch.randn(n_tokens, d_k)\n",
    "V = torch.randn(n_tokens, d_k)\n",
    "\n",
    "# (n_tokens x d_k) @ (d_k x n_tokens) = (n_tokens x n_tokens)\n",
    "scores = Q @ K.T \n",
    "\n",
    "# Values can become large, so we scale them down by the square root of d_k\n",
    "# to prevent softmax from saturating\n",
    "# scaling keeps variance of the dot product more consistent\n",
    "# (n_tokens x n_tokens) / sqrt(d_k) = (n_tokens x n_tokens)\n",
    "scaled_score = scores / (d_k ** 0.5)\n",
    "\n",
    "# softmax to get attention weights last dimension\n",
    "# For each query, softamx is applied across all keys\n",
    "# converts each row to probaility distribution\n",
    "# the last diimension corresponds to the keys\n",
    "attn_weights = F.softmax(scaled_score, dim=-1)\n",
    "\n",
    "# (n_tokens x n_tokens) @ (n_tokens x d_k) = (n_tokens x d_k)\n",
    "# the attention weights are used to weight the values\n",
    "# the result is a weighted sum of the values\n",
    "output_original = attn_weights @ V\n",
    "\n",
    "output_original"
   ]
  },
  {
   "cell_type": "code",
   "execution_count": null,
   "id": "dbfbd318",
   "metadata": {},
   "outputs": [],
   "source": []
  }
 ],
 "metadata": {
  "kernelspec": {
   "display_name": ".venv",
   "language": "python",
   "name": "python3"
  },
  "language_info": {
   "codemirror_mode": {
    "name": "ipython",
    "version": 3
   },
   "file_extension": ".py",
   "mimetype": "text/x-python",
   "name": "python",
   "nbconvert_exporter": "python",
   "pygments_lexer": "ipython3",
   "version": "3.12.0"
  }
 },
 "nbformat": 4,
 "nbformat_minor": 5
}
