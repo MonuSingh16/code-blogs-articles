{
 "cells": [
  {
   "cell_type": "markdown",
   "id": "b62ef0c5",
   "metadata": {},
   "source": [
    "#### 1. An intuitive perspective to undertsand NN\n",
    "\n",
    "- In a neural network, the data undergoes a series of transformations at each hidden layer:\n",
    "\n",
    "- Linear transformation of data obtained from previous layer $W \\cdot a_{l-1} + b_l$\n",
    "\n",
    "- followed by a non-linearity using an activation function - ReLU, Sigmoid, Tanh etc\n"
   ]
  },
  {
   "cell_type": "markdown",
   "id": "6c75cbe9",
   "metadata": {},
   "source": [
    "#### 2. Non-Linearity to Linearity \n",
    "\n",
    "- As data pass through last hidden layer, the output layer is entirely linear, since all source of non-linearity exist on or before last hidden \n",
    "\n",
    "- Thus, to make accurate predictions, the data received by the output layer from the last hidden layer MUST BE linearly separable.\n",
    "\n",
    "- To project the data to a space where it becomes linearly separable by goin through all the tranformation in hidden layers\n",
    "\n",
    "- If it does, the output layer becomes analogous to a logistic regression model, which can easily handle this linearly separable data."
   ]
  },
  {
   "cell_type": "code",
   "execution_count": null,
   "id": "51da7e50",
   "metadata": {},
   "outputs": [],
   "source": []
  },
  {
   "cell_type": "code",
   "execution_count": null,
   "id": "66aa452e",
   "metadata": {},
   "outputs": [],
   "source": []
  },
  {
   "cell_type": "code",
   "execution_count": null,
   "id": "aeadeb54",
   "metadata": {},
   "outputs": [],
   "source": []
  }
 ],
 "metadata": {
  "kernelspec": {
   "display_name": "code-blogs-articles",
   "language": "python",
   "name": "python3"
  },
  "language_info": {
   "name": "python",
   "version": "3.12.0"
  }
 },
 "nbformat": 4,
 "nbformat_minor": 5
}
