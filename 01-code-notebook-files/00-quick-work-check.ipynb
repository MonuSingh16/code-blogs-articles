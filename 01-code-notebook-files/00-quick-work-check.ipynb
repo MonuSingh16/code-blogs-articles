{
 "cells": [
  {
   "cell_type": "code",
   "execution_count": null,
   "id": "b6ea7dbb",
   "metadata": {},
   "outputs": [],
   "source": [
    "import torch\n",
    "import torch.nn as nn\n",
    "\n",
    "class SelfAttention(nn.Module): # inherits nn.Module\n",
    "    def __init__(self, d_in, d_out, qkv_bias=False):\n",
    "        super().__init__() # calls nn.Module.__init__()\n",
    "        \n",
    "        # self.W_q = nn.Parameter(torch.rand(d_in, d_out))\n",
    "        # self.W_k = nn.Parameter(torch.rand(d_in, d_out))\n",
    "        # self.W_v = nn.Parameter(torch.rand(d_in, d_out))\n",
    "\n",
    "        self.W_q = nn.Linear(d_in, d_out, bias=qkv_bias)\n",
    "        self.W_k = nn.Linear(d_in, d_out, bias=qkv_bias)\n",
    "        self.W_v = nn.Linear(d_in, d_out, bias=qkv_bias)\n",
    "\n",
    "    def forward(self, x):\n",
    "        queries = x @ self.W_q\n",
    "        keys = x @ self.W_k\n",
    "        values = x @ self.W_v\n",
    "\n",
    "        attn_scores = queries @ keys.T\n",
    "        attn_weights = torch.softmax(\n",
    "            attn_scores / keys.shape[-1] ** 0.5, dim=-1\n",
    "        )\n",
    "        context_vec = attn_weights @ values\n",
    "        return context_vec"
   ]
  }
 ],
 "metadata": {
  "language_info": {
   "name": "python"
  }
 },
 "nbformat": 4,
 "nbformat_minor": 5
}
