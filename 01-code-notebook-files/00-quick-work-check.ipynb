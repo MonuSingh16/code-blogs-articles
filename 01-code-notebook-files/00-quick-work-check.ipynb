{
 "cells": [
  {
   "cell_type": "code",
   "execution_count": null,
   "id": "ed8dc1fa",
   "metadata": {},
   "outputs": [
    {
     "name": "stdout",
     "output_type": "stream",
     "text": [
      "6\n",
      "tensor([0.5500, 0.8700, 0.6600]) torch.Size([3])\n",
      "torch.Size([6])\n",
      "tensor(0.9544)\n",
      "tensor(1.4950)\n",
      "tensor(1.4754)\n",
      "tensor(0.8434)\n",
      "tensor(0.7070)\n",
      "tensor(1.0865)\n"
     ]
    }
   ],
   "source": [
    "import torch\n",
    "inputs = torch.tensor(\n",
    "[[0.43, 0.15, 0.89], # Your (x^1)\n",
    "[0.55, 0.87, 0.66], # journey (x^2)\n",
    "[0.57, 0.85, 0.64], # starts (x^3)\n",
    "[0.22, 0.58, 0.33], # with (x^4)\n",
    "[0.77, 0.25, 0.10], # one (x^5)\n",
    "[0.05, 0.80, 0.55]] # step (x^6)\n",
    ")\n",
    "print(inputs.shape[0])\n",
    "\n",
    "query = inputs[1]\n",
    "print(query, query.shape)\n",
    "\n",
    "attn_score_2 = torch.empty(inputs.shape[0])\n",
    "print(attn_score_2.shape)\n",
    "for i, x_i in enumerate(inputs):\n",
    "    attn_score_2 = torch.dot(x_i, query)\n",
    "    print(attn_score_2)\n",
    "\n"
   ]
  },
  {
   "cell_type": "code",
   "execution_count": null,
   "id": "b6ea7dbb",
   "metadata": {},
   "outputs": [],
   "source": [
    "import torch\n",
    "import torch.nn as nn\n",
    "\n",
    "class SelfAttention(nn.Module): # inherits nn.Module\n",
    "    def __init__(self, d_in, d_out, qkv_bias=False):\n",
    "        super().__init__() # calls nn.Module.__init__()\n",
    "        \n",
    "        # self.W_q = nn.Parameter(torch.rand(d_in, d_out))\n",
    "        # self.W_k = nn.Parameter(torch.rand(d_in, d_out))\n",
    "        # self.W_v = nn.Parameter(torch.rand(d_in, d_out))\n",
    "\n",
    "        self.W_q = nn.Linear(d_in, d_out, bias=qkv_bias)\n",
    "        self.W_k = nn.Linear(d_in, d_out, bias=qkv_bias)\n",
    "        self.W_v = nn.Linear(d_in, d_out, bias=qkv_bias)\n",
    "\n",
    "    def forward(self, x):\n",
    "        queries = x @ self.W_q\n",
    "        keys = x @ self.W_k\n",
    "        values = x @ self.W_v\n",
    "\n",
    "        attn_scores = queries @ keys.T\n",
    "        attn_weights = torch.softmax(\n",
    "            attn_scores / keys.shape[-1] ** 0.5, dim=-1\n",
    "        )\n",
    "        context_vec = attn_weights @ values\n",
    "        return context_vec"
   ]
  }
 ],
 "metadata": {
  "kernelspec": {
   "display_name": "code-blogs-articles",
   "language": "python",
   "name": "python3"
  },
  "language_info": {
   "codemirror_mode": {
    "name": "ipython",
    "version": 3
   },
   "file_extension": ".py",
   "mimetype": "text/x-python",
   "name": "python",
   "nbconvert_exporter": "python",
   "pygments_lexer": "ipython3",
   "version": "3.12.0"
  }
 },
 "nbformat": 4,
 "nbformat_minor": 5
}
