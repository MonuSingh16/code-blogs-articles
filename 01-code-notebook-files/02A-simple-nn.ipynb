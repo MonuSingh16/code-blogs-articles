{
 "cells": [
  {
   "cell_type": "code",
   "execution_count": 4,
   "id": "ea296e56",
   "metadata": {},
   "outputs": [
    {
     "name": "stdout",
     "output_type": "stream",
     "text": [
      "Epoch 0: Loss=398.6652\n",
      "Epoch 20: Loss=85.7614\n",
      "Epoch 40: Loss=18.6274\n",
      "Epoch 60: Loss=4.2167\n",
      "Epoch 80: Loss=1.1203\n",
      "Epoch 100: Loss=0.4534\n",
      "Epoch 120: Loss=0.3092\n",
      "Epoch 140: Loss=0.2777\n",
      "Epoch 160: Loss=0.2707\n",
      "Epoch 180: Loss=0.2691\n",
      "Input=5, Pred=11.026, True=11\n"
     ]
    }
   ],
   "source": [
    "import torch\n",
    "import torch.nn as nn\n",
    "import torch.optim as optim\n",
    "\n",
    "torch.manual_seed(0)\n",
    "\n",
    "# simple linear model for y = 2x + 1\n",
    "class SimpleLinear(nn.Module):\n",
    "    def __init__(self):\n",
    "        super().__init__()\n",
    "        self.lin = nn.Linear(1, 1)  # no hidden layer, no ReLU\n",
    "\n",
    "    def forward(self, x):\n",
    "        return self.lin(x)\n",
    "\n",
    "model = SimpleLinear()\n",
    "optimizer = optim.SGD(model.parameters(), lr=1e-2)  # small LR\n",
    "loss_fn = nn.MSELoss()\n",
    "\n",
    "# data\n",
    "x_train = torch.randn(100, 1) * 10.0\n",
    "y_train = 2.0 * x_train + 1.0 + torch.randn_like(x_train) * 0.5\n",
    "\n",
    "# training\n",
    "for epoch in range(200):\n",
    "    optimizer.zero_grad()\n",
    "    pred = model(x_train)\n",
    "    loss = loss_fn(pred, y_train)\n",
    "    loss.backward()\n",
    "    optimizer.step()\n",
    "    if epoch % 20 == 0:\n",
    "        print(f\"Epoch {epoch}: Loss={loss.item():.4f}\")\n",
    "\n",
    "# quick check\n",
    "x_test = torch.tensor([[5.0]])\n",
    "pred = model(x_test).item()\n",
    "print(f\"Input=5, Pred={pred:.3f}, True={2*5+1}\")"
   ]
  },
  {
   "cell_type": "code",
   "execution_count": null,
   "id": "d29ff085",
   "metadata": {},
   "outputs": [],
   "source": []
  }
 ],
 "metadata": {
  "kernelspec": {
   "display_name": "code-blogs-articles",
   "language": "python",
   "name": "python3"
  },
  "language_info": {
   "codemirror_mode": {
    "name": "ipython",
    "version": 3
   },
   "file_extension": ".py",
   "mimetype": "text/x-python",
   "name": "python",
   "nbconvert_exporter": "python",
   "pygments_lexer": "ipython3",
   "version": "3.12.0"
  }
 },
 "nbformat": 4,
 "nbformat_minor": 5
}
