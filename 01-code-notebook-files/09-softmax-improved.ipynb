{
 "cells": [
  {
   "cell_type": "code",
   "execution_count": null,
   "id": "f98de499",
   "metadata": {},
   "outputs": [],
   "source": [
    "import numpy as np\n",
    "\n",
    "def softmax(z: np.ndarray) -> np.ndarray:\n",
    "    \"\"\"\n",
    "    Computes a numerically stable softmax function.\n",
    "\n",
    "    Args:\n",
    "        z (np.ndarray): A 1D or 2D array of raw scores (logits).\n",
    "\n",
    "    Returns:\n",
    "        np.ndarray: The probability distribution.\n",
    "    \"\"\"\n",
    "    # Ensure z is at least 2D for consistent max operation\n",
    "    if z.ndim == 1:\n",
    "        z = z.reshape(1, -1)\n",
    "\n",
    "    # The stability trick: subtract the max for each sample\n",
    "    max_z = np.max(z, axis=1, keepdims=True)\n",
    "    exp_z = np.exp(z - max_z)\n",
    "    \n",
    "    # Normalize to get probabilities\n",
    "    probabilities = exp_z / np.sum(exp_z, axis=1, keepdims=True)\n",
    "    \n",
    "    return probabilities.squeeze() # Remove extra dimension if input was 1D\n",
    "\n",
    "# --- Example Usage ---\n",
    "# Works for small numbers\n",
    "logits = np.array([2.0, 1.0, 0.1])\n",
    "print(f\"Softmax on small logits:\\n{softmax(logits)}\\n\")\n",
    "# Output: [0.66524096 0.24472847 0.09003057]\n",
    "\n",
    "# Works for large numbers without overflow\n",
    "logits_large = np.array([1000, 1010, 990])\n",
    "print(f\"Softmax on large logits:\\n{softmax(logits_large)}\")\n",
    "# Output: [4.53978687e-05 9.99954600e-01 2.06106005e-09]"
   ]
  },
  {
   "cell_type": "code",
   "execution_count": 6,
   "id": "10631478",
   "metadata": {},
   "outputs": [
    {
     "name": "stdout",
     "output_type": "stream",
     "text": [
      "(3,)\n",
      "(1, 3)\n",
      "[[2.]]\n"
     ]
    }
   ],
   "source": [
    "import numpy as np\n",
    "\n",
    "logits = np.array([2.0, 1.0, 0.1])\n",
    "print(logits.shape)\n",
    "\n",
    "if logits.ndim == 1:\n",
    "    logits = logits.reshape(1, -1)\n",
    "\n",
    "print(logits.shape)\n",
    "max_logits = np.max(logits, axis=1, keepdims=True)\n",
    "print(max_logits)"
   ]
  }
 ],
 "metadata": {
  "kernelspec": {
   "display_name": "code-blogs-articles",
   "language": "python",
   "name": "python3"
  },
  "language_info": {
   "codemirror_mode": {
    "name": "ipython",
    "version": 3
   },
   "file_extension": ".py",
   "mimetype": "text/x-python",
   "name": "python",
   "nbconvert_exporter": "python",
   "pygments_lexer": "ipython3",
   "version": "3.12.0"
  }
 },
 "nbformat": 4,
 "nbformat_minor": 5
}
