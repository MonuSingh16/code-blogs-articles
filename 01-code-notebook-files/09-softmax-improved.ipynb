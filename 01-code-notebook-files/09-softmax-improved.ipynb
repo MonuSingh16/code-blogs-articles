{
 "cells": [
  {
   "cell_type": "code",
   "execution_count": 15,
   "id": "f98de499",
   "metadata": {},
   "outputs": [
    {
     "name": "stdout",
     "output_type": "stream",
     "text": [
      "Softmax on small logits:\n",
      "[0.65900114 0.24243297 0.09856589]\n",
      "\n",
      "Softmax on large logits:\n",
      "[4.53978686e-05 9.99954600e-01 2.06106005e-09]\n"
     ]
    }
   ],
   "source": [
    "import numpy as np\n",
    "\n",
    "def softmax(z: np.ndarray) -> np.ndarray:\n",
    "    \"\"\"\n",
    "    Computes a numerically stable softmax function.\n",
    "\n",
    "    Args:\n",
    "        z (np.ndarray): A 1D or 2D array of raw scores (logits).\n",
    "\n",
    "    Returns:\n",
    "        np.ndarray: The probability distribution.\n",
    "    \"\"\"\n",
    "    # Ensure z is at least 2D for consistent max operation\n",
    "    if z.ndim == 1:\n",
    "        z = z.reshape(1, -1)\n",
    "\n",
    "    # The stability trick: subtract the max for each sample\n",
    "    max_z = np.max(z, axis=1, keepdims=True)\n",
    "    exp_z = np.exp(z - max_z)\n",
    "    \n",
    "    # Normalize to get probabilities\n",
    "    probabilities = exp_z / np.sum(exp_z, axis=1, keepdims=True)\n",
    "    \n",
    "    return probabilities.squeeze() # Remove extra dimension if input was 1D\n",
    "\n",
    "# --- Example Usage ---\n",
    "# Works for small numbers\n",
    "logits = np.array([2.0, 1.0, 0.1])\n",
    "print(f\"Softmax on small logits:\\n{softmax(logits)}\\n\")\n",
    "# Output: [0.66524096 0.24472847 0.09003057]\n",
    "\n",
    "# Works for large numbers without overflow\n",
    "logits_large = np.array([1000, 1010, 990])\n",
    "print(f\"Softmax on large logits:\\n{softmax(logits_large)}\")\n",
    "# Output: [4.53978687e-05 9.99954600e-01 2.06106005e-09]"
   ]
  },
  {
   "cell_type": "code",
   "execution_count": null,
   "id": "10631478",
   "metadata": {},
   "outputs": [
    {
     "name": "stdout",
     "output_type": "stream",
     "text": [
      "(3,)\n",
      "(1, 3)\n",
      "(1, 1)\n",
      "1\n"
     ]
    }
   ],
   "source": [
    "import numpy as np\n",
    "\n",
    "logits = np.array([2.0, 1.0, 0.1])\n",
    "print(logits.shape)\n",
    "\n",
    "if logits.ndim == 1:\n",
    "    logits = logits.reshape(1, -1) # (2D with 1 row, -1 for infer cols)\n",
    "\n",
    "\n",
    "print(logits.shape)\n",
    "# axis = 0 rows, axis = 1 columns\n",
    "# keepdims preserves the reduced dim as shape of (1, 1) - for broadcasting\n",
    "# so if to prefer original 1D result, remove extra dim by .squeeze()\n",
    "max_logits = np.max(logits, axis=1, keepdims=True)\n",
    "print(max_logits.shape)\n",
    "print(max_logits.size)"
   ]
  },
  {
   "cell_type": "code",
   "execution_count": null,
   "id": "1f80740b",
   "metadata": {},
   "outputs": [],
   "source": [
    "z = np.array([[2.0, 1.0, 0.1]])  # shape (1, 3)\n",
    "print(np.max(z, axis=1).squeeze())         # [2.0]  (max of the row)"
   ]
  },
  {
   "cell_type": "code",
   "execution_count": null,
   "id": "932ac441",
   "metadata": {},
   "outputs": [
    {
     "name": "stdout",
     "output_type": "stream",
     "text": [
      "2.0\n",
      "[2. 5.]\n"
     ]
    }
   ],
   "source": [
    "\n",
    "#axis = 1 means \"operate across columns (i.e for each row do something across its columns)\" i.e. find max in eac row (Across its columns)\n",
    "# axis = 0 , means down the rows, for each column, do across the columns\n",
    "z = np.array([[2.0, 1.0, 0.1],\n",
    "              [5.0, 3.0, 4.0]])  # shape (2, 3)\n",
    "print(np.max(z, axis=1).squeeze())         # [2.0, 5.0] (max of each row)"
   ]
  },
  {
   "cell_type": "code",
   "execution_count": 29,
   "id": "ae785c22",
   "metadata": {},
   "outputs": [
    {
     "name": "stdout",
     "output_type": "stream",
     "text": [
      "tensor([0.6590, 0.2424, 0.0986])\n",
      "torch.Size([3])\n"
     ]
    },
    {
     "data": {
      "text/plain": [
       "tensor([0.6590, 0.2424, 0.0986])"
      ]
     },
     "execution_count": 29,
     "metadata": {},
     "output_type": "execute_result"
    }
   ],
   "source": [
    "import torch\n",
    "\n",
    "x = torch.tensor([2.0, 1.0, 0.1])  # shape (2, 3)\n",
    "\n",
    "# Standard softmax across classes (per row), i.e. for each sample row wise \n",
    "# to run the softmax across the classes or columns\n",
    "\n",
    "softmax = torch.exp(x) / torch.exp(x).sum(dim=0, keepdim=True)\n",
    "print(softmax)\n",
    "print(softmax.shape)\n",
    "softmax.squeeze()"
   ]
  },
  {
   "cell_type": "code",
   "execution_count": 27,
   "id": "da338736",
   "metadata": {},
   "outputs": [
    {
     "name": "stdout",
     "output_type": "stream",
     "text": [
      "tensor([[0.6590, 0.2424, 0.0986],\n",
      "        [0.1131, 0.8360, 0.0508]])\n"
     ]
    }
   ],
   "source": [
    "import torch\n",
    "\n",
    "x = torch.tensor([[2.0, 1.0, 0.1],\n",
    "                 [1.0, 3.0, 0.2]])  # shape (2, 3)\n",
    "\n",
    "# Standard softmax across classes (per row), i.e. for each sample row wise \n",
    "# to run the softmax across the classes or columns\n",
    "\n",
    "softmax = torch.exp(x) / torch.exp(x).sum(dim=1, keepdim=True)\n",
    "print(softmax)"
   ]
  }
 ],
 "metadata": {
  "kernelspec": {
   "display_name": "code-blogs-articles",
   "language": "python",
   "name": "python3"
  },
  "language_info": {
   "codemirror_mode": {
    "name": "ipython",
    "version": 3
   },
   "file_extension": ".py",
   "mimetype": "text/x-python",
   "name": "python",
   "nbconvert_exporter": "python",
   "pygments_lexer": "ipython3",
   "version": "3.12.0"
  }
 },
 "nbformat": 4,
 "nbformat_minor": 5
}
