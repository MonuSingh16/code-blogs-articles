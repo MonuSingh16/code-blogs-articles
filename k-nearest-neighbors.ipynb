{
 "cells": [
  {
   "cell_type": "markdown",
   "metadata": {},
   "source": [
    "### K Nearest Neighbors\n",
    "\n",
    "K-Nearest Neighbors (KNN) is a simple and intuitive supervised machine learning algorithm used for both classification and regression tasks. It makes predictions based on the majority class (for classification) or the average of the nearest neighbors' target values (for regression)."
   ]
  },
  {
   "cell_type": "markdown",
   "metadata": {},
   "source": [
    "#### Algoritm and Pseudo-Code"
   ]
  },
  {
   "cell_type": "raw",
   "metadata": {},
   "source": [
    "Algorithm: K-Nearest Neighbors (KNN)\n",
    "\n",
    "Inputs:\n",
    "- X_train: Training feature matrix (m_train x n)\n",
    "- y_train: Training labels (m_train x 1)\n",
    "- X_test: Test feature matrix (m_test x n)\n",
    "- k: Number of neighbors to consider\n",
    "\n",
    "Output:\n",
    "- y_pred: Predicted labels for X_test\n",
    "\n",
    "Procedure:\n",
    "1. For each instance in X_test:\n",
    "   1.1 Calculate the distance between the instance and all instances in X_train using a \n",
    "        distance metric (e.g., Euclidean distance).\n",
    "   1.2 Sort the distances and identify the k-nearest neighbors.\n",
    "   1.3 For classification: Assign the most common class label among the k-nearest neighbors as \n",
    "        the predicted label for the instance.\n",
    "       For regression: Assign the average of the target values of the k-nearest neighbors as \n",
    "        the predicted value for the instance.\n",
    "\n",
    "Pseudo-Code:\n",
    "\n",
    "function knn(X_train, y_train, X_test, k):\n",
    "    y_pred = []\n",
    "    for each instance in X_test:\n",
    "        distances = calculate_distances(instance, X_train)  // Use a distance metric, e.g., Euclidean distance\n",
    "        indices = sort(distances)[:k]  // Index of k-nearest neighbors\n",
    "        neighbors = y_train[indices]\n",
    "        if classification:\n",
    "            prediction = most_common(neighbors)\n",
    "        else if regression:\n",
    "            prediction = mean(neighbors)\n",
    "        y_pred.append(prediction)\n",
    "    return y_pred\n"
   ]
  },
  {
   "cell_type": "code",
   "execution_count": 2,
   "metadata": {},
   "outputs": [
    {
     "name": "stdout",
     "output_type": "stream",
     "text": [
      "Predictions: [0 1]\n"
     ]
    }
   ],
   "source": [
    "import numpy as np\n",
    "\n",
    "class KNNClassifier:\n",
    "\n",
    "    def __init__(self, k=3):\n",
    "        self.k = k\n",
    "\n",
    "    def fit(self, X_train, y_train):\n",
    "        self.X_train = X_train\n",
    "        self.y_train = y_train\n",
    "\n",
    "    def predict(self, X_test):\n",
    "        predictions = []\n",
    "        for x in X_test:\n",
    "            distances = np.linalg.norm(self.X_train - x, axis=1)\n",
    "            indices = np.argsort(distances)[:self.k]\n",
    "            neighbors = self.y_train[indices]\n",
    "            prediction = np.bincount(neighbors).argmax()\n",
    "            predictions.append(prediction)\n",
    "        \n",
    "        return np.array(predictions)\n",
    "    \n",
    "\n",
    "# Example usage:\n",
    "# Generate synthetic data\n",
    "np.random.seed(42)\n",
    "X_train = np.random.rand(10, 2)\n",
    "y_train = (X_train[:, 0] + X_train[:, 1] > 1).astype(int)\n",
    "\n",
    "X_test = np.array([[0.4, 0.6], [0.7, 0.3]])\n",
    "\n",
    "# Instantiate and train the KNN model\n",
    "knn_model = KNNClassifier(k=3)\n",
    "knn_model.fit(X_train, y_train)\n",
    "\n",
    "# Make predictions\n",
    "predictions = knn_model.predict(X_test)\n",
    "\n",
    "print(\"Predictions:\", predictions)"
   ]
  },
  {
   "cell_type": "code",
   "execution_count": 3,
   "metadata": {},
   "outputs": [
    {
     "name": "stdout",
     "output_type": "stream",
     "text": [
      "Predictions (scikit-learn): [0 1]\n"
     ]
    }
   ],
   "source": [
    "from sklearn.neighbors import KNeighborsClassifier\n",
    "\n",
    "# Example usage with scikit-learn\n",
    "# Generate synthetic data\n",
    "np.random.seed(42)\n",
    "X_train = np.random.rand(10, 2)\n",
    "y_train = (X_train[:, 0] + X_train[:, 1] > 1).astype(int)\n",
    "\n",
    "X_test = np.array([[0.4, 0.6], [0.7, 0.3]])\n",
    "\n",
    "# Instantiate and train the KNN model from scikit-learn\n",
    "knn_model_sklearn = KNeighborsClassifier(n_neighbors=3)\n",
    "knn_model_sklearn.fit(X_train, y_train)\n",
    "\n",
    "# Make predictions\n",
    "predictions_sklearn = knn_model_sklearn.predict(X_test)\n",
    "\n",
    "print(\"Predictions (scikit-learn):\", predictions_sklearn)"
   ]
  },
  {
   "cell_type": "code",
   "execution_count": null,
   "metadata": {},
   "outputs": [],
   "source": []
  }
 ],
 "metadata": {
  "kernelspec": {
   "display_name": "venv-dl-1.0",
   "language": "python",
   "name": "python3"
  },
  "language_info": {
   "codemirror_mode": {
    "name": "ipython",
    "version": 3
   },
   "file_extension": ".py",
   "mimetype": "text/x-python",
   "name": "python",
   "nbconvert_exporter": "python",
   "pygments_lexer": "ipython3",
   "version": "3.9.18"
  }
 },
 "nbformat": 4,
 "nbformat_minor": 2
}
