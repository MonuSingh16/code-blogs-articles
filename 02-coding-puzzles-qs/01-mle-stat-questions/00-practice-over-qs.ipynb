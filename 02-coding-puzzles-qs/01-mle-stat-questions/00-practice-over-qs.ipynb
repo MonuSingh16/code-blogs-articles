{
 "cells": [
  {
   "cell_type": "code",
   "execution_count": 21,
   "metadata": {},
   "outputs": [
    {
     "data": {
      "text/plain": [
       "0.5000587522027157"
      ]
     },
     "execution_count": 21,
     "metadata": {},
     "output_type": "execute_result"
    }
   ],
   "source": [
    "# Implement CLT\n",
    "import numpy as np\n",
    "def simulate_clt(num_samples:int, sample_size:int, distribution:str) -> float:\n",
    "    sample_means = []\n",
    "    for _ in range(num_samples):\n",
    "        if distribution == \"uniform\":\n",
    "            data = np.random.uniform(0, 1, size=sample_size)\n",
    "        elif distribution == \"exponential\":\n",
    "            data = np.random.exponential(1, size=sample_size)\n",
    "        else:\n",
    "            raise ValueError(\"Unsupported Distribution\")\n",
    "        sample_means.append(np.mean(data))\n",
    "    return float(np.mean(sample_means))\n",
    "\n",
    "simulate_clt(2574, 200, 'uniform')"
   ]
  },
  {
   "cell_type": "code",
   "execution_count": 1,
   "metadata": {},
   "outputs": [
    {
     "name": "stdout",
     "output_type": "stream",
     "text": [
      "0.75\n"
     ]
    }
   ],
   "source": [
    "# Implement Recall\n",
    "# Recall = TP / TP + FN\n",
    "import numpy as np\n",
    "def recall(y_true, y_pred):\n",
    "    tp = np.sum((y_true==1)&(y_pred==1))\n",
    "    fn = np.sum((y_true==1)&(y_pred==0))\n",
    "\n",
    "    try:\n",
    "        return round((tp / (tp + fn)), 3)\n",
    "    except ZeroDivisionError:\n",
    "        return 0.0\n",
    "\n",
    "y_true = np.array([1, 0, 1, 1, 0, 1])\n",
    "y_pred = np.array([1, 0, 1, 0, 0, 1])\n",
    "\n",
    "print(recall(y_true, y_pred))"
   ]
  },
  {
   "cell_type": "code",
   "execution_count": 3,
   "metadata": {},
   "outputs": [],
   "source": [
    "import math\n",
    "def elu(x: float, alpha: float = 1.0) -> float:\n",
    "\t\"\"\"\n",
    "\tCompute the ELU activation function.\n",
    "\n",
    "\tArgs:\n",
    "\t\tx (float): Input value\n",
    "\t\talpha (float): ELU parameter for negative values (default: 1.0)\n",
    "\n",
    "\tReturns:\n",
    "\t\tfloat: ELU activation value\n",
    "\t\"\"\"\n",
    "\t# Your code here\n",
    "\tif x > 0:\n",
    "\t\treturn round(float(x), 4)\n",
    "    \n",
    "\treturn round(alpha * (math.exp(x) - 1), 4)"
   ]
  },
  {
   "cell_type": "code",
   "execution_count": 4,
   "metadata": {},
   "outputs": [
    {
     "name": "stdout",
     "output_type": "stream",
     "text": [
      "The output when we unpack ->  [1, 2, 3] [4, 5, 6]\n",
      "\n",
      "The ouput when we zip the unpacked list -> [(1, 4), (2, 5), (3, 6)]\n"
     ]
    }
   ],
   "source": [
    "### Q1. Transpose a Matrix [LinearAlgebra]\n",
    "# Write a python function that computes the tranpose of a give matrix\n",
    "# The tranpose of a matrix is obtaned by flipping rows and columns\n",
    "\n",
    "a = [[1, 2, 3], [4, 5, 6]]\n",
    "#list(zip(*a)) # use to unpack operator * to the list\n",
    "print('The output when we unpack -> ', *a) # To unpack from list of list.\n",
    "print('\\nThe ouput when we zip the unpacked list ->', list(zip(*a))) # Zip the two list element wise\n",
    "[list(i) for i in zip(*a)] # comprehension\n",
    "\n",
    "def tranpose_matrix(a):\n",
    "    b = [list(i) for i in zip(*a)]\n",
    "    return b\n"
   ]
  },
  {
   "cell_type": "code",
   "execution_count": null,
   "metadata": {},
   "outputs": [],
   "source": []
  },
  {
   "cell_type": "code",
   "execution_count": null,
   "metadata": {},
   "outputs": [],
   "source": []
  },
  {
   "cell_type": "code",
   "execution_count": null,
   "metadata": {},
   "outputs": [],
   "source": []
  }
 ],
 "metadata": {
  "kernelspec": {
   "display_name": "code-interview-prep",
   "language": "python",
   "name": "python3"
  },
  "language_info": {
   "codemirror_mode": {
    "name": "ipython",
    "version": 3
   },
   "file_extension": ".py",
   "mimetype": "text/x-python",
   "name": "python",
   "nbconvert_exporter": "python",
   "pygments_lexer": "ipython3",
   "version": "3.12.0"
  }
 },
 "nbformat": 4,
 "nbformat_minor": 2
}
