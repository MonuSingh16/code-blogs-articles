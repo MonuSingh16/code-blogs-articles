{
 "cells": [
  {
   "cell_type": "code",
   "execution_count": 1,
   "metadata": {},
   "outputs": [
    {
     "data": {
      "text/plain": [
       "'\\nUniform Distribution:\\n\\nQuestion: What does it mean for a random number generator to be uniform?\\n\\nDiscussion: A uniform random number generator produces numbers such that every number in the interval \\nhas an equal probability of being chosen. In this case, every number in \\n[0,1) is equally likely, which is essential for ensuring that each die face (after the transformation) is equally probable.\\n\\nRandom Seed and Reproducibility:\\n\\nQuestion: Why do we set a random seed, and what does it achieve?\\nDiscussion: Setting a fixed seed (e.g., 42) ensures that every time the code is run, \\nthe same sequence of random numbers is generated. This is crucial for debugging, testing, and reproducible results in experiments.\\n\\nMapping Continuous to Discrete:\\nQuestion: How do you ensure that the mapping from the continuous range \\n[0,1) to the discrete set \\n{1,2,3,4,5,6} is uniform?\\n\\nDiscussion: Multiplying by 6 and flooring ensures that the interval \\n[0,1) is partitioned into 6 equal subintervals. Each subinterval corresponds to one of the die outcomes, ensuring uniformity.\\n\\nFloating Point Precision:\\nQuestion: Are there any concerns with floating-point precision when scaling the random numbers?\\nDiscussion: Floating-point precision can theoretically cause issues at the boundaries of intervals, \\nbut for most practical purposes (and given that random.random() returns a number in \\n[0,1) not including 1), this approach is safe.\\n\\nAlternative Random Functions:\\nQuestion: Could you use another function from the random module to simplify this?\\nDiscussion: Yes, functions like random.randint(1, 6) can generate a random integer in the specified range directly. \\nHowever, this interview question explicitly asks for using a uniform random generator from \\n[0,1), which is why we perform the scaling and mapping manually.\\n'"
      ]
     },
     "execution_count": 1,
     "metadata": {},
     "output_type": "execute_result"
    }
   ],
   "source": [
    "## Q4. Fair Die Simulation\n",
    "\n",
    "## Simulate the roll of a fair 6-face die using a uniform random generator [0, 1].\n",
    "## The function should take an integer n as an argument, representing the number of times the die should be rolled, \n",
    "## and return a list of results.\n",
    "## Note: Use a fixed random seed of 42 to ensure that the results are reproducible.\n",
    "import random\n",
    "from typing import List\n",
    "def roll_die(n: int) -> List[int]:\n",
    "    random.seed(42) # fixed seed\n",
    "    results = []\n",
    "    for _ in range(n):\n",
    "        results.append(int(random.random() * 6)+ 1)\n",
    "    return results\n",
    "\n",
    "'''\n",
    "Uniform Distribution:\n",
    "\n",
    "Question: What does it mean for a random number generator to be uniform?\n",
    "\n",
    "Discussion: A uniform random number generator produces numbers such that every number in the interval \n",
    "has an equal probability of being chosen. In this case, every number in \n",
    "[0,1) is equally likely, which is essential for ensuring that each die face (after the transformation) is equally probable.\n",
    "\n",
    "Random Seed and Reproducibility:\n",
    "\n",
    "Question: Why do we set a random seed, and what does it achieve?\n",
    "Discussion: Setting a fixed seed (e.g., 42) ensures that every time the code is run, \n",
    "the same sequence of random numbers is generated. This is crucial for debugging, testing, and reproducible results in experiments.\n",
    "\n",
    "Mapping Continuous to Discrete:\n",
    "Question: How do you ensure that the mapping from the continuous range \n",
    "[0,1) to the discrete set \n",
    "{1,2,3,4,5,6} is uniform?\n",
    "\n",
    "Discussion: Multiplying by 6 and flooring ensures that the interval \n",
    "[0,1) is partitioned into 6 equal subintervals. Each subinterval corresponds to one of the die outcomes, ensuring uniformity.\n",
    "\n",
    "Floating Point Precision:\n",
    "Question: Are there any concerns with floating-point precision when scaling the random numbers?\n",
    "Discussion: Floating-point precision can theoretically cause issues at the boundaries of intervals, \n",
    "but for most practical purposes (and given that random.random() returns a number in \n",
    "[0,1) not including 1), this approach is safe.\n",
    "\n",
    "Alternative Random Functions:\n",
    "Question: Could you use another function from the random module to simplify this?\n",
    "Discussion: Yes, functions like random.randint(1, 6) can generate a random integer in the specified range directly. \n",
    "However, this interview question explicitly asks for using a uniform random generator from \n",
    "[0,1), which is why we perform the scaling and mapping manually.\n",
    "'''\n",
    "\n"
   ]
  }
 ],
 "metadata": {
  "kernelspec": {
   "display_name": "code-interview-prep",
   "language": "python",
   "name": "python3"
  },
  "language_info": {
   "codemirror_mode": {
    "name": "ipython",
    "version": 3
   },
   "file_extension": ".py",
   "mimetype": "text/x-python",
   "name": "python",
   "nbconvert_exporter": "python",
   "pygments_lexer": "ipython3",
   "version": "3.12.0"
  }
 },
 "nbformat": 4,
 "nbformat_minor": 2
}
