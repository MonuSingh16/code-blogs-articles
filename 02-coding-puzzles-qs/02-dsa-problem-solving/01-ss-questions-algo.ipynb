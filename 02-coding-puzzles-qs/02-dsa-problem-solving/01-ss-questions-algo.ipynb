{
 "cells": [
  {
   "cell_type": "code",
   "execution_count": 2,
   "metadata": {},
   "outputs": [],
   "source": [
    "## Q1. Unique Order Values\n",
    "## Find unique values in a given list.\n",
    "from typing import List\n",
    "\n",
    "def unique_value_list(nums: List[int]) -> List[int]:\n",
    "    ''' \n",
    "    Remove duplicate integers from the list while preserving the original order.\n",
    "\n",
    "    Args:\n",
    "        nums (List[int]): A list of integers that may contain duplicates.\n",
    "\n",
    "    Returns:\n",
    "        List[int]: A list of integers with duplicates removed, preserving the original order.\n",
    "    '''\n",
    "    res = set()\n",
    "    output = []\n",
    "    \n",
    "    for num in nums:\n",
    "        if num not in res:\n",
    "            res.add(num) # add to set\n",
    "            output.append(num) # add to list\n",
    "    return output # to preserve order\n",
    "\n"
   ]
  },
  {
   "cell_type": "code",
   "execution_count": 3,
   "metadata": {},
   "outputs": [],
   "source": [
    "## Q2. Palindrome Checker\n",
    "## Check if a given input is a palindrome.\n",
    "### Strictness of the Palindrome Check:\n",
    "### Before implementing, clarify if spaces, punctuation, and case should be considered. \n",
    "### For example, a “strict” palindrome check (as in your code) compares all characters,\n",
    "### whereas a more flexible approach might ignore case and non-alphanumeric characters.\n",
    "def is_palindrome(s):\n",
    "    \"\"\" \n",
    "    :type s: str\n",
    "    :rtype: bool\n",
    "    \"\"\"\n",
    "    #return s == s[::-1]\n",
    "    #Creates an extra copy of the string, so it uses O(n) extra space.\n",
    "    #Might not be ideal for extremely large strings or in a memory-constrained environment.\n",
    "    #s = re.sub(r'[a-zA-Z0-9]', '', s).lower()\n",
    "    left, right = 0, len(s) - 1\n",
    "    while left < right:\n",
    "        if s[left] != s[right]:\n",
    "            return False\n",
    "        left += 1\n",
    "        right -= 1\n",
    "    return True"
   ]
  },
  {
   "cell_type": "code",
   "execution_count": 4,
   "metadata": {},
   "outputs": [],
   "source": [
    "## Q3. Common Element with Repeated Values\n",
    "### Find common elements in 2 given lists and return all aspects even if they are repeated.\n",
    "### Idea:\n",
    "\n",
    "#Use a hash table to count the frequency of each element in both lists.\n",
    "#For each element that exists in both lists, the number of times it should appear in the result is the minimum count from both lists.\n",
    "#Time Complexity:\n",
    "#O(n + m), where n and m are the sizes of the two lists.\n",
    "#Space Complexity:\n",
    "#O(n + m) for the hash maps.\n",
    "#Hash Map Approach:\n",
    "#Efficient for unsorted data with a time complexity of O(n + m).\n",
    "\n",
    "#Sorting & Two-Pointers Approach:\n",
    "#Useful for sorted arrays and can sometimes reduce extra space usage, but with a higher time complexity due to sorting.\n",
    "\n",
    "from collections import Counter\n",
    "def common_elements(list1: List[int], list2: List[int]) -> List[int]:\n",
    "    '''\n",
    "    \n",
    "    '''\n",
    "    # Edge case: if either list is empty, return an empty list.\n",
    "    if not list1 or not list2:\n",
    "        return []\n",
    "    \n",
    "    count1 = Counter(list1)\n",
    "    count2 = Counter(list2)\n",
    "\n",
    "    common = []\n",
    "    for elem in count1.keys() & count2.keys(): # Find common unique elements\n",
    "        common.extend([elem] * min(count1[elem], count2[elem])) # Repeat min times found in both\n",
    "    \n",
    "    return common\n"
   ]
  },
  {
   "cell_type": "code",
   "execution_count": null,
   "metadata": {},
   "outputs": [],
   "source": [
    "# Q4. Write a function to find the median of a given list efficiently.\n",
    "# Optimization:\n",
    "# * \"While this solution is correct, it's not the most efficient. Sorting the entire list is more work than necessary to find the median.\"\n",
    "# * Mention Quickselect as a potential algorithm to find the k-th smallest element (where k is the middle element for the median) in average O(n) time.\n",
    "# * State the worst-case time complexity of Quickselect is O(n^2), but the average case is much better.\n",
    "# * Discuss the trade-off: Sorting is simpler to understand and implement quickly, but Quickselect (or a similar selection algorithm) is more efficient on average for finding the median.\n",
    "# * Mention that Python's statistics.median() is highly optimized.\n",
    "\n",
    "# Alternative Data Structures (If the interviewer hints at it):\n",
    "# * If the interviewer asks about finding the median of a stream of numbers, discuss using two heaps (max-heap and min-heap). \n",
    "#  Explain how this allows you to maintain a sorted order of the \"middle\" of the data with O(log n) insertion and O(1) median retrieval.\n",
    "\n",
    "def find_median(lst):\n",
    "    \"\"\" \n",
    "    :type lst: List[int]\n",
    "    :rtype: float\n",
    "    \"\"\"\n",
    "    if not lst:\n",
    "        return None\n",
    "    \n",
    "    for x in lst:\n",
    "        if not isinstance(x, (int, float)):\n",
    "            return \n",
    "            \n",
    "    sorted_lst = sorted(lst) # sorting the list # T: O(nlogn) time, S: O(n)\n",
    "    n = len(sorted_lst) # length of list\n",
    "    if n % 2 == 0: # if even no of elements\n",
    "        median = (sorted_lst[n//2 - 1] + sorted_lst[n//2]) / 2\n",
    "        #calculated as average of two middle elements\n",
    "        # if 8 elements then index would be 3, 4, in 0 index systemt\n",
    "    else:\n",
    "        median = sorted_lst[n//2]\n",
    "        # midle element in odd elements of list, in 0 indexed system\n",
    "    return median"
   ]
  },
  {
   "cell_type": "code",
   "execution_count": 5,
   "metadata": {},
   "outputs": [
    {
     "data": {
      "text/plain": [
       "4"
      ]
     },
     "execution_count": 5,
     "metadata": {},
     "output_type": "execute_result"
    }
   ],
   "source": [
    "lst = [7, 3, 8, -1, 4, 0, 5, 2]\n",
    "n = 8\n",
    "n //2"
   ]
  },
  {
   "cell_type": "code",
   "execution_count": null,
   "metadata": {},
   "outputs": [],
   "source": []
  },
  {
   "cell_type": "code",
   "execution_count": null,
   "metadata": {},
   "outputs": [],
   "source": []
  }
 ],
 "metadata": {
  "kernelspec": {
   "display_name": "code-interview-prep",
   "language": "python",
   "name": "python3"
  },
  "language_info": {
   "codemirror_mode": {
    "name": "ipython",
    "version": 3
   },
   "file_extension": ".py",
   "mimetype": "text/x-python",
   "name": "python",
   "nbconvert_exporter": "python",
   "pygments_lexer": "ipython3",
   "version": "3.12.0"
  }
 },
 "nbformat": 4,
 "nbformat_minor": 2
}
