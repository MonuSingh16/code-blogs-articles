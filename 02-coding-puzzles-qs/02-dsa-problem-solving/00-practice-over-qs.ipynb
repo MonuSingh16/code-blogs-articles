{
 "cells": [
  {
   "cell_type": "code",
   "execution_count": null,
   "id": "db243e3a",
   "metadata": {},
   "outputs": [],
   "source": [
    "# Product of array except itself\n",
    "from typing import List\n",
    "\n",
    "class Solution:\n",
    "    def productArray(self, nums:List[int]) -> List[int]:\n",
    "        res = [1] * len(nums)\n",
    "        prefix = 1\n",
    "        for i in range(len(nums)):\n",
    "            res = prefix # 0->1, 1->1, 2->2, 3->6\n",
    "            prefix[i] *= nums[i] # 0->1*1=1, 1-> 1*2=2, 2->2*3=6 , 3->6*4=24\n",
    "        #res = [1, 1, 2, 6]\n",
    "        postfix = 1\n",
    "        for i in range(len(nums)-1, -1, -1):\n",
    "            res[i] *= postfix # 4-> 6*1=6, 3-> 2*4=8, 2->1*12=12,  \n",
    "            postfix[i] *= nums[i] # 4 -> 1*4-=4, 3-> 4*3=12, 2-> 12*1=48\n",
    "\n",
    "        return res\n"
   ]
  },
  {
   "cell_type": "code",
   "execution_count": 4,
   "id": "eb501a21",
   "metadata": {},
   "outputs": [
    {
     "name": "stdout",
     "output_type": "stream",
     "text": [
      "9\n"
     ]
    }
   ],
   "source": [
    "# Number of zeros filled subarray\n",
    "from typing import List\n",
    "\n",
    "class Solution:\n",
    "    def zeroFilledSubarray(self, nums: List[int]) -> int:\n",
    "        res, count = 0, 0\n",
    "        for i in range(len(nums)):\n",
    "            if nums[i] == 0:\n",
    "                count += 1\n",
    "            else:\n",
    "                count = 0\n",
    "            res += count\n",
    "        return res\n",
    "\n",
    "nums = [0,0,0,2,0,0]\n",
    "solzero = Solution()\n",
    "print(solzero.zeroFilledSubarray(nums))\n"
   ]
  },
  {
   "cell_type": "code",
   "execution_count": null,
   "id": "7a6a2dc2",
   "metadata": {},
   "outputs": [
    {
     "name": "stdout",
     "output_type": "stream",
     "text": [
      "7\n"
     ]
    }
   ],
   "source": [
    "# 122. Best time to buys & sell stock - II\n",
    "# 1 <= prices.length <= 3 * 104\n",
    "# 0 <= prices[i] <= 104\n",
    "from typing import List\n",
    "\n",
    "class Solution:\n",
    "    def maxProfit(self, prices:List[int]) -> int:\n",
    "        total_profit = 0\n",
    "        \n",
    "        for i in range(1, len(prices)): # compare between prev_day price and current price\n",
    "            # if the neighbour price is less than current price.\n",
    "            # today's price is greater than yesterdays, build profit and add to total_profit\n",
    "            if prices[i] >= prices[i-1]:\n",
    "                # Accumulate the profit from this opportunity\n",
    "                total_profit += prices[i] - prices[i-1]\n",
    "        \n",
    "        return total_profit\n",
    "\n",
    "# Time Complexity : making a single pass O(n)\n",
    "# Space Complexity : O(1)\n",
    "prices = [7, 1, 5, 3, 6, 4]\n",
    "sol = Solution()\n",
    "print(sol.maxProfit(prices))  # Output: 7"
   ]
  },
  {
   "cell_type": "code",
   "execution_count": 3,
   "id": "3713cee5",
   "metadata": {},
   "outputs": [
    {
     "name": "stdout",
     "output_type": "stream",
     "text": [
      "1\n",
      "3\n",
      "5\n",
      "7\n"
     ]
    }
   ],
   "source": [
    "class Solution2:\n",
    "    def maxProfit(self, prices: List[int]) -> int:\n",
    "        i = 0\n",
    "        n = len(prices)\n",
    "        low = prices[0]\n",
    "        high = prices[0]\n",
    "        profit = 0\n",
    "        \n",
    "        while i < n-1:\n",
    "            while i < n-1 and prices[i] >= prices[i+1]:\n",
    "                i += 1\n",
    "            print(i)\n",
    "            low = prices[i]\n",
    "\n",
    "            while i < n-1 and prices[i] <= prices[i+1]:\n",
    "                i += 1\n",
    "            high = prices[i]\n",
    "\n",
    "            profit += high - low\n",
    "        \n",
    "        return profit\n",
    "\n",
    "# Time Complexity : making a single pass O(n)\n",
    "# Space Complexity : O(1)\n",
    "prices = [7, 1, 5, 3, 6, 4]\n",
    "sol = Solution2()\n",
    "print(sol.maxProfit(prices))  # Output: 7"
   ]
  }
 ],
 "metadata": {
  "kernelspec": {
   "display_name": "code-interview-prep",
   "language": "python",
   "name": "python3"
  },
  "language_info": {
   "codemirror_mode": {
    "name": "ipython",
    "version": 3
   },
   "file_extension": ".py",
   "mimetype": "text/x-python",
   "name": "python",
   "nbconvert_exporter": "python",
   "pygments_lexer": "ipython3",
   "version": "3.12.0"
  }
 },
 "nbformat": 4,
 "nbformat_minor": 5
}
