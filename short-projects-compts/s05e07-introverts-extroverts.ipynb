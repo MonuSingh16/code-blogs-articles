{
 "cells": [
  {
   "cell_type": "markdown",
   "id": "7cb8f071",
   "metadata": {},
   "source": [
    "### Introduction\n",
    "\n",
    "Personality traits like extroversion and introversion shape how individuals interact with their social environments. This dataset provides insights into behaviors such as time spent alone, social event attendance, and social media engagement, enabling applications in psychology, sociology, marketing, and machine learning"
   ]
  },
  {
   "cell_type": "code",
   "execution_count": 44,
   "id": "2e07b437",
   "metadata": {},
   "outputs": [],
   "source": [
    "import warnings\n",
    "warnings.filterwarnings(\"ignore\")\n",
    "\n",
    "import pandas as pd\n",
    "import numpy as np\n",
    "import matplotlib.pyplot as plt\n",
    "import seaborn as sns\n",
    "\n",
    "from sklearn.model_selection import StratifiedKFold\n",
    "from sklearn.preprocessing import LabelEncoder, OneHotEncoder\n",
    "from sklearn.metrics import accuracy_score, log_loss\n",
    "from sklearn.compose import ColumnTransformer\n",
    "from sklearn.pipeline import Pipeline\n",
    "\n",
    "import xgboost as xgb"
   ]
  },
  {
   "cell_type": "code",
   "execution_count": 20,
   "id": "cfe6dbec",
   "metadata": {},
   "outputs": [],
   "source": [
    "class CFG:\n",
    "    train_path = '../data/pgseries-s05e07/train.csv'\n",
    "    test_path = '../data/pgseries-s05e07/test.csv'\n",
    "    sub_path = '../data/pgseries-s05e07/sample_submission.csv'\n",
    "    target = 'Personality'\n",
    "    n_folds = 5\n",
    "    seed = 42\n",
    "    cv = StratifiedKFold(n_splits=n_folds, random_state=seed, shuffle=True)\n",
    "    metric = accuracy_score\n",
    "    n_optuna_trials = 500"
   ]
  },
  {
   "cell_type": "code",
   "execution_count": 40,
   "id": "1a54b07e",
   "metadata": {},
   "outputs": [
    {
     "data": {
      "image/png": "[encoded data removed]",
      "text/plain": [
       "<Figure size 400x300 with 1 Axes>"
      ]
     },
     "metadata": {},
     "output_type": "display_data"
    },
    {
     "name": "stdout",
     "output_type": "stream",
     "text": [
      "The Value counts of Personality : \n",
      "\n",
      "Personality\n",
      "Extrovert    13699\n",
      "Introvert     4825\n",
      "Name: count, dtype: int64\n",
      "\n",
      "\n",
      "Missing values in train:  0\n",
      "The column datatype to ascertain category cols : \n",
      "\n",
      "Time_spent_Alone             float64\n",
      "Stage_fear                    object\n",
      "Social_event_attendance      float64\n",
      "Going_outside                float64\n",
      "Drained_after_socializing     object\n",
      "Friends_circle_size          float64\n",
      "Post_frequency               float64\n",
      "Personality                   object\n",
      "dtype: object\n"
     ]
    }
   ],
   "source": [
    "train = pd.read_csv(CFG.train_path, index_col='id')\n",
    "test = pd.read_csv(CFG.test_path, index_col='id')\n",
    "submissions = pd.read_csv(CFG.sub_path, index_col='id')\n",
    "\n",
    "plt.figure(figsize=(4, 3)) # setting size of figure.\n",
    "sns.countplot(x='Personality', data=train, palette='pastel', edgecolor='black')\n",
    "plt.title('Target Distribution', fontsize=12)\n",
    "plt.xlabel('Personality', fontsize=10)\n",
    "plt.ylabel('Count', fontsize=10)\n",
    "\n",
    "plt.tight_layout()\n",
    "plt.show()\n",
    "\n",
    "print(f\"The Value counts of Personality : \\n\\n{train['Personality'].value_counts()}\\n\")\n",
    "\n",
    "# EDA: Missing Values - Use of CatBoost, LGBM, XG Boost can handle NaNs\n",
    "print(\"\\nMissing values in train: \", train['Personality'].isnull().sum())\n",
    "\n",
    "print(f\"The column datatype to ascertain category cols : \\n\\n{train.dtypes}\")\n"
   ]
  },
  {
   "cell_type": "code",
   "execution_count": 45,
   "id": "5eaac0eb",
   "metadata": {},
   "outputs": [
    {
     "name": "stdout",
     "output_type": "stream",
     "text": [
      "Shape of X: (18524, 7)\n",
      "Shape of y: (18524,)\n",
      "Shape of X Test: (6175, 7)\n"
     ]
    }
   ],
   "source": [
    "# 3. Encode Target.\n",
    "# Categorical variable `personality` -> numerical using LabelEncoder\n",
    "# Encode target labels with value between 0 and n_classes-1.\n",
    "# This transformer should be used to encode target values, *i.e.* y, and not the input X\n",
    "\n",
    "le = LabelEncoder()\n",
    "train[\"Personality_encoded\"] = le.fit_transform(train[\"Personality\"])\n",
    "\n",
    "# 4. Prepare Features\n",
    "X = train.drop(columns=[\"Personality\", \"Personality_encoded\"])\n",
    "y = train[\"Personality_encoded\"]\n",
    "print(f\"Shape of X: {X.shape}\")\n",
    "print(f\"Shape of y: {y.shape}\")\n",
    "\n",
    "X_test = test.copy()\n",
    "print(f\"Shape of X Test: {X_test.shape}\")\n",
    "\n",
    "# 5. Encode Categorical Columns Using Ordinal Encoder\n",
    "cat_cols = X.select_dtypes(include='object').columns.tolist()\n",
    "cat_transformer = Pipeline([\n",
    "    ('encoder', OneHotEncoder(handle_unknown='ignore'))\n",
    "])\n",
    "\n",
    "preprocessor = ColumnTransformer([\n",
    "    ('cat', cat_transformer, cat_cols)\n",
    "])\n",
    "\n",
    "X_preprocessed = preprocessor.fit_transform(X)\n",
    "X_test_preprocessed = preprocessor.transform(X_test)"
   ]
  },
  {
   "cell_type": "code",
   "execution_count": 46,
   "id": "8705237a",
   "metadata": {},
   "outputs": [],
   "source": [
    "# 6. Setup Hyperparameters to XG Boost\n",
    "params = {\n",
    "    \"objective\": \"binary:logistic\", # as binary classification task, (extro vs intro)\n",
    "    \"eval_metric\": \"logloss\", # metric for binary classifications\n",
    "    \"max_depth\": 4, # depth of each decision tree\n",
    "    \"eta\": 0.1, # learning rate set to 0.1\n",
    "    \"subsample\": 0.8, \n",
    "    \"colsample_bytree\": 0.8,\n",
    "    \"random_state\": 42 # for reproducibility\n",
    "}"
   ]
  },
  {
   "cell_type": "code",
   "execution_count": null,
   "id": "253584d4",
   "metadata": {},
   "outputs": [],
   "source": [
    "# 7. Stratified K-Fold Cross Validation\n",
    "# To Train & Validate XG Boost Model, \n",
    "# Stratified -> Ensuring Class Dist in each fold remain consistent\n",
    "\n",
    "skf = StratifiedKFold(n_splits=5, shuffle=True, random_state=42) # split in 5 folds\n",
    "oof_preds = np.zeros(len(X_preprocessed)) # array out of fold prediction for training sets\n",
    "test_preds = np.zeros(len(X_test_preprocessed)) # stored averaged predictions for test set\n",
    "\n",
    "for fold, (train_idx, val_idx) in enumerate(skf.split(X_preprocessed,y)):\n",
    "    X_train, X_val = X_preprocessed.iloc[train_idx], X_preprocessed.iloc[val_idx]\n",
    "    y_train, y_val = y.iloc[train_idx], y.iloc[val_idx]\n",
    "\n",
    "    dtrain = xgb.DMatrix(X_train, label=y_train)\n",
    "    dval = xgb.DMatrix(X_val, label=y_val)\n",
    "    dtest = xgb.DMatrix(X_test)\n",
    "\n",
    "    model = xgb.train(params, dtrain, num_boost_round=100,\n",
    "                       evals=[(dval, \"valid\")],\n",
    "                       early_stopping_rounds=10, verbose_eval=False)\n",
    "    \n",
    "    oof_preds[val_idx] = model.predict(dval) > 0.5\n",
    "    test_preds += model.predict(dtest) / skf.n_splits\n",
    "\n"
   ]
  },
  {
   "cell_type": "code",
   "execution_count": 26,
   "id": "98fc0412",
   "metadata": {},
   "outputs": [
    {
     "name": "stdout",
     "output_type": "stream",
     "text": [
      "Cross-Validation Accuracy: 0.9692\n"
     ]
    },
    {
     "data": {
      "text/html": [
       "<div>\n",
       "<style scoped>\n",
       "    .dataframe tbody tr th:only-of-type {\n",
       "        vertical-align: middle;\n",
       "    }\n",
       "\n",
       "    .dataframe tbody tr th {\n",
       "        vertical-align: top;\n",
       "    }\n",
       "\n",
       "    .dataframe thead th {\n",
       "        text-align: right;\n",
       "    }\n",
       "</style>\n",
       "<table border=\"1\" class=\"dataframe\">\n",
       "  <thead>\n",
       "    <tr style=\"text-align: right;\">\n",
       "      <th></th>\n",
       "      <th>id</th>\n",
       "      <th>Personality</th>\n",
       "    </tr>\n",
       "  </thead>\n",
       "  <tbody>\n",
       "    <tr>\n",
       "      <th>0</th>\n",
       "      <td>18524</td>\n",
       "      <td>Extrovert</td>\n",
       "    </tr>\n",
       "    <tr>\n",
       "      <th>1</th>\n",
       "      <td>18525</td>\n",
       "      <td>Introvert</td>\n",
       "    </tr>\n",
       "    <tr>\n",
       "      <th>2</th>\n",
       "      <td>18526</td>\n",
       "      <td>Extrovert</td>\n",
       "    </tr>\n",
       "    <tr>\n",
       "      <th>3</th>\n",
       "      <td>18527</td>\n",
       "      <td>Extrovert</td>\n",
       "    </tr>\n",
       "    <tr>\n",
       "      <th>4</th>\n",
       "      <td>18528</td>\n",
       "      <td>Introvert</td>\n",
       "    </tr>\n",
       "  </tbody>\n",
       "</table>\n",
       "</div>"
      ],
      "text/plain": [
       "      id Personality\n",
       "0  18524   Extrovert\n",
       "1  18525   Introvert\n",
       "2  18526   Extrovert\n",
       "3  18527   Extrovert\n",
       "4  18528   Introvert"
      ]
     },
     "execution_count": 26,
     "metadata": {},
     "output_type": "execute_result"
    }
   ],
   "source": [
    "# 8. Evaluate\n",
    "cv_acc = accuracy_score(y, oof_preds)\n",
    "print(f\"Cross-Validation Accuracy: {cv_acc:.4f}\")\n",
    "\n",
    "# 9. Create Submission\n",
    "final_preds = (test_preds > 0.5).astype(int)\n",
    "submissions[\"Personality\"] = le.inverse_transform(final_preds)\n",
    "submissions.head()\n"
   ]
  }
 ],
 "metadata": {
  "kernelspec": {
   "display_name": "code-blogs-articles",
   "language": "python",
   "name": "python3"
  },
  "language_info": {
   "codemirror_mode": {
    "name": "ipython",
    "version": 3
   },
   "file_extension": ".py",
   "mimetype": "text/x-python",
   "name": "python",
   "nbconvert_exporter": "python",
   "pygments_lexer": "ipython3",
   "version": "3.12.0"
  }
 },
 "nbformat": 4,
 "nbformat_minor": 5
}
