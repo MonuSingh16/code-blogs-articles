{
 "cells": [
  {
   "cell_type": "code",
   "execution_count": 1,
   "id": "0442b349",
   "metadata": {},
   "outputs": [
    {
     "name": "stderr",
     "output_type": "stream",
     "text": [
      "2025/08/13 06:56:31 INFO mlflow.tracking.fluent: Experiment with name 'Iris_Classification_Comparison' does not exist. Creating a new experiment.\n",
      "2025/08/13 06:56:34 WARNING mlflow.utils.environment: Failed to resolve installed pip version. ``pip`` will be added to conda.yaml environment spec without a version specifier.\n"
     ]
    },
    {
     "name": "stdout",
     "output_type": "stream",
     "text": [
      "LogisticRegression → Run ID: 233591a121ff4a7888f0b525745ca1d5 | \n",
      "                Accuracy: 1.0000 | F1 (macro): 1.0000 | \n",
      "                Log Loss: 0.1111\n"
     ]
    },
    {
     "name": "stderr",
     "output_type": "stream",
     "text": [
      "2025/08/13 06:56:37 WARNING mlflow.utils.environment: Failed to resolve installed pip version. ``pip`` will be added to conda.yaml environment spec without a version specifier.\n"
     ]
    },
    {
     "name": "stdout",
     "output_type": "stream",
     "text": [
      "RandomForest → Run ID: 907eb395b3a84a92b0844886b570bc1e | \n",
      "                Accuracy: 1.0000 | F1 (macro): 1.0000 | \n",
      "                Log Loss: 0.0222\n"
     ]
    },
    {
     "name": "stderr",
     "output_type": "stream",
     "text": [
      "2025/08/13 06:56:39 WARNING mlflow.utils.environment: Failed to resolve installed pip version. ``pip`` will be added to conda.yaml environment spec without a version specifier.\n"
     ]
    },
    {
     "name": "stdout",
     "output_type": "stream",
     "text": [
      "SVC → Run ID: bb45c60091c84a2ea7160e9d8d1491ed | \n",
      "                Accuracy: 1.0000 | F1 (macro): 1.0000 | \n",
      "                Log Loss: 0.0771\n"
     ]
    }
   ],
   "source": [
    "import mlflow\n",
    "import mlflow.sklearn\n",
    "from sklearn.datasets import load_iris\n",
    "from sklearn.model_selection import train_test_split\n",
    "from sklearn.metrics import accuracy_score, f1_score, log_loss\n",
    "from sklearn.linear_model import LogisticRegression\n",
    "from sklearn.ensemble import RandomForestClassifier\n",
    "from sklearn.svm import SVC\n",
    "\n",
    "# Load dataset\n",
    "X, y = load_iris(return_X_y=True)\n",
    "X_train, X_test, y_train, y_test = train_test_split(\n",
    "    X, y, test_size=0.2, random_state=42)\n",
    "\n",
    "# Set experiment\n",
    "mlflow.set_experiment(\"Iris_Classification_Comparison\")\n",
    "\n",
    "# Define models\n",
    "models = {\n",
    "    \"LogisticRegression\": LogisticRegression(max_iter=100),\n",
    "    \"RandomForest\": RandomForestClassifier(n_estimators=100),\n",
    "    \"SVC\": SVC(probability=True)\n",
    "}\n",
    "\n",
    "for name, model in models.items():\n",
    "    with mlflow.start_run(run_name=name) as run:\n",
    "        # Train model\n",
    "        model.fit(X_train, y_train)\n",
    "\n",
    "        # Predictions\n",
    "        preds = model.predict(X_test)\n",
    "        proba = model.predict_proba(X_test)\n",
    "\n",
    "        # Metrics\n",
    "        acc = accuracy_score(y_test, preds)\n",
    "        f1 = f1_score(y_test, preds, average='macro')\n",
    "        loss = log_loss(y_test, proba)\n",
    "\n",
    "        # Logging\n",
    "        mlflow.log_param(\"model_type\", name)\n",
    "        mlflow.log_metric(\"accuracy\", acc)\n",
    "        mlflow.log_metric(\"f1_score_macro\", f1)\n",
    "        mlflow.log_metric(\"log_loss\", loss)\n",
    "\n",
    "        mlflow.sklearn.log_model(model, name=\"model\",\n",
    "                                 input_example=X_test[:5])\n",
    "\n",
    "        print(f\"\"\"{name} → Run ID: {run.info.run_id} | \n",
    "                Accuracy: {acc:.4f} | F1 (macro): {f1:.4f} | \n",
    "                Log Loss: {loss:.4f}\"\"\")"
   ]
  },
  {
   "cell_type": "code",
   "execution_count": 2,
   "id": "94cae448",
   "metadata": {},
   "outputs": [
    {
     "name": "stderr",
     "output_type": "stream",
     "text": [
      "Successfully registered model 'IrisBestModel'.\n",
      "2025/08/13 06:57:11 WARNING mlflow.tracking._model_registry.fluent: Run with id 233591a121ff4a7888f0b525745ca1d5 has no artifacts at artifact path 'model', registering model based on models:/m-49ae1bd815774be488e41fcaf6621149 instead\n"
     ]
    },
    {
     "name": "stdout",
     "output_type": "stream",
     "text": [
      "\n",
      "Best Model Registered Run ID: 233591a121ff4a7888f0b525745ca1d5\n"
     ]
    },
    {
     "name": "stderr",
     "output_type": "stream",
     "text": [
      "Created version '1' of model 'IrisBestModel'.\n"
     ]
    }
   ],
   "source": [
    "# (replace with run id of best model from prev. cell output)\n",
    "best_run_id = \"233591a121ff4a7888f0b525745ca1d5\"\n",
    "model_uri = f\"runs:/{best_run_id}/model\"\n",
    "mlflow.register_model(model_uri=model_uri, name=\"IrisBestModel\")\n",
    "\n",
    "print(f\"\\nBest Model Registered Run ID: {best_run_id}\")"
   ]
  },
  {
   "cell_type": "code",
   "execution_count": 3,
   "id": "c19aee02",
   "metadata": {},
   "outputs": [
    {
     "name": "stdout",
     "output_type": "stream",
     "text": [
      "Prediction: setosa\n"
     ]
    }
   ],
   "source": [
    "import mlflow\n",
    "from sklearn.datasets import load_iris\n",
    "\n",
    "# Load class names\n",
    "iris = load_iris()\n",
    "class_names = iris.target_names\n",
    "\n",
    "# Load model from registry\n",
    "model = mlflow.sklearn.load_model(\"models:/IrisBestModel/latest\")\n",
    "# or, mlflow.sklearn.load_model(\"models:/SecondBestIris/latest\")\n",
    "\n",
    "# Predict\n",
    "sample = [[5.3, 3.1, 1.3, 0.2]]\n",
    "pred = model.predict(sample)[0]  # Numeric class label (e.g., 0)\n",
    "class_label = class_names[pred]  # Convert to class name\n",
    "\n",
    "print(\"Prediction:\", class_label)"
   ]
  },
  {
   "cell_type": "code",
   "execution_count": 4,
   "id": "5d47b0a0",
   "metadata": {},
   "outputs": [
    {
     "name": "stderr",
     "output_type": "stream",
     "text": [
      "/Users/monusingh/work-share/code-blogs-articles/.venv/lib/python3.12/site-packages/tqdm/auto.py:21: TqdmWarning: IProgress not found. Please update jupyter and ipywidgets. See https://ipywidgets.readthedocs.io/en/stable/user_install.html\n",
      "  from .autonotebook import tqdm as notebook_tqdm\n",
      "Downloading artifacts: 100%|██████████| 8/8 [00:00<00:00, 3005.32it/s]"
     ]
    },
    {
     "name": "stdout",
     "output_type": "stream",
     "text": [
      "Model downloaded to: /Users/monusingh/work-share/code-blogs-articles/02-machine-learning/03B-mlops-mlflow/model_dir/\n"
     ]
    },
    {
     "name": "stderr",
     "output_type": "stream",
     "text": [
      "\n"
     ]
    }
   ],
   "source": [
    "# save model artifact on system\n",
    "from mlflow.artifacts import download_artifacts\n",
    "\n",
    "local_path = download_artifacts(\n",
    "                    artifact_uri=\"models:/IrisBestModel/1\",\n",
    "                    dst_path=\"model_dir\")\n",
    "                    \n",
    "print(f\"Model downloaded to: {local_path}\")"
   ]
  }
 ],
 "metadata": {
  "kernelspec": {
   "display_name": "code-blogs-articles",
   "language": "python",
   "name": "python3"
  },
  "language_info": {
   "codemirror_mode": {
    "name": "ipython",
    "version": 3
   },
   "file_extension": ".py",
   "mimetype": "text/x-python",
   "name": "python",
   "nbconvert_exporter": "python",
   "pygments_lexer": "ipython3",
   "version": "3.12.0"
  }
 },
 "nbformat": 4,
 "nbformat_minor": 5
}
