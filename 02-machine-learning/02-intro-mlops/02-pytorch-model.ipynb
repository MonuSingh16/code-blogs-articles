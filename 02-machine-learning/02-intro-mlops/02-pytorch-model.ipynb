{
 "cells": [
  {
   "cell_type": "code",
   "execution_count": 7,
   "id": "33f75320",
   "metadata": {},
   "outputs": [
    {
     "name": "stdout",
     "output_type": "stream",
     "text": [
      "Epoch [1 / 5],\n",
      "          Loss: 0.7115\n",
      "Epoch [2 / 5],\n",
      "          Loss: 0.7091\n",
      "Epoch [3 / 5],\n",
      "          Loss: 0.7070\n",
      "Epoch [4 / 5],\n",
      "          Loss: 0.7050\n",
      "Epoch [5 / 5],\n",
      "          Loss: 0.7031\n",
      "Model Weights saved\n"
     ]
    },
    {
     "data": {
      "text/plain": [
       "Net(\n",
       "  (linear1): Linear(in_features=20, out_features=10, bias=True)\n",
       "  (relu): ReLU()\n",
       "  (linear2): Linear(in_features=10, out_features=1, bias=True)\n",
       ")"
      ]
     },
     "execution_count": 7,
     "metadata": {},
     "output_type": "execute_result"
    }
   ],
   "source": [
    "import torch\n",
    "import torch.nn as nn\n",
    "import torch.optim as optim\n",
    "\n",
    "# For reproducibility\n",
    "torch.manual_seed(0)\n",
    "# (If using numpy or random, also set np.random.seed(0) and random.seed(0))\n",
    "\n",
    "# 1. Define a simple model\n",
    "class Net(nn.Module):\n",
    "    def __init__(self, input_dim, hidden_dim):\n",
    "        super(Net, self).__init__()\n",
    "        self.linear1 = nn.Linear(input_dim, hidden_dim)\n",
    "        self.relu = nn.ReLU()\n",
    "        self.linear2 = nn.Linear(hidden_dim, 1)\n",
    "        # output 1 logit for binary classification\n",
    "\n",
    "    def forward(self, x):\n",
    "        x = self.linear1(x)\n",
    "        x = self.relu(x)\n",
    "        x = self.linear2(x)\n",
    "        return x\n",
    "    \n",
    "# Assume input dimension is 20\n",
    "model = Net(input_dim=20, hidden_dim=10)\n",
    "\n",
    "# 2. Define loss and optimizer\n",
    "criterion = nn.BCEWithLogitsLoss() # for binary classification\n",
    "optimizer = optim.SGD(model.parameters(), lr=0.1)\n",
    "\n",
    "# 3. Prepare dummy data\n",
    "# let's simulare 100 samples, 20 features\n",
    "X = torch.randn(100, 20)\n",
    "# random 0/1 labels\n",
    "y = torch.randint(0, 2, (100, 1)).float()\n",
    "\n",
    "# 4. Training Loop\n",
    "model.train()\n",
    "num_epochs = 5\n",
    "for epoch in range(1, num_epochs+1):\n",
    "    #Forward Pass\n",
    "    outputs = model(X)\n",
    "    loss = criterion(outputs, y)\n",
    "    # Backward and optimize\n",
    "    optimizer.zero_grad()\n",
    "    loss.backward()\n",
    "    optimizer.step()\n",
    "    #Logging\n",
    "    print(f\"\"\"Epoch [{epoch} / {num_epochs}],\n",
    "          Loss: {loss.item():.4f}\"\"\")\n",
    "    \n",
    "# 5. save the model weights\n",
    "torch.save(model.state_dict(), \"../../_model/model_weights.pth\")\n",
    "print(\"Model Weights saved\")\n",
    "\n",
    "# (later or in deployment)\n",
    "# Load the model weights into a new instance\n",
    "model2 = Net(input_dim=20, hidden_dim=10)\n",
    "model2.load_state_dict(torch.load(r\"../../_model/model_weights.pth\"))\n",
    "model2.eval()"
   ]
  },
  {
   "cell_type": "code",
   "execution_count": 8,
   "id": "e7afdea2",
   "metadata": {},
   "outputs": [],
   "source": [
    "torch.save({\n",
    "    'epoch': num_epochs,\n",
    "    'model_state': model.state_dict(),\n",
    "    'optimizer_state': optimizer.state_dict(),\n",
    "    'loss': loss.item()\n",
    "}, \"../../_model/checkpoint.pth\")\n"
   ]
  }
 ],
 "metadata": {
  "kernelspec": {
   "display_name": "code-blogs-articles",
   "language": "python",
   "name": "python3"
  },
  "language_info": {
   "codemirror_mode": {
    "name": "ipython",
    "version": 3
   },
   "file_extension": ".py",
   "mimetype": "text/x-python",
   "name": "python",
   "nbconvert_exporter": "python",
   "pygments_lexer": "ipython3",
   "version": "3.12.0"
  }
 },
 "nbformat": 4,
 "nbformat_minor": 5
}
