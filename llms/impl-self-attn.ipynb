{
 "cells": [
  {
   "cell_type": "code",
   "execution_count": null,
   "id": "d8ba5ed0",
   "metadata": {},
   "outputs": [],
   "source": [
    "import torch\n",
    "import torch.nn as nn\n",
    "import torch.nn.functional as F\n",
    "\n",
    "class Attention(nn.Module): #inherits from nn.Module\n",
    "    def __init__(self, d_in, d_out): # contructor of the class\n",
    "        super().__init__() # intialize the parent class\n",
    "        # keyword self in a classs refers to the instance of the class\n",
    "        self.d_in = d_in\n",
    "        self.d_out = d_out\n",
    "        # create a layer that applies an affine transformation to the input\n",
    "        # y = Ax + b, where A is a weight matrix and b is a bias vector\n",
    "        # Weights intialized with a uniform distribution\n",
    "        # its weights and biases are stored as torch.nn.Parameter objects.\n",
    "        # This makes them part of the model’s .parameters() \n",
    "        # returns the parameters of the model when called\n",
    "        self.Q = nn.Linear(d_in, d_out) \n",
    "        self.K = nn.Linear(d_in, d_out)\n",
    "        self.V = nn.Linear(d_in, d_out)\n",
    "\n",
    "    def forward(self, x):\n",
    "        queries = self.Q(x) # apply the affine transformation to the input x\n",
    "        keys = self.K(x)\n",
    "        values = self.V(x)\n",
    "        # Compute the attention scores, bmm is batch matrix multiplication\n",
    "        # scores = queries * keys^T / sqrt(d_out)\n",
    "        scores = torch.bmm(queries, keys.transpose(1, 2)) \n",
    "        # keys.transpose(1, 2) transposes the last two dimensions\n",
    "        # (batch_size, seq_len, d_out) -> (batch_size, d_out, seq_len)\n",
    "        scores = scores / (self.d_out ** 0.5)\n",
    "        attention = F.softmax(scores, dim=2)\n",
    "        # converts the attention scores into probabilities along the last dimension, \n",
    "        # so each set of scores sums to 1 for every query in the batch.\n",
    "        hidden_states = torch.bmm(attention, values)\n",
    "        return hidden_states\n"
   ]
  },
  {
   "cell_type": "code",
   "execution_count": null,
   "id": "4373a71e",
   "metadata": {},
   "outputs": [
    {
     "data": {
      "text/plain": [
       "{0: 'SOS',\n",
       " 1: 'EOS',\n",
       " 2: '?',\n",
       " 3: 'i',\n",
       " 4: 'doing',\n",
       " 5: 'you',\n",
       " 6: 'and',\n",
       " 7: 'how',\n",
       " 8: 'good',\n",
       " 9: 'am',\n",
       " 10: 'are'}"
      ]
     },
     "execution_count": 23,
     "metadata": {},
     "output_type": "execute_result"
    }
   ],
   "source": [
    "SOS_token = 0\n",
    "EOS_token = 1\n",
    "\n",
    "index2words = {\n",
    "    SOS_token: 'SOS',\n",
    "    EOS_token: 'EOS',\n",
    "}\n",
    "\n",
    "words = \"How are you doing ? I am good and you ?\"\n",
    "words_list = set(words.lower().split(' '))\n",
    "for word in words_list:\n",
    "    index2words[len(index2words)] = word\n",
    "\n",
    "print(index2words)\n",
    "\n",
    "words2index = {w: i for i, w in index2words.items()}\n",
    "print(words2index)"
   ]
  },
  {
   "cell_type": "code",
   "execution_count": null,
   "id": "fbf4398a",
   "metadata": {},
   "outputs": [
    {
     "data": {
      "text/plain": [
       "torch.Size([1, 5])"
      ]
     },
     "execution_count": 26,
     "metadata": {},
     "output_type": "execute_result"
    }
   ],
   "source": [
    "def convert2tensor(sentence):\n",
    "    words_list = sentence.lower().split(' ')\n",
    "    indexes = [words2index[word] for word in words_list]\n",
    "    # .view(1, -1) reshapes the tensor to have a single row\n",
    "    return torch.tensor(indexes, dtype=torch.long).view(1, -1)\n",
    "\n",
    "sentence = \"How are you doing ?\"\n",
    "indexes = convert2tensor(sentence)\n",
    "\n",
    "print(indexes.size())"
   ]
  },
  {
   "cell_type": "code",
   "execution_count": 33,
   "id": "a705de15",
   "metadata": {},
   "outputs": [
    {
     "name": "stdout",
     "output_type": "stream",
     "text": [
      "torch.Size([1, 5, 10])\n",
      "torch.Size([1, 5, 10])\n"
     ]
    }
   ],
   "source": [
    "HIDDEN_SIZE = 10\n",
    "VOCAB_SIZE = len(words2index)\n",
    "\n",
    "# Create an embedding layer that maps words to vectors of size HIDDEN_SIZE\n",
    "# The embedding layer is initialized with a uniform distribution\n",
    "embedding = nn.Embedding(VOCAB_SIZE, HIDDEN_SIZE)\n",
    "# Create an instance of the Attention class\n",
    "# creates an object with three learnable linear layers (for Q, K, V),\n",
    "# ready to compute self-attention on input data.\n",
    "attention = Attention(HIDDEN_SIZE, HIDDEN_SIZE)\n",
    "\n",
    "sentence = \"How are you doing ?\"\n",
    "input_tensor = convert2tensor(sentence)\n",
    "\n",
    "# for each word index in input_tensor, \n",
    "# embedding layer looks up its vector of size HIDDEN_SIZE\n",
    "# and returns a tensor of shape (1, seq_len, HIDDEN_SIZE)\n",
    "embedded = embedding(input_tensor)\n",
    "print(embedded.size())\n",
    "\n",
    "# Pass the embedded tensor through the attention layer\n",
    "# The attention layer computes the attention scores and returns the hidden states\n",
    "# The output hidden_states will have the same shape as embedded\n",
    "hidden_states = attention(embedded)\n",
    "print(hidden_states.size())"
   ]
  },
  {
   "cell_type": "code",
   "execution_count": 34,
   "id": "6bf47ae2",
   "metadata": {},
   "outputs": [
    {
     "name": "stdout",
     "output_type": "stream",
     "text": [
      "torch.Size([1, 5, 10]) torch.Size([1, 5, 10]) torch.Size([1, 5, 10])\n",
      "torch.Size([1, 5, 5])\n",
      "torch.Size([1, 5, 5])\n",
      "tensor([[1.0000, 1.0000, 1.0000, 1.0000, 1.0000]], grad_fn=<SumBackward1>)\n",
      "torch.Size([1, 5, 10])\n"
     ]
    }
   ],
   "source": [
    "d_in = HIDDEN_SIZE\n",
    "d_out = HIDDEN_SIZE\n",
    "Q = nn.Linear(d_in, d_out)\n",
    "K = nn.Linear(d_in, d_out)\n",
    "V = nn.Linear(d_in, d_out)\n",
    "\n",
    "queries, keys, values = Q(embedded), K(embedded), V(embedded)\n",
    "print(queries.size(), keys.size(), values.size())\n",
    "\n",
    "scores = torch.bmm(queries, keys.transpose(1, 2))\n",
    "print(scores.size())\n",
    "\n",
    "sccores = scores / (d_out ** 0.5)\n",
    "attention = F.softmax(scores, dim=2)\n",
    "print(attention.size())\n",
    "print(attention.sum(dim=2))\n",
    "\n",
    "hidden_states = torch.bmm(attention, values)\n",
    "print(hidden_states.size())"
   ]
  },
  {
   "cell_type": "code",
   "execution_count": null,
   "id": "14e25958",
   "metadata": {},
   "outputs": [],
   "source": []
  }
 ],
 "metadata": {
  "kernelspec": {
   "display_name": ".venv",
   "language": "python",
   "name": "python3"
  },
  "language_info": {
   "codemirror_mode": {
    "name": "ipython",
    "version": 3
   },
   "file_extension": ".py",
   "mimetype": "text/x-python",
   "name": "python",
   "nbconvert_exporter": "python",
   "pygments_lexer": "ipython3",
   "version": "3.12.0"
  }
 },
 "nbformat": 4,
 "nbformat_minor": 5
}
