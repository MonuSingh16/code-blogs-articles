{
 "cells": [
  {
   "cell_type": "code",
   "execution_count": null,
   "id": "d8ba5ed0",
   "metadata": {},
   "outputs": [],
   "source": [
    "import torch\n",
    "import torch.nn as nn\n",
    "import torch.nn.functional as F\n",
    "\n",
    "class Attention(nn.Module): #inherits from nn.Module\n",
    "    def __init__(self, d_in, d_out): # contructor of the class\n",
    "        super().__init__() # intialize the parent class\n",
    "        # keyword self in a classs refers to the instance of the class\n",
    "        self.d_in = d_in\n",
    "        self.d_out = d_out\n",
    "        # create a layer that applies an affine transformation to the input\n",
    "        # y = Ax + b, where A is a weight matrix and b is a bias vector\n",
    "        # Weights intialized with a uniform distribution\n",
    "        # its weights and biases are stored as torch.nn.Parameter objects.\n",
    "        # This makes them part of the model’s .parameters() \n",
    "        # returns the parameters of the model when called\n",
    "        self.Q = nn.Linear(d_in, d_out) \n",
    "        self.K = nn.Linear(d_in, d_out)\n",
    "        self.V = nn.Linear(d_in, d_out)\n",
    "\n",
    "    def forward(self, x):\n",
    "        queries = self.Q(x)\n",
    "        keys = self.K(x)\n",
    "        values = self.V(x)\n",
    "        scores = torch.bmm(queries, keys.transpose(1, 2))\n",
    "        scores = scores / (self.d_out ** 0.5)\n",
    "        attention = F.softmax(scores, dim=2)\n",
    "        hidden_states = torch.bmm(attention, values)\n",
    "        return hidden_states\n"
   ]
  },
  {
   "cell_type": "code",
   "execution_count": 3,
   "id": "4373a71e",
   "metadata": {},
   "outputs": [
    {
     "data": {
      "text/plain": [
       "{0: 'SOS',\n",
       " 1: 'EOS',\n",
       " 2: '?',\n",
       " 3: 'i',\n",
       " 4: 'doing',\n",
       " 5: 'you',\n",
       " 6: 'and',\n",
       " 7: 'how',\n",
       " 8: 'good',\n",
       " 9: 'am',\n",
       " 10: 'are'}"
      ]
     },
     "execution_count": 3,
     "metadata": {},
     "output_type": "execute_result"
    }
   ],
   "source": [
    "SOS_token = 0\n",
    "EOS_token = 1\n",
    "\n",
    "index2words = {\n",
    "    SOS_token: 'SOS',\n",
    "    EOS_token: 'EOS',\n",
    "}\n",
    "\n",
    "words = \"How are you doing ? I am good and you ?\"\n",
    "words_list = set(words.lower().split(' '))\n",
    "for word in words_list:\n",
    "    index2words[len(index2words)] = word\n",
    "\n",
    "index2words"
   ]
  },
  {
   "cell_type": "code",
   "execution_count": 4,
   "id": "282c94cf",
   "metadata": {},
   "outputs": [
    {
     "data": {
      "text/plain": [
       "{'SOS': 0,\n",
       " 'EOS': 1,\n",
       " '?': 2,\n",
       " 'i': 3,\n",
       " 'doing': 4,\n",
       " 'you': 5,\n",
       " 'and': 6,\n",
       " 'how': 7,\n",
       " 'good': 8,\n",
       " 'am': 9,\n",
       " 'are': 10}"
      ]
     },
     "execution_count": 4,
     "metadata": {},
     "output_type": "execute_result"
    }
   ],
   "source": [
    "words2index = {w: i for i, w in index2words.items()}\n",
    "words2index"
   ]
  },
  {
   "cell_type": "code",
   "execution_count": 8,
   "id": "fbf4398a",
   "metadata": {},
   "outputs": [
    {
     "data": {
      "text/plain": [
       "torch.Size([1, 5])"
      ]
     },
     "execution_count": 8,
     "metadata": {},
     "output_type": "execute_result"
    }
   ],
   "source": [
    "def convert2tensor(sentence):\n",
    "    words_list = sentence.lower().split(' ')\n",
    "    indexes = [words2index[word] for word in words_list]\n",
    "    return torch.tensor(indexes, dtype=torch.long).view(1, -1)\n",
    "\n",
    "sentence = \"How are you doing ?\"\n",
    "indexes = convert2tensor(sentence)\n",
    "\n",
    "indexes.size()"
   ]
  },
  {
   "cell_type": "code",
   "execution_count": null,
   "id": "a705de15",
   "metadata": {},
   "outputs": [
    {
     "data": {
      "text/plain": [
       "torch.Size([1, 5, 10])"
      ]
     },
     "execution_count": 10,
     "metadata": {},
     "output_type": "execute_result"
    }
   ],
   "source": [
    "HIDDEN_SIZE = 10\n",
    "VOCAB_SIZE = len(words2index)\n",
    "\n",
    "embedding = nn.Embedding(VOCAB_SIZE, HIDDEN_SIZE)\n",
    "attention = Attention(HIDDEN_SIZE, HIDDEN_SIZE)\n",
    "\n",
    "sentence = \"How are you doing ?\"\n",
    "input_tensor = convert2tensor(sentence)\n",
    "embedded = embedding(input_tensor)\n",
    "embedded.size()"
   ]
  },
  {
   "cell_type": "code",
   "execution_count": 11,
   "id": "7d788681",
   "metadata": {},
   "outputs": [
    {
     "data": {
      "text/plain": [
       "torch.Size([1, 5, 10])"
      ]
     },
     "execution_count": 11,
     "metadata": {},
     "output_type": "execute_result"
    }
   ],
   "source": [
    "hidden_states = attention(embedded)\n",
    "hidden_states.size()"
   ]
  },
  {
   "cell_type": "code",
   "execution_count": 12,
   "id": "6bf47ae2",
   "metadata": {},
   "outputs": [],
   "source": [
    "d_in = HIDDEN_SIZE\n",
    "d_out = HIDDEN_SIZE\n",
    "Q = nn.Linear(d_in, d_out)\n",
    "K = nn.Linear(d_in, d_out)\n",
    "V = nn.Linear(d_in, d_out)"
   ]
  },
  {
   "cell_type": "code",
   "execution_count": 13,
   "id": "7ab0b377",
   "metadata": {},
   "outputs": [
    {
     "data": {
      "text/plain": [
       "(torch.Size([1, 5, 10]), torch.Size([1, 5, 10]), torch.Size([1, 5, 10]))"
      ]
     },
     "execution_count": 13,
     "metadata": {},
     "output_type": "execute_result"
    }
   ],
   "source": [
    "queries, keys, values = Q(embedded), K(embedded), V(embedded)\n",
    "queries.size(), keys.size(), values.size()"
   ]
  },
  {
   "cell_type": "code",
   "execution_count": 14,
   "id": "c30be28d",
   "metadata": {},
   "outputs": [
    {
     "data": {
      "text/plain": [
       "torch.Size([1, 5, 5])"
      ]
     },
     "execution_count": 14,
     "metadata": {},
     "output_type": "execute_result"
    }
   ],
   "source": [
    "scores = torch.bmm(queries, keys.transpose(1, 2))\n",
    "scores.size()"
   ]
  },
  {
   "cell_type": "code",
   "execution_count": 16,
   "id": "fe378bff",
   "metadata": {},
   "outputs": [
    {
     "data": {
      "text/plain": [
       "tensor([[1.0000, 1.0000, 1.0000, 1.0000, 1.0000]], grad_fn=<SumBackward1>)"
      ]
     },
     "execution_count": 16,
     "metadata": {},
     "output_type": "execute_result"
    }
   ],
   "source": [
    "sccores = scores / (d_out ** 0.5)\n",
    "attention = F.softmax(scores, dim=2)\n",
    "attention.size()\n",
    "attention.sum(dim=2)"
   ]
  },
  {
   "cell_type": "code",
   "execution_count": 17,
   "id": "8f2fc290",
   "metadata": {},
   "outputs": [
    {
     "data": {
      "text/plain": [
       "tensor([[[0.3015, 0.1517, 0.0670, 0.2563, 0.2236],\n",
       "         [0.1004, 0.3076, 0.1216, 0.1636, 0.3067],\n",
       "         [0.2527, 0.0839, 0.1172, 0.1151, 0.4311],\n",
       "         [0.1245, 0.2783, 0.3111, 0.1196, 0.1665],\n",
       "         [0.1465, 0.1520, 0.1721, 0.1547, 0.3747]]],\n",
       "       grad_fn=<SoftmaxBackward0>)"
      ]
     },
     "execution_count": 17,
     "metadata": {},
     "output_type": "execute_result"
    }
   ],
   "source": [
    "attention"
   ]
  },
  {
   "cell_type": "code",
   "execution_count": 18,
   "id": "24f79827",
   "metadata": {},
   "outputs": [
    {
     "data": {
      "text/plain": [
       "torch.Size([1, 5, 10])"
      ]
     },
     "execution_count": 18,
     "metadata": {},
     "output_type": "execute_result"
    }
   ],
   "source": [
    "hidden_states = torch.bmm(attention, values)\n",
    "hidden_states.size()"
   ]
  },
  {
   "cell_type": "code",
   "execution_count": null,
   "id": "14e25958",
   "metadata": {},
   "outputs": [],
   "source": []
  }
 ],
 "metadata": {
  "kernelspec": {
   "display_name": ".venv",
   "language": "python",
   "name": "python3"
  },
  "language_info": {
   "codemirror_mode": {
    "name": "ipython",
    "version": 3
   },
   "file_extension": ".py",
   "mimetype": "text/x-python",
   "name": "python",
   "nbconvert_exporter": "python",
   "pygments_lexer": "ipython3",
   "version": "3.12.0"
  }
 },
 "nbformat": 4,
 "nbformat_minor": 5
}
