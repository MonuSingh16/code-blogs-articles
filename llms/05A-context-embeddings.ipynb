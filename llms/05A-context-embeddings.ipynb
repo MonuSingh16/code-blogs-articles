{
 "cells": [
  {
   "cell_type": "markdown",
   "id": "1ed38108",
   "metadata": {},
   "source": [
    "#### 01. Context-Aware Embeddings - BERT\n",
    "\n",
    "- Traditional word embeddings like Word2Vec or GloVe assign a single vector to each word, regardless of context.\n",
    "\n",
    "- This is problematic for words with multiple meanings (polysemy), such as \"bank\" (river bank vs. financial bank).\n",
    "\n",
    "- Context-aware models like BERT generate different embeddings for the same word depending on its context in a sentence.\n"
   ]
  },
  {
   "cell_type": "code",
   "execution_count": null,
   "id": "5edf0cf0",
   "metadata": {},
   "outputs": [
    {
     "name": "stderr",
     "output_type": "stream",
     "text": [
      "/Users/monusingh/work-share/code-blogs-articles/.venv/lib/python3.12/site-packages/tqdm/auto.py:21: TqdmWarning: IProgress not found. Please update jupyter and ipywidgets. See https://ipywidgets.readthedocs.io/en/stable/user_install.html\n",
      "  from .autonotebook import tqdm as notebook_tqdm\n"
     ]
    }
   ],
   "source": [
    "from transformers import BertTokenizer, BertModel\n",
    "import torch\n",
    "\n",
    "# Load pre-trained BERT model and tokenizer\n",
    "# The tokenizer splits sentences into tokens\n",
    "# that BERT understands, including handling subwords.\n",
    "\n",
    "# the embedding (hidden) dimension is 768\n",
    "tokenizer = BertTokenizer.from_pretrained('bert-base-uncased')\n",
    "model = BertModel.from_pretrained('bert-base-uncased')\n",
    "# model.config.hidden_size == 768, Can't change, pre-determined as pre-trained"
   ]
  },
  {
   "cell_type": "code",
   "execution_count": null,
   "id": "0cc2aba2",
   "metadata": {},
   "outputs": [
    {
     "name": "stdout",
     "output_type": "stream",
     "text": [
      "Tokens in sentence 1: ['[CLS]', 'he', 'sat', 'by', 'the', 'river', 'bank', '.', '[SEP]']\n",
      "Tokens in sentence 2: ['[CLS]', 'she', 'deposited', 'money', 'in', 'the', 'bank', '.', '[SEP]']\n",
      "Embedding for 'bank' in sentence 1 (river context): [ 0.15994921 -0.33814338 -0.03246783 -0.08658472 -0.39891648]\n",
      "Embedding for 'bank' in sentence 2 (money context): [ 0.3031039  -0.36687252 -0.35636595  0.1448596   1.0418966 ]\n"
     ]
    }
   ],
   "source": [
    "# Two sentences with \"bank\" in different contexts\n",
    "sentences = [\n",
    "    \"He sat by the river bank.\",\n",
    "    \"She deposited money in the bank.\"\n",
    "]\n",
    "\n",
    "def get_word_embedding(sentence, target_word):\n",
    "    '''\n",
    "    Tokenizes the sentence.\n",
    "    Pass through BERT, get the last hidden state\n",
    "    Find token corresponding to the target word which is \"bank\"\n",
    "    '''\n",
    "\n",
    "    # Tokenize and get input IDs\n",
    "    inputs = tokenizer(sentence, return_tensors='pt') # pt stands for PyTorch, ;tf for tensorfow\n",
    "    # For BERT, the maximum input length is 512 tokens (including special tokens like [CLS] and [SEP]).\n",
    "    # inputs = tokenizer(sentence, return_tensors='pt', max_length=512, truncation=True)\n",
    "    \n",
    "    with torch.no_grad(): # for inference, no gradient calc, hence faster & less memory\n",
    "        outputs = model(**inputs) # input is dict - {'input_ids': ..., 'attention_mask': ...}\n",
    "    \n",
    "    # Get the last hidden state (batch_size, seq_len, hidden_size)\n",
    "    # i.e the output of final layer for each token in input\n",
    "    last_hidden_state = outputs.last_hidden_state.squeeze(0) # removes firs dim, if size =1\n",
    "    \n",
    "    # Decode tokens to align with input words\n",
    "    tokens = tokenizer.convert_ids_to_tokens(inputs['input_ids'][0])\n",
    "    \n",
    "    # Find the index of the target word (may need to handle subwords)\n",
    "    # We'll take the first occurrence for simplicity\n",
    "    for i, token in enumerate(tokens):\n",
    "        if target_word in token:\n",
    "            return last_hidden_state[i].numpy(), tokens\n",
    "    return None, tokens\n",
    "\n",
    "# Get embeddings for \"bank\" in both sentences\n",
    "vec1, tokens1 = get_word_embedding(sentences[0], \"bank\")\n",
    "vec2, tokens2 = get_word_embedding(sentences[1], \"bank\")\n",
    "\n",
    "print(\"Tokens in sentence 1:\", tokens1)\n",
    "print(\"Tokens in sentence 2:\", tokens2)\n",
    "print(\"Embedding for 'bank' in sentence 1 (river context):\", vec1[:5])  # Show first 5 dims\n",
    "print(\"Embedding for 'bank' in sentence 2 (money context):\", vec2[:5])"
   ]
  },
  {
   "cell_type": "code",
   "execution_count": null,
   "id": "2580d510",
   "metadata": {},
   "outputs": [
    {
     "name": "stdout",
     "output_type": "stream",
     "text": [
      "Cosine similarity between 'bank' in different contexts: 0.5278751\n"
     ]
    }
   ],
   "source": [
    "from numpy import dot\n",
    "from numpy.linalg import norm\n",
    "\n",
    "def cosine_similarity(a, b):\n",
    "    return dot(a, b) / (norm(a) * norm(b))\n",
    "\n",
    "similarity = cosine_similarity(vec1, vec2)\n",
    "print(\"Cosine similarity between 'bank' in different contexts:\", similarity)\n",
    "# the vectors are different, and their similarity will be less than 1"
   ]
  },
  {
   "cell_type": "markdown",
   "id": "9929400f",
   "metadata": {},
   "source": [
    "1. MSP (Masked Language Modeling, MLM)\n",
    "- Masked Language Modeling (MLM) is the main pre-training task for BERT.\n",
    "- During training, some words in the input are randomly replaced with a [MASK] token.\n",
    "- The model learns to predict the original word for each [MASK] using the context from both sides (left and right). Helps BERT understand context and relationships between words.\n",
    "\n",
    "2. NSP (Next Sentence Prediction)\n",
    "- Next Sentence Prediction (NSP) is another pre-training task for BERT.\n",
    "- The model is given pairs of sentences and must predict if the second sentence logically follows the first.\n",
    "- 50% of the time, the second sentence is the actual next sentence; 50% of the time, it’s a random sentence. Helps BERT understand relationships between sentences, useful for tasks like Question Answering and Natural Language Inference.\n",
    "\n",
    "3. Bidirectional\n",
    "- BERT is bidirectional, meaning it looks at the entire sentence (both left and right context) when encoding each word.\n",
    "- Traditional models like GPT or LSTM read text left-to-right or right-to-left, but not both at once. BERT can use full context, making its embeddings more powerful and context-aware."
   ]
  },
  {
   "cell_type": "code",
   "execution_count": null,
   "id": "2d22b51a",
   "metadata": {},
   "outputs": [],
   "source": []
  }
 ],
 "metadata": {
  "kernelspec": {
   "display_name": "code-blogs-articles",
   "language": "python",
   "name": "python3"
  },
  "language_info": {
   "codemirror_mode": {
    "name": "ipython",
    "version": 3
   },
   "file_extension": ".py",
   "mimetype": "text/x-python",
   "name": "python",
   "nbconvert_exporter": "python",
   "pygments_lexer": "ipython3",
   "version": "3.12.0"
  }
 },
 "nbformat": 4,
 "nbformat_minor": 5
}
