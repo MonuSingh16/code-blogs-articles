{
 "cells": [
  {
   "cell_type": "code",
   "execution_count": 5,
   "id": "6ad364bf",
   "metadata": {},
   "outputs": [
    {
     "name": "stdout",
     "output_type": "stream",
     "text": [
      "True\n"
     ]
    }
   ],
   "source": [
    "import torch\n",
    "torch.__version__\n",
    "\n",
    "torch.mps.is_available() # For Mac OS\n",
    "print(torch.backends.mps.is_available())\n",
    "# Mac has an Apple Silicon chip, to accelerate PyTorch code."
   ]
  },
  {
   "cell_type": "markdown",
   "id": "ebac5120",
   "metadata": {},
   "source": [
    "#### 2. Common Tensor Operations "
   ]
  },
  {
   "cell_type": "code",
   "execution_count": 15,
   "id": "028076d1",
   "metadata": {},
   "outputs": [
    {
     "name": "stdout",
     "output_type": "stream",
     "text": [
      "torch.int64\n",
      "torch.float32\n",
      "torch.float32\n",
      "tensor([[1, 2, 3],\n",
      "        [3, 4, 4]])\n",
      "torch.Size([2, 3])\n",
      "tensor([[1, 2],\n",
      "        [3, 3],\n",
      "        [4, 4]])\n",
      "torch.Size([2, 3])\n"
     ]
    },
    {
     "data": {
      "text/plain": [
       "tensor([[14, 23],\n",
       "        [23, 41]])"
      ]
     },
     "execution_count": 15,
     "metadata": {},
     "output_type": "execute_result"
    }
   ],
   "source": [
    "# 1. Tensors are data-containers for array-like\n",
    "tensor0d = torch.tensor(1) # 0d Tensor\n",
    "tensor1d = torch.tensor([1, 2, 3]) # 1D Tensor\n",
    "tensor2d = torch.tensor([[1, 2, 3], [3, 4, 4]]) # 2D Tensor, From Nested Python List\n",
    "tensor3d = torch.tensor([[[1, 2], [3, 4]], [[1, 6], [2, 9]]])\n",
    "\n",
    "# 2. Tensor DataTypes\n",
    "print(tensor1d.dtype)\n",
    "\n",
    "# Float Data Type\n",
    "floatvec = torch.tensor([1.0, 3.0, 5.0, 6.9])\n",
    "print(floatvec.dtype) # 32-bit\n",
    "# A 32 bit offers sufficient precision, consume less memory & resources\n",
    "# Most GPU Arch are optimized for 32-Bits computations.\n",
    "# Hence Speed Up Model Trainig & inference\n",
    "\n",
    "# Possible to change the precision using `.to` method\n",
    "floatvec = tensor1d.to(torch.float32)\n",
    "print(floatvec.dtype)\n",
    "\n",
    "# 3 Tensor Operations\n",
    "print(tensor2d)\n",
    "print(tensor2d.shape) # Tensor has 2 rows and 3 columns\n",
    "tensor2d_reshape = tensor2d.reshape(3, 2)\n",
    "print(tensor2d_reshape)\n",
    "print(tensor2d.shape)\n",
    "\n",
    "tensor2d.view(3, 2) # Most common way to reshape\n",
    "\n",
    "tensor2d.T # Transpose the tensor, flipping it across its diagonal\n",
    "\n",
    "tensor2d.matmul(tensor2d.T) # matmul or @\n",
    "tensor2d @ tensor2d.T"
   ]
  },
  {
   "cell_type": "markdown",
   "id": "37ba2faa",
   "metadata": {},
   "source": [
    "#### 3. Seeing Model as Computattional Graph "
   ]
  },
  {
   "cell_type": "code",
   "execution_count": 18,
   "id": "e3ebc0c7",
   "metadata": {},
   "outputs": [
    {
     "name": "stdout",
     "output_type": "stream",
     "text": [
      "tensor(0.0852)\n"
     ]
    }
   ],
   "source": [
    "# PyTorch’s automatic differentiation engine, also known as autograd\n",
    "# to compute gradients in dynamic computational graphs automatically\n",
    "\n",
    "# computation graph  -> lays out the sequence of calculations needed to \n",
    "# compute the output of a neural network – would be required \n",
    "# to compute the required gradients for backpropagation, \n",
    "# which is the main training algorithm for neural networks.\n",
    "import torch.nn.functional as F\n",
    "\n",
    "y = torch.tensor([1.0]) # True label\n",
    "x1 = torch.tensor([1.1]) # Input Feature\n",
    "w1 = torch.tensor([2.2]) # weight parameter\n",
    "b1 = torch.tensor([0.0]) # bias unit\n",
    "\n",
    "z = x1 * w1 + b1 # net input\n",
    "a = torch.sigmoid(z) # sigmoid activation\n",
    "\n",
    "loss = F.binary_cross_entropy(a, y)\n",
    "print(loss)\n",
    "\n",
    "# Can use gradient of loss function w.r.t w1 & b1 (model parameters), \n",
    "# to train model\n"
   ]
  },
  {
   "cell_type": "markdown",
   "id": "8ed54366",
   "metadata": {},
   "source": [
    "#### 4. Automatic Differetiation Made Easy"
   ]
  },
  {
   "cell_type": "code",
   "execution_count": 23,
   "id": "9d404e54",
   "metadata": {},
   "outputs": [
    {
     "name": "stdout",
     "output_type": "stream",
     "text": [
      "(tensor([-0.0898]),)\n",
      "(tensor([-0.0817]),)\n",
      "tensor([-0.0898])\n",
      "tensor([-0.0817])\n"
     ]
    }
   ],
   "source": [
    "# build such a graph internally by default if one of its terminal nodes \n",
    "# has the requires_grad attribute set to True.\n",
    "\n",
    "# Gradients are required when training neural networks\n",
    "# via the popular backpropagation algorithm\n",
    "\n",
    "# Partial Derivative - Rate at which function changes w.r.t to one of its variables\n",
    "# Gradient - Vector of Partial Derivative of mutivariate function\n",
    "# Provides info to update each of the parameter that minimizes loss function (gradient descent)\n",
    "# loss function serves as proxy for the model performance, \n",
    "\n",
    "# PyTorch’s autograd engine constructs a computational graph \n",
    "# in the background. Then, calling the grad function, \n",
    "# we can compute the gradient of the loss with respect to model parameter w1 \n",
    "\n",
    "import torch.nn.functional as F\n",
    "from torch.autograd import grad\n",
    "\n",
    "y = torch.tensor([1.0])\n",
    "x1 = torch.tensor([1.1])\n",
    "w1 = torch.tensor([2.2], requires_grad=True)\n",
    "b1 = torch.tensor([0.0], requires_grad=True)\n",
    "\n",
    "z = w1 * x1 + b1\n",
    "a = torch.sigmoid(z)\n",
    "\n",
    "loss = F.binary_cross_entropy(a, y)\n",
    "grad_L_w1 = grad(loss, w1, retain_graph=True)\n",
    "grad_L_b1 = grad(loss, b1, retain_graph=True)\n",
    "\n",
    "# PyTorch destroys the computation graph after calculating the gradients \n",
    "# to free memory, hence `retain_graph=True`\n",
    "\n",
    "print(grad_L_w1)\n",
    "print(grad_L_b1)\n",
    "\n",
    "# we can call .backward on the loss, and PyTorch will compute \n",
    "# the gradients of all the leaf nodes in the graph, \n",
    "# which will be stored via the tensors’ .grad attributes:\n",
    "\n",
    "loss.backward()\n",
    "print(w1.grad)\n",
    "print(b1.grad)"
   ]
  },
  {
   "cell_type": "markdown",
   "id": "100c54e4",
   "metadata": {},
   "source": [
    "#### 5. Implementing Multilayer Neural Network\n"
   ]
  },
  {
   "cell_type": "code",
   "execution_count": null,
   "id": "c2bd8435",
   "metadata": {},
   "outputs": [
    {
     "name": "stdout",
     "output_type": "stream",
     "text": [
      "NeuralNetwork(\n",
      "  (layers): Sequential(\n",
      "    (0): Linear(in_features=50, out_features=30, bias=True)\n",
      "    (1): ReLU()\n",
      "    (2): Linear(in_features=30, out_features=20, bias=True)\n",
      "    (3): ReLU()\n",
      "    (4): Linear(in_features=20, out_features=3, bias=True)\n",
      "  )\n",
      ")\n",
      "Total number of trainable model parameters :  2213\n",
      "torch.Size([30, 50])\n",
      "tensor([[-0.0879,  0.1729,  0.1534]], grad_fn=<AddmmBackward0>)\n",
      "tensor([[0.2801, 0.3635, 0.3565]])\n"
     ]
    }
   ],
   "source": [
    "import torch\n",
    "class NeuralNetwork(torch.nn.Module):\n",
    "    # torch.nn.Module has a __call__ method. \n",
    "    # gets invoked when nn.Module instance - model(X)\n",
    "    # __call__ method is responsible for calling `forward` method\n",
    "    # 1. Hooks - pre-forward & post-forward hooks, fn to register executed before and after \n",
    "    # 2. Parameter Checks, # 3. Automatic Differntiation Setup # 4. Device Mgmt, if already inp & output moved\n",
    "\n",
    "    def __init__(self, num_in, num_out):\n",
    "        super().__init__()\n",
    "\n",
    "        self.layers = torch.nn.Sequential(\n",
    "\n",
    "            torch.nn.Linear(num_in, 30),\n",
    "            torch.nn.ReLU(),\n",
    "\n",
    "            torch.nn.Linear(30, 20),\n",
    "            torch.nn.ReLU(),\n",
    "\n",
    "            torch.nn.Linear(20, num_out),\n",
    "            # Output of last layer\n",
    "            # No passing to a nonlinear activation fn.\n",
    "            # combine the softmax operation with negative log-likelihood loss in a single class\n",
    "            # due to numerical efficiency and stability\n",
    "\n",
    "\n",
    "        )\n",
    "    def forward(self, x):\n",
    "        logits = self.layers(x) # As Sequential is already part of __init__\n",
    "        return logits\n",
    "\n",
    "#=========Model Arch ============#\n",
    "model = NeuralNetwork(50, 3)\n",
    "print(model)\n",
    "\n",
    "#============ Parameters =========#\n",
    "num_params = sum(\n",
    "    p.numel() for p in model.parameters() if p.requires_grad\n",
    ")\n",
    "print(\"Total number of trainable model parameters : \", num_params)\n",
    "# each parameter which requires_grad=True, count as trainable parameter\n",
    "# these are contained in nn.Linear layers (Fully Connected Layer)\n",
    "print(model.layers[0].weight.shape)\n",
    "# model weights are initalized with small random numbers - to break symmetry during training\n",
    "\n",
    "#========== Model Call ============#\n",
    "torch.manual_seed(123)\n",
    "X = torch.rand((1, 50)) # a single random training example with 50 features\n",
    "out = model(X) # it automatically executes the forward pass of the model ?\n",
    "print(out)\n",
    "\n",
    "# Returns three scores, and grad_fn - Which is used by PyTorch to compute gradients\n",
    "# If we just use for prediction after training, constructing CP for backpropogation can be wasteful\n",
    "# unnecessary computations and consumes additional memory\n",
    "# Hence use torch.no_grad() context manager, does not keep track of gradient\n",
    "\n",
    "#========== Inference =============#\n",
    "with torch.no_grad():\n",
    "#    out = model(X)\n",
    "    out = torch.softmax(model(X), dim=1)\n",
    "print(out)\n",
    "# The values can be interpreted as class-membership that sum up to 1"
   ]
  },
  {
   "cell_type": "markdown",
   "id": "20cade17",
   "metadata": {},
   "source": [
    "#### 6. Setting up efficient data loaders\n"
   ]
  },
  {
   "cell_type": "code",
   "execution_count": null,
   "id": "ed8edc5e",
   "metadata": {},
   "outputs": [],
   "source": [
    "# Dataset class is used to define how each record is loaded\n",
    "# DataLoader handles how the data is shuffled and assembled into batches\n",
    "\n",
    "X_train = torch.tensor(\n",
    "    [-1.2, 3.1],\n",
    "    [-0.9, 2.9],\n",
    "    [-0.5, 2.6],\n",
    "    [2.3, -1.1],\n",
    "    [2.7, -1.5]\n",
    ")\n",
    "y_train = torch.tensor([0, 0, 0, 1, 1])\n",
    "X_test = torch.tensor(\n",
    "    [-0.8, 2.8],\n",
    "    [2.6, -1.6],\n",
    ")\n",
    "y_test = torch.tensor([0, 1])\n"
   ]
  },
  {
   "cell_type": "code",
   "execution_count": null,
   "id": "e7e59a32",
   "metadata": {},
   "outputs": [],
   "source": []
  }
 ],
 "metadata": {
  "kernelspec": {
   "display_name": "code-blogs-articles",
   "language": "python",
   "name": "python3"
  },
  "language_info": {
   "codemirror_mode": {
    "name": "ipython",
    "version": 3
   },
   "file_extension": ".py",
   "mimetype": "text/x-python",
   "name": "python",
   "nbconvert_exporter": "python",
   "pygments_lexer": "ipython3",
   "version": "3.12.0"
  }
 },
 "nbformat": 4,
 "nbformat_minor": 5
}
