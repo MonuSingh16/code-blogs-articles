{
 "cells": [
  {
   "cell_type": "code",
   "execution_count": null,
   "id": "6ad364bf",
   "metadata": {},
   "outputs": [
    {
     "name": "stdout",
     "output_type": "stream",
     "text": [
      "True\n"
     ]
    }
   ],
   "source": [
    "import torch\n",
    "torch.__version__\n",
    "\n",
    "torch.mps.is_available() # For Mac OS\n",
    "print(torch.backends.mps.is_available())\n",
    "# Mac has an Apple Silicon chip, to accelerate PyTorch code."
   ]
  },
  {
   "cell_type": "code",
   "execution_count": 15,
   "id": "028076d1",
   "metadata": {},
   "outputs": [
    {
     "name": "stdout",
     "output_type": "stream",
     "text": [
      "torch.int64\n",
      "torch.float32\n",
      "torch.float32\n",
      "tensor([[1, 2, 3],\n",
      "        [3, 4, 4]])\n",
      "torch.Size([2, 3])\n",
      "tensor([[1, 2],\n",
      "        [3, 3],\n",
      "        [4, 4]])\n",
      "torch.Size([2, 3])\n"
     ]
    },
    {
     "data": {
      "text/plain": [
       "tensor([[14, 23],\n",
       "        [23, 41]])"
      ]
     },
     "execution_count": 15,
     "metadata": {},
     "output_type": "execute_result"
    }
   ],
   "source": [
    "# 1. Tensors are data-containers for array-like\n",
    "tensor0d = torch.tensor(1) # 0d Tensor\n",
    "tensor1d = torch.tensor([1, 2, 3]) # 1D Tensor\n",
    "tensor2d = torch.tensor([[1, 2, 3], [3, 4, 4]]) # 2D Tensor, From Nested Python List\n",
    "tensor3d = torch.tensor([[[1, 2], [3, 4]], [[1, 6], [2, 9]]])\n",
    "\n",
    "# 2. Tensor DataTypes\n",
    "print(tensor1d.dtype)\n",
    "\n",
    "# Float Data Type\n",
    "floatvec = torch.tensor([1.0, 3.0, 5.0, 6.9])\n",
    "print(floatvec.dtype) # 32-bit\n",
    "# A 32 bit offers sufficient precision, consume less memory & resources\n",
    "# Most GPU Arch are optimized for 32-Bits computations.\n",
    "# Hence Speed Up Model Trainig & inference\n",
    "\n",
    "# Possible to change the precision using `.to` method\n",
    "floatvec = tensor1d.to(torch.float32)\n",
    "print(floatvec.dtype)\n",
    "\n",
    "# 3 Tensor Operations\n",
    "print(tensor2d)\n",
    "print(tensor2d.shape) # Tensor has 2 rows and 3 columns\n",
    "tensor2d_reshape = tensor2d.reshape(3, 2)\n",
    "print(tensor2d_reshape)\n",
    "print(tensor2d.shape)\n",
    "\n",
    "tensor2d.view(3, 2) # Most common way to reshape\n",
    "\n",
    "tensor2d.T # Transpose the tensor, flipping it across its diagonal\n",
    "\n",
    "tensor2d.matmul(tensor2d.T) # matmul or @\n",
    "tensor2d @ tensor2d.T"
   ]
  },
  {
   "cell_type": "code",
   "execution_count": null,
   "id": "37ba2faa",
   "metadata": {},
   "outputs": [],
   "source": []
  }
 ],
 "metadata": {
  "kernelspec": {
   "display_name": "code-blogs-articles",
   "language": "python",
   "name": "python3"
  },
  "language_info": {
   "codemirror_mode": {
    "name": "ipython",
    "version": 3
   },
   "file_extension": ".py",
   "mimetype": "text/x-python",
   "name": "python",
   "nbconvert_exporter": "python",
   "pygments_lexer": "ipython3",
   "version": "3.12.0"
  }
 },
 "nbformat": 4,
 "nbformat_minor": 5
}
