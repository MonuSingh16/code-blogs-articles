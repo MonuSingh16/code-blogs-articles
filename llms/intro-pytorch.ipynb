{
 "cells": [
  {
   "cell_type": "code",
   "execution_count": 5,
   "id": "6ad364bf",
   "metadata": {},
   "outputs": [
    {
     "name": "stdout",
     "output_type": "stream",
     "text": [
      "True\n"
     ]
    }
   ],
   "source": [
    "import torch\n",
    "torch.__version__\n",
    "\n",
    "torch.mps.is_available() # For Mac OS\n",
    "print(torch.backends.mps.is_available())\n",
    "# Mac has an Apple Silicon chip, to accelerate PyTorch code."
   ]
  },
  {
   "cell_type": "markdown",
   "id": "ebac5120",
   "metadata": {},
   "source": [
    "#### 2. Common Tensor Operations "
   ]
  },
  {
   "cell_type": "code",
   "execution_count": 15,
   "id": "028076d1",
   "metadata": {},
   "outputs": [
    {
     "name": "stdout",
     "output_type": "stream",
     "text": [
      "torch.int64\n",
      "torch.float32\n",
      "torch.float32\n",
      "tensor([[1, 2, 3],\n",
      "        [3, 4, 4]])\n",
      "torch.Size([2, 3])\n",
      "tensor([[1, 2],\n",
      "        [3, 3],\n",
      "        [4, 4]])\n",
      "torch.Size([2, 3])\n"
     ]
    },
    {
     "data": {
      "text/plain": [
       "tensor([[14, 23],\n",
       "        [23, 41]])"
      ]
     },
     "execution_count": 15,
     "metadata": {},
     "output_type": "execute_result"
    }
   ],
   "source": [
    "# 1. Tensors are data-containers for array-like\n",
    "tensor0d = torch.tensor(1) # 0d Tensor\n",
    "tensor1d = torch.tensor([1, 2, 3]) # 1D Tensor\n",
    "tensor2d = torch.tensor([[1, 2, 3], [3, 4, 4]]) # 2D Tensor, From Nested Python List\n",
    "tensor3d = torch.tensor([[[1, 2], [3, 4]], [[1, 6], [2, 9]]])\n",
    "\n",
    "# 2. Tensor DataTypes\n",
    "print(tensor1d.dtype)\n",
    "\n",
    "# Float Data Type\n",
    "floatvec = torch.tensor([1.0, 3.0, 5.0, 6.9])\n",
    "print(floatvec.dtype) # 32-bit\n",
    "# A 32 bit offers sufficient precision, consume less memory & resources\n",
    "# Most GPU Arch are optimized for 32-Bits computations.\n",
    "# Hence Speed Up Model Trainig & inference\n",
    "\n",
    "# Possible to change the precision using `.to` method\n",
    "floatvec = tensor1d.to(torch.float32)\n",
    "print(floatvec.dtype)\n",
    "\n",
    "# 3 Tensor Operations\n",
    "print(tensor2d)\n",
    "print(tensor2d.shape) # Tensor has 2 rows and 3 columns\n",
    "tensor2d_reshape = tensor2d.reshape(3, 2)\n",
    "print(tensor2d_reshape)\n",
    "print(tensor2d.shape)\n",
    "\n",
    "tensor2d.view(3, 2) # Most common way to reshape\n",
    "\n",
    "tensor2d.T # Transpose the tensor, flipping it across its diagonal\n",
    "\n",
    "tensor2d.matmul(tensor2d.T) # matmul or @\n",
    "tensor2d @ tensor2d.T"
   ]
  },
  {
   "cell_type": "markdown",
   "id": "37ba2faa",
   "metadata": {},
   "source": [
    "#### 3. Seeing Model as Computattional Graph "
   ]
  },
  {
   "cell_type": "code",
   "execution_count": 18,
   "id": "e3ebc0c7",
   "metadata": {},
   "outputs": [
    {
     "name": "stdout",
     "output_type": "stream",
     "text": [
      "tensor(0.0852)\n"
     ]
    }
   ],
   "source": [
    "# PyTorch’s automatic differentiation engine, also known as autograd\n",
    "# to compute gradients in dynamic computational graphs automatically\n",
    "\n",
    "# computation graph  -> lays out the sequence of calculations needed to \n",
    "# compute the output of a neural network – would be required \n",
    "# to compute the required gradients for backpropagation, \n",
    "# which is the main training algorithm for neural networks.\n",
    "import torch.nn.functional as F\n",
    "\n",
    "y = torch.tensor([1.0]) # True label\n",
    "x1 = torch.tensor([1.1]) # Input Feature\n",
    "w1 = torch.tensor([2.2]) # weight parameter\n",
    "b1 = torch.tensor([0.0]) # bias unit\n",
    "\n",
    "z = x1 * w1 + b1 # net input\n",
    "a = torch.sigmoid(z) # sigmoid activation\n",
    "\n",
    "loss = F.binary_cross_entropy(a, y)\n",
    "print(loss)\n",
    "\n",
    "# Can use gradient of loss function w.r.t w1 & b1 (model parameters), \n",
    "# to train model\n"
   ]
  },
  {
   "cell_type": "markdown",
   "id": "8ed54366",
   "metadata": {},
   "source": [
    "#### 4. Automatic Differetiation Made Easy"
   ]
  },
  {
   "cell_type": "code",
   "execution_count": 23,
   "id": "9d404e54",
   "metadata": {},
   "outputs": [
    {
     "name": "stdout",
     "output_type": "stream",
     "text": [
      "(tensor([-0.0898]),)\n",
      "(tensor([-0.0817]),)\n",
      "tensor([-0.0898])\n",
      "tensor([-0.0817])\n"
     ]
    }
   ],
   "source": [
    "# build such a graph internally by default if one of its terminal nodes \n",
    "# has the requires_grad attribute set to True.\n",
    "\n",
    "# Gradients are required when training neural networks\n",
    "# via the popular backpropagation algorithm\n",
    "\n",
    "# Partial Derivative - Rate at which function changes w.r.t to one of its variables\n",
    "# Gradient - Vector of Partial Derivative of mutivariate function\n",
    "# Provides info to update each of the parameter that minimizes loss function (gradient descent)\n",
    "# loss function serves as proxy for the model performance, \n",
    "\n",
    "# PyTorch’s autograd engine constructs a computational graph \n",
    "# in the background. Then, calling the grad function, \n",
    "# we can compute the gradient of the loss with respect to model parameter w1 \n",
    "\n",
    "import torch.nn.functional as F\n",
    "from torch.autograd import grad\n",
    "\n",
    "y = torch.tensor([1.0])\n",
    "x1 = torch.tensor([1.1])\n",
    "w1 = torch.tensor([2.2], requires_grad=True)\n",
    "b1 = torch.tensor([0.0], requires_grad=True)\n",
    "\n",
    "z = w1 * x1 + b1\n",
    "a = torch.sigmoid(z)\n",
    "\n",
    "loss = F.binary_cross_entropy(a, y)\n",
    "grad_L_w1 = grad(loss, w1, retain_graph=True)\n",
    "grad_L_b1 = grad(loss, b1, retain_graph=True)\n",
    "\n",
    "# PyTorch destroys the computation graph after calculating the gradients \n",
    "# to free memory, hence `retain_graph=True`\n",
    "\n",
    "print(grad_L_w1)\n",
    "print(grad_L_b1)\n",
    "\n",
    "# we can call .backward on the loss, and PyTorch will compute \n",
    "# the gradients of all the leaf nodes in the graph, \n",
    "# which will be stored via the tensors’ .grad attributes:\n",
    "\n",
    "loss.backward()\n",
    "print(w1.grad)\n",
    "print(b1.grad)"
   ]
  },
  {
   "cell_type": "code",
   "execution_count": null,
   "id": "100c54e4",
   "metadata": {},
   "outputs": [],
   "source": [
    "#### 5. Implementing Multilayer Neural Network\n"
   ]
  },
  {
   "cell_type": "code",
   "execution_count": null,
   "id": "c2bd8435",
   "metadata": {},
   "outputs": [],
   "source": []
  },
  {
   "cell_type": "code",
   "execution_count": null,
   "id": "20cade17",
   "metadata": {},
   "outputs": [],
   "source": []
  },
  {
   "cell_type": "code",
   "execution_count": null,
   "id": "e7e59a32",
   "metadata": {},
   "outputs": [],
   "source": []
  }
 ],
 "metadata": {
  "kernelspec": {
   "display_name": "code-blogs-articles",
   "language": "python",
   "name": "python3"
  },
  "language_info": {
   "codemirror_mode": {
    "name": "ipython",
    "version": 3
   },
   "file_extension": ".py",
   "mimetype": "text/x-python",
   "name": "python",
   "nbconvert_exporter": "python",
   "pygments_lexer": "ipython3",
   "version": "3.12.0"
  }
 },
 "nbformat": 4,
 "nbformat_minor": 5
}
