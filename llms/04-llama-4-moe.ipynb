{
 "cells": [
  {
   "cell_type": "code",
   "execution_count": 47,
   "metadata": {},
   "outputs": [
    {
     "name": "stdout",
     "output_type": "stream",
     "text": [
      "Using device: mps\n"
     ]
    }
   ],
   "source": [
    "import torch\n",
    "import torch.nn as nn\n",
    "import torch.optim as optim\n",
    "from torch.nn import functional as F\n",
    "\n",
    "from pprint import pprint\n",
    "\n",
    "# torch.manual_seed(1337) ensures our training results can be repeated. \n",
    "# That’s important when debugging or running comparisons, randomness in\n",
    "# weight initialization and batching can otherwise make runs inconsistent.\n",
    "torch.manual_seed(3)\n",
    "device = 'mps' if torch.mps.is_available() else 'cpu'\n",
    "print(f\"Using device: {device}\")"
   ]
  },
  {
   "cell_type": "code",
   "execution_count": 48,
   "metadata": {},
   "outputs": [],
   "source": [
    "hidden_dim = 64 # Dimension of the hidden state\n",
    "transformer_layers = 6 # Number of transformer layers\n",
    "num_heads = 2 # Multi-head attention heads, lets model learn different representations of the input data\n",
    "block_size = 32 # No of inputs blocks model can see at once\n",
    "rms_norm_eps = 1e-5 # Epsilon value for RMS normalization\n",
    "rope_theta = 10000.0\n",
    "\n",
    "num_experts = 8 # Number of experts in the mixture of experts model per layer\n",
    "select_experts_per_token = 2 # Top-K gating, for every token, router picks two experts\n",
    "expert_output_dim = hidden_dim * 2 # Each expert MLP expands the token’s dimensionality to a wider hidden space before projecting it back down. \n",
    "shared_expert_output_dim = hidden_dim * 2 #  If we ever use shared FFNs, this would be their size. \n",
    "\n",
    "learning_rate = 5e-4\n",
    "batch_size = 32 # We process 32 sequences at a time during training.\n",
    "epochs = 1000\n",
    "eval_interval = 200\n",
    "\n",
    "assert hidden_dim % num_heads == 0, \"hidden dim is not divisible by num heads\"\n",
    "dim_k = hidden_dim // num_heads\n",
    "# Each attention head works on a chunk of the embedding, and this derived value defines how big that chunk is. For us: 128 / 4 = 32 per head."
   ]
  },
  {
   "cell_type": "code",
   "execution_count": 49,
   "metadata": {},
   "outputs": [
    {
     "name": "stdout",
     "output_type": "stream",
     "text": [
      "Training data has 347 characters.\n"
     ]
    }
   ],
   "source": [
    "input_data = (\"Facebook was founded in a dorm room \"\n",
    "              \"at Harvard by Mark Zuckerberg and \" \n",
    "              \"his roommates. What began as a small \"\n",
    "              \"social experiment soon transformed \"\n",
    "              \"into a global platform, connecting \"\n",
    "              \"billions of people across the world. \"\n",
    "              \"Over the years, it expanded beyond \"\n",
    "              \"profiles and friend requests, \"\n",
    "              \"introducing features like the News \"\n",
    "              \"Feed, Messenger, and Marketplace.\")\n",
    "# This is our training data, which is the raw material our model will learn patterns from.\n",
    "total_chars = len(input_data)\n",
    "\n",
    "print(f\"Training data has {total_chars} characters.\")"
   ]
  },
  {
   "cell_type": "code",
   "execution_count": 50,
   "metadata": {},
   "outputs": [
    {
     "name": "stdout",
     "output_type": "stream",
     "text": [
      "{' ': 0,\n",
      " ',': 1,\n",
      " '.': 2,\n",
      " 'F': 3,\n",
      " 'H': 4,\n",
      " 'M': 5,\n",
      " 'N': 6,\n",
      " 'O': 7,\n",
      " 'W': 8,\n",
      " 'Z': 9,\n",
      " 'a': 10,\n",
      " 'b': 11,\n",
      " 'c': 12,\n",
      " 'd': 13,\n",
      " 'e': 14,\n",
      " 'f': 15,\n",
      " 'g': 16,\n",
      " 'h': 17,\n",
      " 'i': 18,\n",
      " 'k': 19,\n",
      " 'l': 20,\n",
      " 'm': 21,\n",
      " 'n': 22,\n",
      " 'o': 23,\n",
      " 'p': 24,\n",
      " 'q': 25,\n",
      " 'r': 26,\n",
      " 's': 27,\n",
      " 't': 28,\n",
      " 'u': 29,\n",
      " 'v': 30,\n",
      " 'w': 31,\n",
      " 'x': 32,\n",
      " 'y': 33}\n",
      "{0: ' ',\n",
      " 1: ',',\n",
      " 2: '.',\n",
      " 3: 'F',\n",
      " 4: 'H',\n",
      " 5: 'M',\n",
      " 6: 'N',\n",
      " 7: 'O',\n",
      " 8: 'W',\n",
      " 9: 'Z',\n",
      " 10: 'a',\n",
      " 11: 'b',\n",
      " 12: 'c',\n",
      " 13: 'd',\n",
      " 14: 'e',\n",
      " 15: 'f',\n",
      " 16: 'g',\n",
      " 17: 'h',\n",
      " 18: 'i',\n",
      " 19: 'k',\n",
      " 20: 'l',\n",
      " 21: 'm',\n",
      " 22: 'n',\n",
      " 23: 'o',\n",
      " 24: 'p',\n",
      " 25: 'q',\n",
      " 26: 'r',\n",
      " 27: 's',\n",
      " 28: 't',\n",
      " 29: 'u',\n",
      " 30: 'v',\n",
      " 31: 'w',\n",
      " 32: 'x',\n",
      " 33: 'y'}\n"
     ]
    },
    {
     "data": {
      "text/plain": [
       "347"
      ]
     },
     "execution_count": 50,
     "metadata": {},
     "output_type": "execute_result"
    }
   ],
   "source": [
    "chars = sorted(list(set(input_data))) # all unique characters\n",
    "# set() removes duplicates, sorted() sorts the characters\n",
    "# This gives us a list of unique characters in the input data.\n",
    "vocab_size = len(chars)\n",
    "\n",
    "# We create a mapping from characters to integers and vice versa.\n",
    "char_to_int = {i:idx for idx,i in enumerate(chars)}\n",
    "\n",
    "# This is a dictionary that maps each character to a unique integer.\n",
    "int_to_char = {idx:i for idx,i in enumerate(chars)}\n",
    "\n",
    "pprint(char_to_int), pprint(int_to_char)\n",
    "\n",
    "# Corresponding charaecters to integers mapping in the input data\n",
    "# This is a list comprehension that iterates over each character in the input data\n",
    "encoded_input_data = [char_to_int[ch] for ch in input_data]\n",
    "\n",
    "# Convert the encoded input data to a PyTorch tensor\n",
    "input_data_tensor = torch.tensor(encoded_input_data, dtype=torch.long, device=device)\n",
    "\n",
    "len(input_data_tensor)"
   ]
  },
  {
   "cell_type": "code",
   "execution_count": 51,
   "metadata": {},
   "outputs": [
    {
     "name": "stdout",
     "output_type": "stream",
     "text": [
      "tensor([ 3, 10, 12, 14, 11, 23, 23, 19,  0, 31, 10, 27,  0, 15, 23, 29, 22, 13,\n",
      "        14, 13,  0, 18, 22,  0, 10,  0, 13, 23, 26, 21,  0, 26],\n",
      "       device='mps:0')\n",
      "tensor([10, 12, 14, 11, 23, 23, 19,  0, 31, 10, 27,  0, 15, 23, 29, 22, 13, 14,\n",
      "        13,  0, 18, 22,  0, 10,  0, 13, 23, 26, 21,  0, 26, 23],\n",
      "       device='mps:0')\n"
     ]
    },
    {
     "data": {
      "text/plain": [
       "(None, None)"
      ]
     },
     "execution_count": 51,
     "metadata": {},
     "output_type": "execute_result"
    }
   ],
   "source": [
    "# Prepare training data (input-target pairs)\n",
    "# Given a sequence of tokens, the model tries to predict the very next one.\n",
    "# In every training example, we give it a chunk of tokens (x) and ask it to predict the next chunk (y),\n",
    "# which is just x shifted one position forward.\n",
    "input_x = []\n",
    "output_y = []\n",
    "\n",
    "for i in range(len(input_data_tensor) - block_size):\n",
    "    \n",
    "    x = input_data_tensor[i : i + block_size]\n",
    "    y = input_data_tensor[i + 1 : i + block_size + 1]\n",
    "    \n",
    "    input_x.append(x)\n",
    "    output_y.append(y)\n",
    "\n",
    "# torch.stack these lists to create two large tensors, one for all inputs and one for all targets.\n",
    "train_x = torch.stack(input_x)\n",
    "train_y = torch.stack(output_y)\n",
    "\n",
    "print(input_x[0]), print(output_y[0])"
   ]
  },
  {
   "cell_type": "code",
   "execution_count": 52,
   "metadata": {},
   "outputs": [
    {
     "data": {
      "text/plain": [
       "Embedding(34, 64)"
      ]
     },
     "execution_count": 52,
     "metadata": {},
     "output_type": "execute_result"
    }
   ],
   "source": [
    "# maps each vocab_size unique tokens to a hidden_dim sized vector\n",
    "# When we pass in a batch of token sequences (shape: B x T), \n",
    "# the output is a batch of embeddings (shape: B x T x d_model). \n",
    "character_embedding_map = nn.Embedding(vocab_size, hidden_dim).to(device)\n",
    "character_embedding_map"
   ]
  },
  {
   "cell_type": "code",
   "execution_count": 53,
   "metadata": {},
   "outputs": [],
   "source": [
    "# Creates 1D positional encodings for each token in the input sequence.\n",
    "# Generates numbers starting from 0 up to dim_k, with a step of 2.\n",
    "\n",
    "# RoPE encodes position by rotating pairs of features inside query (Q) \n",
    "# and key (K) vectors. Instead of tacking on a separate position vector, \n",
    "# it twists the data inside Q and K using position-dependent angles.\n",
    "rope_range = torch.arange(0, dim_k, 2, dtype=torch.float, device=device)\n",
    "rope_freqs = 1.0 / (rope_theta ** (rope_range / dim_k))"
   ]
  },
  {
   "cell_type": "code",
   "execution_count": 54,
   "metadata": {},
   "outputs": [],
   "source": [
    "# RMS layer - Normalizes based on the root mean square of the input.\n",
    "# Gamma has learnaable parameter that allow the model to stretch or compress the normalized values.\n",
    "# x / sqrt(E[x^2] + eps) * gamma + beta\n",
    "\n",
    "# Two learnable paramter for each transformer layer, intialized to 1, and shape of (hidden_dim,)\n",
    "# Act as gamma scaling factors in RMS normalization for each layer.\n",
    "rms_before_attn = []\n",
    "rms_after_attn = []\n",
    "\n",
    "for i in range(transformer_layers):\n",
    "\n",
    "    weight_before_attn = nn.Parameter(torch.ones(hidden_dim, device=device))\n",
    "    rms_before_attn.append(weight_before_attn)\n",
    "\n",
    "    weight_after_attn = nn.Parameter(torch.ones(hidden_dim, device=device))\n",
    "    rms_after_attn.append(weight_after_attn)\n",
    "    \n",
    "# The final output of the transformer layer is also normalized.\n",
    "rms_before_final_output = nn.Parameter(torch.ones(hidden_dim, device=device))"
   ]
  },
  {
   "cell_type": "code",
   "execution_count": 55,
   "metadata": {},
   "outputs": [],
   "source": [
    "# Multi-head attention meaning each token will have multiple Q/K/V vectors.\n",
    "# Each head will have its own set of Q/K/V matrices, and the output of all heads will be concatenated.\n",
    "\n",
    "multi_head_layers = []\n",
    "feed_forward_layers = []\n",
    "\n",
    "# for each transformer layer.\n",
    "for i in range(transformer_layers):\n",
    "\n",
    "    # single layer to project from d_model to 3 * d_model\n",
    "    qkv_layer = nn.Linear(hidden_dim, 3 * hidden_dim, bias=False).to(device)\n",
    "    multi_head_layers.append(qkv_layer)\n",
    "\n",
    "    feed_forw_layer = nn.Linear(hidden_dim, hidden_dim, bias=False).to(device)\n",
    "    feed_forward_layers.append(feed_forw_layer)\n"
   ]
  },
  {
   "cell_type": "code",
   "execution_count": 56,
   "metadata": {},
   "outputs": [],
   "source": [
    "router_layer = [] \n",
    "expert_feedforward_first_layer = []\n",
    "expert_feedforward_second_layer = []  \n",
    "\n",
    "shared_expert_layer = []\n",
    "shared_expert_feedforward_first_layer = []\n",
    "shared_expert_feedforward_second_layer = [] \n",
    "\n",
    "\n",
    "for i in range(transformer_layers):\n",
    "\n",
    "    # Router layer that decides which experts to use for each token.\n",
    "    # It takes the hidden state of the token and outputs a score for each expert.\n",
    "    router_linear_layer = nn.Linear(hidden_dim, num_experts, bias=False).to(device)\n",
    "    router_layer.append(router_linear_layer)\n",
    "\n",
    "    # Each expert has its own feedforward network.\n",
    "    # The first layer expands the token’s dimensionality to a wider hidden space.\n",
    "    # The second layer projects it back down to the original hidden_dim.\n",
    "    # Wraos the tensors as a learnable parameter, so they can be updated during training.\n",
    "    expert_first_layer = nn.Parameter(torch.empty(num_experts, hidden_dim, 2 * expert_output_dim, device=device))\n",
    "    nn.init.normal_(expert_first_layer, mean=0.0, std=0.05)\n",
    "    expert_feedforward_first_layer.append(expert_first_layer)\n",
    "\n",
    "    expert_second_layer = nn.Parameter(torch.empty(num_experts, expert_output_dim, hidden_dim, device=device))\n",
    "    nn.init.normal_(expert_second_layer, mean=0.0, std=0.05)\n",
    "    expert_feedforward_second_layer.append(expert_second_layer)\n",
    "\n",
    "    # Shared feedforward layers for the experts.\n",
    "    shared_gate = nn.Linear(hidden_dim, shared_expert_output_dim, bias=False).to(device)\n",
    "    shared_feedforward_first_layer = nn.Linear(hidden_dim, shared_expert_output_dim, bias=False).to(device)\n",
    "    shared_feedforward_second_layer = nn.Linear(shared_expert_output_dim, hidden_dim, bias=False).to(device)\n",
    "    \n",
    "    shared_expert_layer.append(shared_gate)\n",
    "    shared_expert_feedforward_first_layer.append(shared_feedforward_first_layer)\n",
    "    shared_expert_feedforward_second_layer.append(shared_feedforward_second_layer)\n",
    "\n",
    "activation_fn = nn.SiLU()\n"
   ]
  },
  {
   "cell_type": "code",
   "execution_count": 57,
   "metadata": {},
   "outputs": [],
   "source": [
    "# This is called a language modeling head, which is a linear layer that converts \n",
    "# the final hidden state of each token into a vector of size vocab_size.\n",
    "language_modeling_head = nn.Linear(hidden_dim, vocab_size, bias=False).to(device)\n",
    "\n",
    "# These scores are called logits. \n",
    "# They’re unnormalized, meaning they don’t sum to 1,\n",
    "# that happens later via softmax during training or sampling."
   ]
  },
  {
   "cell_type": "code",
   "execution_count": 58,
   "metadata": {},
   "outputs": [
    {
     "data": {
      "text/plain": [
       "tensor([[[[1., 0., 0.,  ..., 0., 0., 0.],\n",
       "          [1., 1., 0.,  ..., 0., 0., 0.],\n",
       "          [1., 1., 1.,  ..., 0., 0., 0.],\n",
       "          ...,\n",
       "          [1., 1., 1.,  ..., 1., 0., 0.],\n",
       "          [1., 1., 1.,  ..., 1., 1., 0.],\n",
       "          [1., 1., 1.,  ..., 1., 1., 1.]]]], device='mps:0')"
      ]
     },
     "execution_count": 58,
     "metadata": {},
     "output_type": "execute_result"
    }
   ],
   "source": [
    "# When generating text autoregressively, \n",
    "# one rule is meant to be followed, which is that the current token \n",
    "# shouldn't be able to look at future tokens.\n",
    "# This is done by creating a lower triangular matrix of ones,\n",
    "# which is then reshaped to match the dimensions of the attention scores.\n",
    "\n",
    "# max sequence length (block_size)\n",
    "# What is block_size?\n",
    "# block_size is the maximum sequence length that the model can process at once.\n",
    "# In language models, this is the maximum number of tokens (words, subwords, or characters) in an input sequence.\n",
    "# For example, if block_size = 128, the model can handle up to 128 tokens per input.\n",
    "lm_mask = torch.tril(torch.ones(block_size, block_size, device=device))\n",
    "lm_mask = lm_mask.view(1, 1, block_size, block_size)\n",
    "# Reshapes the mask to add batch and head dimensions,\n",
    "# making it compatible with multi-head attention layers.\n",
    "\n",
    "\n",
    "'''\n",
    "Why is the causal mask shaped (1, 1, block_size, block_size)?\n",
    "\n",
    "During attention computation, you deal with tensors shaped like:\n",
    "\n",
    "(B, n_heads, T, T) → one attention matrix per head and per sequence.\n",
    "By shaping the mask as (1, 1, block_size, block_size),\n",
    "\n",
    "we make it broadcastable across:\n",
    "\n",
    "All batches (B)\n",
    "All attention heads (n_heads)\n",
    "All sequence lengths (T)\n",
    "'''\n",
    "lm_mask"
   ]
  },
  {
   "cell_type": "code",
   "execution_count": 59,
   "metadata": {},
   "outputs": [
    {
     "name": "stdout",
     "output_type": "stream",
     "text": [
      "Total trainable parameters: 2,176\n"
     ]
    }
   ],
   "source": [
    "#\n",
    "trainable_parameters = list(character_embedding_map.parameters())\n",
    "\n",
    "total_params = sum(p.numel() for p in trainable_parameters if p.requires_grad)\n",
    "\n",
    "print(f\"Total trainable parameters: {total_params:,}\")"
   ]
  },
  {
   "cell_type": "code",
   "execution_count": 60,
   "metadata": {},
   "outputs": [
    {
     "name": "stdout",
     "output_type": "stream",
     "text": [
      "Total trainable parameters: 3,008\n"
     ]
    }
   ],
   "source": [
    "trainable_parameters.extend(rms_before_attn)\n",
    "trainable_parameters.extend(rms_after_attn)\n",
    "trainable_parameters.append(rms_before_final_output)\n",
    "\n",
    "total_params = sum(p.numel() for p in trainable_parameters if p.requires_grad)\n",
    "print(f\"Total trainable parameters: {total_params:,}\")"
   ]
  },
  {
   "cell_type": "code",
   "execution_count": 61,
   "metadata": {},
   "outputs": [
    {
     "name": "stdout",
     "output_type": "stream",
     "text": [
      "Total trainable parameters: 101,312\n"
     ]
    }
   ],
   "source": [
    "for i in range(transformer_layers):\n",
    "    trainable_parameters.extend(list(multi_head_layers[i].parameters()))\n",
    "    trainable_parameters.extend(list(feed_forward_layers[i].parameters()))\n",
    "\n",
    "total_params = sum(p.numel() for p in trainable_parameters if p.requires_grad)\n",
    "print(f\"Total trainable parameters: {total_params:,}\")\n"
   ]
  },
  {
   "cell_type": "code",
   "execution_count": 62,
   "metadata": {},
   "outputs": [
    {
     "name": "stdout",
     "output_type": "stream",
     "text": [
      "Total trainable parameters: 1,431,488\n"
     ]
    }
   ],
   "source": [
    "for i in range(transformer_layers):\n",
    "    trainable_parameters.extend(list(router_layer[i].parameters()))\n",
    "\n",
    "trainable_parameters.extend(expert_feedforward_first_layer)\n",
    "trainable_parameters.extend(expert_feedforward_second_layer)\n",
    "\n",
    "for i in range(transformer_layers):\n",
    "    trainable_parameters.extend(list(shared_expert_layer[i].parameters()))\n",
    "    trainable_parameters.extend(list(shared_expert_feedforward_first_layer[i].parameters()))\n",
    "    trainable_parameters.extend(list(shared_expert_feedforward_second_layer[i].parameters()))\n",
    "\n",
    "total_params = sum(p.numel() for p in trainable_parameters if p.requires_grad)\n",
    "print(f\"Total trainable parameters: {total_params:,}\")\n"
   ]
  },
  {
   "cell_type": "code",
   "execution_count": 63,
   "metadata": {},
   "outputs": [
    {
     "name": "stdout",
     "output_type": "stream",
     "text": [
      "Total trainable parameters: 1,433,664\n"
     ]
    }
   ],
   "source": [
    "trainable_parameters.extend(list(language_modeling_head.parameters()))\n",
    "\n",
    "total_params = sum(p.numel() for p in trainable_parameters if p.requires_grad)\n",
    "print(f\"Total trainable parameters: {total_params:,}\")"
   ]
  },
  {
   "cell_type": "code",
   "execution_count": 64,
   "metadata": {},
   "outputs": [],
   "source": [
    "# AdamW, a variant of Adam with decoupled weight decay. \n",
    "# It’s the go-to optimizer for most Transformer models. \n",
    "# It is stable, fast-converging, and well-suited for handling sparse gradients\n",
    "# and scale-sensitive layers like LayerNorm and embeddings.\n",
    "optimizer = optim.AdamW(trainable_parameters, lr=learning_rate)\n",
    "\n",
    "# Normally, when you define a model using nn.Module, \n",
    "# you just call model.parameters() and pass that to the optimizer."
   ]
  },
  {
   "cell_type": "code",
   "execution_count": 65,
   "metadata": {},
   "outputs": [],
   "source": [
    "# Since we’re training a language model that predicts the next token \n",
    "# at each position, the problem boils down to multi-class classification\n",
    "# at every timestep.\n",
    "criterion = nn.CrossEntropyLoss()\n",
    "\n",
    "# Lastly, you don’t need to call softmax() separately.\n",
    "#  The nn.CrossEntropyLoss() takes care of it internally."
   ]
  },
  {
   "cell_type": "markdown",
   "metadata": {},
   "source": [
    "For each token in the input sequence, the model outputs a logits vector, which is a raw score for every token in the vocabulary (e.g., 100+ possibilities for character-level, or 50,000+ for BPE models).\n",
    "\n",
    "The loss function:\n",
    "\n",
    "- Takes the predicted logits,\n",
    "- Compares them against the true next-token ID (the ground truth),\n",
    "- And computes how far off the model's guess was."
   ]
  },
  {
   "cell_type": "code",
   "execution_count": 66,
   "metadata": {},
   "outputs": [
    {
     "name": "stdout",
     "output_type": "stream",
     "text": [
      "  Epoch 1/1000, Loss: 3.7216\n",
      "  Epoch 3/1000, Loss: 3.4610\n",
      "  Epoch 5/1000, Loss: 3.2192\n",
      "  Epoch 7/1000, Loss: 3.0446\n",
      "  Epoch 9/1000, Loss: 2.9065\n",
      "  Epoch 11/1000, Loss: 2.7757\n",
      "  Epoch 13/1000, Loss: 2.7103\n",
      "  Epoch 15/1000, Loss: 2.6119\n",
      "  Epoch 17/1000, Loss: 2.5643\n",
      "  Epoch 19/1000, Loss: 2.4804\n",
      "  Epoch 21/1000, Loss: 2.3923\n",
      "  Epoch 23/1000, Loss: 2.3690\n",
      "  Epoch 25/1000, Loss: 2.3463\n",
      "  Epoch 27/1000, Loss: 2.3284\n",
      "  Epoch 29/1000, Loss: 2.2412\n",
      "  Epoch 31/1000, Loss: 2.1638\n",
      "  Epoch 33/1000, Loss: 2.1516\n",
      "  Epoch 35/1000, Loss: 2.1241\n",
      "  Epoch 37/1000, Loss: 2.0961\n",
      "  Epoch 39/1000, Loss: 2.1250\n",
      "  Epoch 41/1000, Loss: 2.0754\n",
      "  Epoch 43/1000, Loss: 2.0292\n",
      "  Epoch 45/1000, Loss: 1.9590\n",
      "  Epoch 47/1000, Loss: 1.9311\n",
      "  Epoch 49/1000, Loss: 1.8731\n",
      "  Epoch 51/1000, Loss: 1.7785\n",
      "  Epoch 53/1000, Loss: 1.7195\n",
      "  Epoch 55/1000, Loss: 1.6347\n",
      "  Epoch 57/1000, Loss: 1.5867\n"
     ]
    },
    {
     "ename": "KeyboardInterrupt",
     "evalue": "",
     "output_type": "error",
     "traceback": [
      "\u001b[31m---------------------------------------------------------------------------\u001b[39m",
      "\u001b[31mKeyboardInterrupt\u001b[39m                         Traceback (most recent call last)",
      "\u001b[36mCell\u001b[39m\u001b[36m \u001b[39m\u001b[32mIn[66]\u001b[39m\u001b[32m, line 139\u001b[39m\n\u001b[32m    137\u001b[39m optimizer.zero_grad()\n\u001b[32m    138\u001b[39m loss.backward()\n\u001b[32m--> \u001b[39m\u001b[32m139\u001b[39m \u001b[43moptimizer\u001b[49m\u001b[43m.\u001b[49m\u001b[43mstep\u001b[49m\u001b[43m(\u001b[49m\u001b[43m)\u001b[49m\n\u001b[32m    141\u001b[39m current_loss_val = loss.item()\n\u001b[32m    142\u001b[39m epoch_losses.append(current_loss_val)\n",
      "\u001b[36mFile \u001b[39m\u001b[32m~/work-share/code-blogs-articles/.venv/lib/python3.12/site-packages/torch/optim/optimizer.py:485\u001b[39m, in \u001b[36mOptimizer.profile_hook_step.<locals>.wrapper\u001b[39m\u001b[34m(*args, **kwargs)\u001b[39m\n\u001b[32m    480\u001b[39m         \u001b[38;5;28;01melse\u001b[39;00m:\n\u001b[32m    481\u001b[39m             \u001b[38;5;28;01mraise\u001b[39;00m \u001b[38;5;167;01mRuntimeError\u001b[39;00m(\n\u001b[32m    482\u001b[39m                 \u001b[33mf\u001b[39m\u001b[33m\"\u001b[39m\u001b[38;5;132;01m{\u001b[39;00mfunc\u001b[38;5;132;01m}\u001b[39;00m\u001b[33m must return None or a tuple of (new_args, new_kwargs), but got \u001b[39m\u001b[38;5;132;01m{\u001b[39;00mresult\u001b[38;5;132;01m}\u001b[39;00m\u001b[33m.\u001b[39m\u001b[33m\"\u001b[39m\n\u001b[32m    483\u001b[39m             )\n\u001b[32m--> \u001b[39m\u001b[32m485\u001b[39m out = \u001b[43mfunc\u001b[49m\u001b[43m(\u001b[49m\u001b[43m*\u001b[49m\u001b[43margs\u001b[49m\u001b[43m,\u001b[49m\u001b[43m \u001b[49m\u001b[43m*\u001b[49m\u001b[43m*\u001b[49m\u001b[43mkwargs\u001b[49m\u001b[43m)\u001b[49m\n\u001b[32m    486\u001b[39m \u001b[38;5;28mself\u001b[39m._optimizer_step_code()\n\u001b[32m    488\u001b[39m \u001b[38;5;66;03m# call optimizer step post hooks\u001b[39;00m\n",
      "\u001b[36mFile \u001b[39m\u001b[32m~/work-share/code-blogs-articles/.venv/lib/python3.12/site-packages/torch/optim/optimizer.py:79\u001b[39m, in \u001b[36m_use_grad_for_differentiable.<locals>._use_grad\u001b[39m\u001b[34m(self, *args, **kwargs)\u001b[39m\n\u001b[32m     77\u001b[39m     torch.set_grad_enabled(\u001b[38;5;28mself\u001b[39m.defaults[\u001b[33m\"\u001b[39m\u001b[33mdifferentiable\u001b[39m\u001b[33m\"\u001b[39m])\n\u001b[32m     78\u001b[39m     torch._dynamo.graph_break()\n\u001b[32m---> \u001b[39m\u001b[32m79\u001b[39m     ret = \u001b[43mfunc\u001b[49m\u001b[43m(\u001b[49m\u001b[38;5;28;43mself\u001b[39;49m\u001b[43m,\u001b[49m\u001b[43m \u001b[49m\u001b[43m*\u001b[49m\u001b[43margs\u001b[49m\u001b[43m,\u001b[49m\u001b[43m \u001b[49m\u001b[43m*\u001b[49m\u001b[43m*\u001b[49m\u001b[43mkwargs\u001b[49m\u001b[43m)\u001b[49m\n\u001b[32m     80\u001b[39m \u001b[38;5;28;01mfinally\u001b[39;00m:\n\u001b[32m     81\u001b[39m     torch._dynamo.graph_break()\n",
      "\u001b[36mFile \u001b[39m\u001b[32m~/work-share/code-blogs-articles/.venv/lib/python3.12/site-packages/torch/optim/adam.py:246\u001b[39m, in \u001b[36mAdam.step\u001b[39m\u001b[34m(self, closure)\u001b[39m\n\u001b[32m    234\u001b[39m     beta1, beta2 = group[\u001b[33m\"\u001b[39m\u001b[33mbetas\u001b[39m\u001b[33m\"\u001b[39m]\n\u001b[32m    236\u001b[39m     has_complex = \u001b[38;5;28mself\u001b[39m._init_group(\n\u001b[32m    237\u001b[39m         group,\n\u001b[32m    238\u001b[39m         params_with_grad,\n\u001b[32m   (...)\u001b[39m\u001b[32m    243\u001b[39m         state_steps,\n\u001b[32m    244\u001b[39m     )\n\u001b[32m--> \u001b[39m\u001b[32m246\u001b[39m     \u001b[43madam\u001b[49m\u001b[43m(\u001b[49m\n\u001b[32m    247\u001b[39m \u001b[43m        \u001b[49m\u001b[43mparams_with_grad\u001b[49m\u001b[43m,\u001b[49m\n\u001b[32m    248\u001b[39m \u001b[43m        \u001b[49m\u001b[43mgrads\u001b[49m\u001b[43m,\u001b[49m\n\u001b[32m    249\u001b[39m \u001b[43m        \u001b[49m\u001b[43mexp_avgs\u001b[49m\u001b[43m,\u001b[49m\n\u001b[32m    250\u001b[39m \u001b[43m        \u001b[49m\u001b[43mexp_avg_sqs\u001b[49m\u001b[43m,\u001b[49m\n\u001b[32m    251\u001b[39m \u001b[43m        \u001b[49m\u001b[43mmax_exp_avg_sqs\u001b[49m\u001b[43m,\u001b[49m\n\u001b[32m    252\u001b[39m \u001b[43m        \u001b[49m\u001b[43mstate_steps\u001b[49m\u001b[43m,\u001b[49m\n\u001b[32m    253\u001b[39m \u001b[43m        \u001b[49m\u001b[43mamsgrad\u001b[49m\u001b[43m=\u001b[49m\u001b[43mgroup\u001b[49m\u001b[43m[\u001b[49m\u001b[33;43m\"\u001b[39;49m\u001b[33;43mamsgrad\u001b[39;49m\u001b[33;43m\"\u001b[39;49m\u001b[43m]\u001b[49m\u001b[43m,\u001b[49m\n\u001b[32m    254\u001b[39m \u001b[43m        \u001b[49m\u001b[43mhas_complex\u001b[49m\u001b[43m=\u001b[49m\u001b[43mhas_complex\u001b[49m\u001b[43m,\u001b[49m\n\u001b[32m    255\u001b[39m \u001b[43m        \u001b[49m\u001b[43mbeta1\u001b[49m\u001b[43m=\u001b[49m\u001b[43mbeta1\u001b[49m\u001b[43m,\u001b[49m\n\u001b[32m    256\u001b[39m \u001b[43m        \u001b[49m\u001b[43mbeta2\u001b[49m\u001b[43m=\u001b[49m\u001b[43mbeta2\u001b[49m\u001b[43m,\u001b[49m\n\u001b[32m    257\u001b[39m \u001b[43m        \u001b[49m\u001b[43mlr\u001b[49m\u001b[43m=\u001b[49m\u001b[43mgroup\u001b[49m\u001b[43m[\u001b[49m\u001b[33;43m\"\u001b[39;49m\u001b[33;43mlr\u001b[39;49m\u001b[33;43m\"\u001b[39;49m\u001b[43m]\u001b[49m\u001b[43m,\u001b[49m\n\u001b[32m    258\u001b[39m \u001b[43m        \u001b[49m\u001b[43mweight_decay\u001b[49m\u001b[43m=\u001b[49m\u001b[43mgroup\u001b[49m\u001b[43m[\u001b[49m\u001b[33;43m\"\u001b[39;49m\u001b[33;43mweight_decay\u001b[39;49m\u001b[33;43m\"\u001b[39;49m\u001b[43m]\u001b[49m\u001b[43m,\u001b[49m\n\u001b[32m    259\u001b[39m \u001b[43m        \u001b[49m\u001b[43meps\u001b[49m\u001b[43m=\u001b[49m\u001b[43mgroup\u001b[49m\u001b[43m[\u001b[49m\u001b[33;43m\"\u001b[39;49m\u001b[33;43meps\u001b[39;49m\u001b[33;43m\"\u001b[39;49m\u001b[43m]\u001b[49m\u001b[43m,\u001b[49m\n\u001b[32m    260\u001b[39m \u001b[43m        \u001b[49m\u001b[43mmaximize\u001b[49m\u001b[43m=\u001b[49m\u001b[43mgroup\u001b[49m\u001b[43m[\u001b[49m\u001b[33;43m\"\u001b[39;49m\u001b[33;43mmaximize\u001b[39;49m\u001b[33;43m\"\u001b[39;49m\u001b[43m]\u001b[49m\u001b[43m,\u001b[49m\n\u001b[32m    261\u001b[39m \u001b[43m        \u001b[49m\u001b[43mforeach\u001b[49m\u001b[43m=\u001b[49m\u001b[43mgroup\u001b[49m\u001b[43m[\u001b[49m\u001b[33;43m\"\u001b[39;49m\u001b[33;43mforeach\u001b[39;49m\u001b[33;43m\"\u001b[39;49m\u001b[43m]\u001b[49m\u001b[43m,\u001b[49m\n\u001b[32m    262\u001b[39m \u001b[43m        \u001b[49m\u001b[43mcapturable\u001b[49m\u001b[43m=\u001b[49m\u001b[43mgroup\u001b[49m\u001b[43m[\u001b[49m\u001b[33;43m\"\u001b[39;49m\u001b[33;43mcapturable\u001b[39;49m\u001b[33;43m\"\u001b[39;49m\u001b[43m]\u001b[49m\u001b[43m,\u001b[49m\n\u001b[32m    263\u001b[39m \u001b[43m        \u001b[49m\u001b[43mdifferentiable\u001b[49m\u001b[43m=\u001b[49m\u001b[43mgroup\u001b[49m\u001b[43m[\u001b[49m\u001b[33;43m\"\u001b[39;49m\u001b[33;43mdifferentiable\u001b[39;49m\u001b[33;43m\"\u001b[39;49m\u001b[43m]\u001b[49m\u001b[43m,\u001b[49m\n\u001b[32m    264\u001b[39m \u001b[43m        \u001b[49m\u001b[43mfused\u001b[49m\u001b[43m=\u001b[49m\u001b[43mgroup\u001b[49m\u001b[43m[\u001b[49m\u001b[33;43m\"\u001b[39;49m\u001b[33;43mfused\u001b[39;49m\u001b[33;43m\"\u001b[39;49m\u001b[43m]\u001b[49m\u001b[43m,\u001b[49m\n\u001b[32m    265\u001b[39m \u001b[43m        \u001b[49m\u001b[43mgrad_scale\u001b[49m\u001b[43m=\u001b[49m\u001b[38;5;28;43mgetattr\u001b[39;49m\u001b[43m(\u001b[49m\u001b[38;5;28;43mself\u001b[39;49m\u001b[43m,\u001b[49m\u001b[43m \u001b[49m\u001b[33;43m\"\u001b[39;49m\u001b[33;43mgrad_scale\u001b[39;49m\u001b[33;43m\"\u001b[39;49m\u001b[43m,\u001b[49m\u001b[43m \u001b[49m\u001b[38;5;28;43;01mNone\u001b[39;49;00m\u001b[43m)\u001b[49m\u001b[43m,\u001b[49m\n\u001b[32m    266\u001b[39m \u001b[43m        \u001b[49m\u001b[43mfound_inf\u001b[49m\u001b[43m=\u001b[49m\u001b[38;5;28;43mgetattr\u001b[39;49m\u001b[43m(\u001b[49m\u001b[38;5;28;43mself\u001b[39;49m\u001b[43m,\u001b[49m\u001b[43m \u001b[49m\u001b[33;43m\"\u001b[39;49m\u001b[33;43mfound_inf\u001b[39;49m\u001b[33;43m\"\u001b[39;49m\u001b[43m,\u001b[49m\u001b[43m \u001b[49m\u001b[38;5;28;43;01mNone\u001b[39;49;00m\u001b[43m)\u001b[49m\u001b[43m,\u001b[49m\n\u001b[32m    267\u001b[39m \u001b[43m        \u001b[49m\u001b[43mdecoupled_weight_decay\u001b[49m\u001b[43m=\u001b[49m\u001b[43mgroup\u001b[49m\u001b[43m[\u001b[49m\u001b[33;43m\"\u001b[39;49m\u001b[33;43mdecoupled_weight_decay\u001b[39;49m\u001b[33;43m\"\u001b[39;49m\u001b[43m]\u001b[49m\u001b[43m,\u001b[49m\n\u001b[32m    268\u001b[39m \u001b[43m    \u001b[49m\u001b[43m)\u001b[49m\n\u001b[32m    270\u001b[39m \u001b[38;5;28;01mreturn\u001b[39;00m loss\n",
      "\u001b[36mFile \u001b[39m\u001b[32m~/work-share/code-blogs-articles/.venv/lib/python3.12/site-packages/torch/optim/optimizer.py:147\u001b[39m, in \u001b[36m_disable_dynamo_if_unsupported.<locals>.wrapper.<locals>.maybe_fallback\u001b[39m\u001b[34m(*args, **kwargs)\u001b[39m\n\u001b[32m    145\u001b[39m     \u001b[38;5;28;01mreturn\u001b[39;00m disabled_func(*args, **kwargs)\n\u001b[32m    146\u001b[39m \u001b[38;5;28;01melse\u001b[39;00m:\n\u001b[32m--> \u001b[39m\u001b[32m147\u001b[39m     \u001b[38;5;28;01mreturn\u001b[39;00m \u001b[43mfunc\u001b[49m\u001b[43m(\u001b[49m\u001b[43m*\u001b[49m\u001b[43margs\u001b[49m\u001b[43m,\u001b[49m\u001b[43m \u001b[49m\u001b[43m*\u001b[49m\u001b[43m*\u001b[49m\u001b[43mkwargs\u001b[49m\u001b[43m)\u001b[49m\n",
      "\u001b[36mFile \u001b[39m\u001b[32m~/work-share/code-blogs-articles/.venv/lib/python3.12/site-packages/torch/optim/adam.py:933\u001b[39m, in \u001b[36madam\u001b[39m\u001b[34m(params, grads, exp_avgs, exp_avg_sqs, max_exp_avg_sqs, state_steps, foreach, capturable, differentiable, fused, grad_scale, found_inf, has_complex, decoupled_weight_decay, amsgrad, beta1, beta2, lr, weight_decay, eps, maximize)\u001b[39m\n\u001b[32m    930\u001b[39m \u001b[38;5;28;01melse\u001b[39;00m:\n\u001b[32m    931\u001b[39m     func = _single_tensor_adam\n\u001b[32m--> \u001b[39m\u001b[32m933\u001b[39m \u001b[43mfunc\u001b[49m\u001b[43m(\u001b[49m\n\u001b[32m    934\u001b[39m \u001b[43m    \u001b[49m\u001b[43mparams\u001b[49m\u001b[43m,\u001b[49m\n\u001b[32m    935\u001b[39m \u001b[43m    \u001b[49m\u001b[43mgrads\u001b[49m\u001b[43m,\u001b[49m\n\u001b[32m    936\u001b[39m \u001b[43m    \u001b[49m\u001b[43mexp_avgs\u001b[49m\u001b[43m,\u001b[49m\n\u001b[32m    937\u001b[39m \u001b[43m    \u001b[49m\u001b[43mexp_avg_sqs\u001b[49m\u001b[43m,\u001b[49m\n\u001b[32m    938\u001b[39m \u001b[43m    \u001b[49m\u001b[43mmax_exp_avg_sqs\u001b[49m\u001b[43m,\u001b[49m\n\u001b[32m    939\u001b[39m \u001b[43m    \u001b[49m\u001b[43mstate_steps\u001b[49m\u001b[43m,\u001b[49m\n\u001b[32m    940\u001b[39m \u001b[43m    \u001b[49m\u001b[43mamsgrad\u001b[49m\u001b[43m=\u001b[49m\u001b[43mamsgrad\u001b[49m\u001b[43m,\u001b[49m\n\u001b[32m    941\u001b[39m \u001b[43m    \u001b[49m\u001b[43mhas_complex\u001b[49m\u001b[43m=\u001b[49m\u001b[43mhas_complex\u001b[49m\u001b[43m,\u001b[49m\n\u001b[32m    942\u001b[39m \u001b[43m    \u001b[49m\u001b[43mbeta1\u001b[49m\u001b[43m=\u001b[49m\u001b[43mbeta1\u001b[49m\u001b[43m,\u001b[49m\n\u001b[32m    943\u001b[39m \u001b[43m    \u001b[49m\u001b[43mbeta2\u001b[49m\u001b[43m=\u001b[49m\u001b[43mbeta2\u001b[49m\u001b[43m,\u001b[49m\n\u001b[32m    944\u001b[39m \u001b[43m    \u001b[49m\u001b[43mlr\u001b[49m\u001b[43m=\u001b[49m\u001b[43mlr\u001b[49m\u001b[43m,\u001b[49m\n\u001b[32m    945\u001b[39m \u001b[43m    \u001b[49m\u001b[43mweight_decay\u001b[49m\u001b[43m=\u001b[49m\u001b[43mweight_decay\u001b[49m\u001b[43m,\u001b[49m\n\u001b[32m    946\u001b[39m \u001b[43m    \u001b[49m\u001b[43meps\u001b[49m\u001b[43m=\u001b[49m\u001b[43meps\u001b[49m\u001b[43m,\u001b[49m\n\u001b[32m    947\u001b[39m \u001b[43m    \u001b[49m\u001b[43mmaximize\u001b[49m\u001b[43m=\u001b[49m\u001b[43mmaximize\u001b[49m\u001b[43m,\u001b[49m\n\u001b[32m    948\u001b[39m \u001b[43m    \u001b[49m\u001b[43mcapturable\u001b[49m\u001b[43m=\u001b[49m\u001b[43mcapturable\u001b[49m\u001b[43m,\u001b[49m\n\u001b[32m    949\u001b[39m \u001b[43m    \u001b[49m\u001b[43mdifferentiable\u001b[49m\u001b[43m=\u001b[49m\u001b[43mdifferentiable\u001b[49m\u001b[43m,\u001b[49m\n\u001b[32m    950\u001b[39m \u001b[43m    \u001b[49m\u001b[43mgrad_scale\u001b[49m\u001b[43m=\u001b[49m\u001b[43mgrad_scale\u001b[49m\u001b[43m,\u001b[49m\n\u001b[32m    951\u001b[39m \u001b[43m    \u001b[49m\u001b[43mfound_inf\u001b[49m\u001b[43m=\u001b[49m\u001b[43mfound_inf\u001b[49m\u001b[43m,\u001b[49m\n\u001b[32m    952\u001b[39m \u001b[43m    \u001b[49m\u001b[43mdecoupled_weight_decay\u001b[49m\u001b[43m=\u001b[49m\u001b[43mdecoupled_weight_decay\u001b[49m\u001b[43m,\u001b[49m\n\u001b[32m    953\u001b[39m \u001b[43m\u001b[49m\u001b[43m)\u001b[49m\n",
      "\u001b[36mFile \u001b[39m\u001b[32m~/work-share/code-blogs-articles/.venv/lib/python3.12/site-packages/torch/optim/adam.py:456\u001b[39m, in \u001b[36m_single_tensor_adam\u001b[39m\u001b[34m(params, grads, exp_avgs, exp_avg_sqs, max_exp_avg_sqs, state_steps, grad_scale, found_inf, amsgrad, has_complex, beta1, beta2, lr, weight_decay, eps, maximize, capturable, differentiable, decoupled_weight_decay)\u001b[39m\n\u001b[32m    454\u001b[39m         exp_avg_sq.mul_(beta2).addcmul_(grad, grad, value=\u001b[32m1\u001b[39m - beta2)\n\u001b[32m    455\u001b[39m \u001b[38;5;28;01melse\u001b[39;00m:\n\u001b[32m--> \u001b[39m\u001b[32m456\u001b[39m     \u001b[43mexp_avg_sq\u001b[49m\u001b[43m.\u001b[49m\u001b[43mmul_\u001b[49m\u001b[43m(\u001b[49m\u001b[43mbeta2\u001b[49m\u001b[43m)\u001b[49m.addcmul_(grad, grad, value=\u001b[32m1\u001b[39m - beta2)\n\u001b[32m    458\u001b[39m \u001b[38;5;28;01mif\u001b[39;00m capturable \u001b[38;5;129;01mor\u001b[39;00m differentiable:\n\u001b[32m    459\u001b[39m     step = step_t\n",
      "\u001b[31mKeyboardInterrupt\u001b[39m: "
     ]
    }
   ],
   "source": [
    "epoch_losses = []\n",
    "total_samples = len(train_x)\n",
    "\n",
    "for ep in range(epochs):\n",
    "    \n",
    "    # Each element is a random integer between 0 (inclusive) and total_samples (exclusive).\n",
    "    # torch.randint(0, total_samples, (batch_size,)) generates a 1D tensor of length batch_size.\n",
    "    batch_indices = torch.randint(0, total_samples, (batch_size,))\n",
    "    \n",
    "    input_tokens = train_x[batch_indices].to(device)\n",
    "    target_tokens = train_y[batch_indices].to(device)\n",
    "\n",
    "    bsz = input_tokens.shape[0]\n",
    "    seq_len = input_tokens.shape[1]\n",
    "    model_dim = hidden_dim\n",
    "\n",
    "    embedded_tokens = character_embedding_map(input_tokens)\n",
    "\n",
    "    # .unsqueeze(0) adds a new dimension at the front, changing the shape from (seq_len,) to (1, seq_len).\n",
    "    # The extra dimension allows easy broadcasting when combining with batch\n",
    "    pos_indices = torch.arange(seq_len, device=device).unsqueeze(0)\n",
    "\n",
    "    # .unsqueeze(0) adds a batch dimension at the front: shape becomes (1, N).\n",
    "    # .unsqueeze(-1) adds a singleton dimension at the end: shape becomes (1, N, 1).\n",
    "    # .expand(bsz, -1, 1) repeats the tensor along the batch dimension (bsz times),\n",
    "    #  keeping the other dimensions unchanged (-1 means \"keep original size\").\n",
    "    inv_freq_broadcasted = rope_freqs.unsqueeze(0).unsqueeze(-1).expand(bsz, -1, 1)\n",
    "    pos_ids_broadcasted = pos_indices.expand(bsz, -1).unsqueeze(1).float()\n",
    "\n",
    "    with torch.autocast(device_type=device, enabled=False):\n",
    "        angle_matrix = (inv_freq_broadcasted.float() @ pos_ids_broadcasted).transpose(1, 2)\n",
    "        freqs_complex = torch.polar(torch.ones_like(angle_matrix), angle_matrix)\n",
    "\n",
    "    layer_input = embedded_tokens\n",
    "\n",
    "    for layer_id in range(transformer_layers):\n",
    "\n",
    "        attn_residual = layer_input\n",
    "\n",
    "        x_fp32 = layer_input.float()\n",
    "        rms_norm_factor = torch.rsqrt(x_fp32.pow(2).mean(-1, keepdim=True) + rms_norm_eps)\n",
    "        normed_attn_input = (x_fp32 * rms_norm_factor).type_as(layer_input)\n",
    "        normed_attn_input = normed_attn_input * rms_before_attn[layer_id]\n",
    "\n",
    "        qkv_combined = multi_head_layers[layer_id](normed_attn_input)\n",
    "        qkv_combined = qkv_combined.view(bsz, seq_len, num_heads, 3 * dim_k)\n",
    "        queries, keys, values = qkv_combined.chunk(3, dim=-1)\n",
    "\n",
    "        queries_reshaped = queries.float().reshape(bsz, seq_len, num_heads, -1, 2)\n",
    "        keys_reshaped = keys.float().reshape(bsz, seq_len, num_heads, -1, 2)\n",
    "\n",
    "        queries_complex = torch.view_as_complex(queries_reshaped)\n",
    "        keys_complex = torch.view_as_complex(keys_reshaped)\n",
    "        freq_broadcast = freqs_complex.unsqueeze(2)\n",
    "\n",
    "        queries_rot = queries_complex * freq_broadcast\n",
    "        keys_rot = keys_complex * freq_broadcast\n",
    "\n",
    "        queries_real = torch.view_as_real(queries_rot)\n",
    "        keys_real = torch.view_as_real(keys_rot)\n",
    "\n",
    "        queries = queries_real.flatten(3).type_as(queries)\n",
    "        keys = keys_real.flatten(3).type_as(keys)\n",
    "\n",
    "        queries = queries.permute(0, 2, 1, 3)\n",
    "        keys = keys.permute(0, 2, 1, 3)\n",
    "        values = values.permute(0, 2, 1, 3)\n",
    "\n",
    "        attention_scores = (queries @ keys.transpose(-2, -1)) * (dim_k ** -0.5)\n",
    "        attention_scores = attention_scores.masked_fill(lm_mask[:, :, :seq_len, :seq_len] == 0, float('-inf'))\n",
    "\n",
    "        attn_probs = F.softmax(attention_scores, dim=-1)\n",
    "        attn_probs = torch.nan_to_num(attn_probs)\n",
    "\n",
    "        attn_out = attn_probs @ values\n",
    "        attn_out = attn_out.permute(0, 2, 1, 3).contiguous().view(bsz, seq_len, model_dim)\n",
    "\n",
    "        attn_out = feed_forward_layers[layer_id](attn_out)\n",
    "\n",
    "        layer_input = attn_residual + attn_out\n",
    "        moe_residual = layer_input\n",
    "\n",
    "        x_fp32 = layer_input.float()\n",
    "        rms_norm_factor = torch.rsqrt(x_fp32.pow(2).mean(-1, keepdim=True) + rms_norm_eps)\n",
    "        normed_moe_input = (x_fp32 * rms_norm_factor).type_as(layer_input)\n",
    "        normed_moe_input = normed_moe_input * rms_after_attn[layer_id]\n",
    "\n",
    "        route_logits = router_layer[layer_id](normed_moe_input)\n",
    "\n",
    "        expert_scores, expert_indices = torch.topk(route_logits, select_experts_per_token, dim=-1)\n",
    "        expert_scores = torch.sigmoid(expert_scores)\n",
    "\n",
    "        flattened_input = normed_moe_input.view(-1, model_dim)\n",
    "        flattened_expert_ids = expert_indices.view(-1)\n",
    "        flattened_scores = expert_scores.view(-1)\n",
    "\n",
    "        token_positions = torch.arange(bsz * seq_len, device=device).repeat_interleave(select_experts_per_token)\n",
    "        expert_routing = flattened_expert_ids\n",
    "\n",
    "        expert_inputs = flattened_input[token_positions]\n",
    "\n",
    "        expert_up_weights = expert_feedforward_first_layer[layer_id][expert_routing]\n",
    "        expert_down_weights = expert_feedforward_second_layer[layer_id][expert_routing]\n",
    "\n",
    "        intermediate = torch.bmm(expert_inputs.unsqueeze(1), expert_up_weights)\n",
    "        gate_vals, up_vals = intermediate.chunk(2, dim=-1)\n",
    "\n",
    "        expert_activated = activation_fn(gate_vals) * up_vals\n",
    "        expert_raw_output = torch.bmm(expert_activated, expert_down_weights).squeeze(1)\n",
    "        expert_scaled_output = expert_raw_output * flattened_scores.unsqueeze(-1)\n",
    "\n",
    "        combined_outputs = torch.zeros_like(flattened_input)\n",
    "        combined_outputs.scatter_add_(0, token_positions.unsqueeze(-1).expand(-1, model_dim), expert_scaled_output)\n",
    "\n",
    "        shared_gate = shared_expert_layer[layer_id](normed_moe_input)\n",
    "        shared_up = shared_expert_feedforward_first_layer[layer_id](normed_moe_input)\n",
    "        shared_activated = activation_fn(shared_gate) * shared_up\n",
    "        shared_down = shared_expert_feedforward_second_layer[layer_id](shared_activated)\n",
    "\n",
    "        moe_out = combined_outputs.view(bsz, seq_len, model_dim)\n",
    "        moe_combined = moe_out + shared_down\n",
    "\n",
    "        layer_input = moe_residual + moe_combined\n",
    "\n",
    "    x_fp32 = layer_input.float()\n",
    "    rms_norm_factor = torch.rsqrt(x_fp32.pow(2).mean(-1, keepdim=True) + rms_norm_eps)\n",
    "    final_norm = (x_fp32 * rms_norm_factor).type_as(layer_input)\n",
    "    final_norm = final_norm * rms_before_final_output\n",
    "\n",
    "    vocab_logits = language_modeling_head(final_norm)\n",
    "\n",
    "    B, T, V = vocab_logits.shape\n",
    "    logits_flat = vocab_logits.view(B * T, V)\n",
    "    targets_flat = target_tokens.view(B * T)\n",
    "    loss = criterion(logits_flat, targets_flat)\n",
    "\n",
    "    optimizer.zero_grad()\n",
    "    loss.backward()\n",
    "    optimizer.step()\n",
    "\n",
    "    current_loss_val = loss.item()\n",
    "    epoch_losses.append(current_loss_val)\n",
    "    if ep % 2 == 0 or ep == epochs - 1:\n",
    "        print(f\"  Epoch {ep+1}/{epochs}, Loss: {current_loss_val:.4f}\")\n"
   ]
  },
  {
   "cell_type": "code",
   "execution_count": 28,
   "metadata": {},
   "outputs": [
    {
     "data": {
      "image/png": "[encoded data removed]",
      "text/plain": [
       "<Figure size 1000x400 with 1 Axes>"
      ]
     },
     "metadata": {},
     "output_type": "display_data"
    }
   ],
   "source": [
    "import matplotlib.pyplot as plt\n",
    "plt.figure(figsize=(10, 4))\n",
    "plt.plot(epoch_losses)\n",
    "plt.title(\"Training Loss Over Epochs\")\n",
    "plt.xlabel(\"Epoch\")\n",
    "plt.ylabel(\"Loss\")\n",
    "plt.grid(True)\n",
    "plt.show()"
   ]
  },
  {
   "cell_type": "code",
   "execution_count": 29,
   "metadata": {},
   "outputs": [
    {
     "data": {
      "text/plain": [
       "Linear(in_features=64, out_features=34, bias=False)"
      ]
     },
     "execution_count": 29,
     "metadata": {},
     "output_type": "execute_result"
    }
   ],
   "source": [
    "prompt_text = \"Facebook \" \n",
    "\n",
    "generation_limit = 100\n",
    "\n",
    "prompt_token_ids = [char_to_int[ch] for ch in prompt_text if ch in char_to_int]\n",
    "gen_sequence_buffer = torch.tensor([prompt_token_ids], dtype=torch.long, device=device)\n",
    "\n",
    "character_embedding_map.eval()\n",
    "for layer_idx in range(transformer_layers):\n",
    "    multi_head_layers[layer_idx].eval()\n",
    "    feed_forward_layers[layer_idx].eval()\n",
    "    router_layer[layer_idx].eval()\n",
    "    shared_expert_layer[layer_idx].eval()\n",
    "    shared_expert_feedforward_first_layer[layer_idx].eval()\n",
    "    shared_expert_feedforward_second_layer[layer_idx].eval()\n",
    "\n",
    "language_modeling_head.eval()\n"
   ]
  },
  {
   "cell_type": "code",
   "execution_count": 30,
   "metadata": {},
   "outputs": [],
   "source": [
    "with torch.no_grad():\n",
    "    for _ in range(generation_limit):\n",
    "        \n",
    "        input_context = gen_sequence_buffer[:, -block_size:] \n",
    "        batch_size_gen, seq_len_gen = input_context.shape\n",
    "        hidden_size_gen = hidden_dim\n",
    "\n",
    "        embedded_input = character_embedding_map(input_context) \n",
    "\n",
    "        position_indices = torch.arange(seq_len_gen, device=device).unsqueeze(0)\n",
    "        inv_freq_broadcast = rope_freqs.unsqueeze(0).unsqueeze(-1).expand(batch_size_gen, -1, 1)\n",
    "        pos_ids_broadcast = position_indices.expand(batch_size_gen, -1).unsqueeze(1).float()\n",
    "        \n",
    "        with torch.autocast(device_type=device, enabled=False):\n",
    "            pos_angles = (inv_freq_broadcast.float() @ pos_ids_broadcast).transpose(1, 2)\n",
    "            rope_rotations = torch.polar(torch.ones_like(pos_angles), pos_angles)\n",
    "\n",
    "        layer_input = embedded_input\n",
    "\n",
    "        for layer_idx in range(transformer_layers):\n",
    "            attn_skip = layer_input\n",
    "\n",
    "            x_fp32 = layer_input.float()\n",
    "            norm_factor = torch.rsqrt(x_fp32.pow(2).mean(-1, keepdim=True) + rms_norm_eps)\n",
    "            normed_input = (x_fp32 * norm_factor).type_as(layer_input)\n",
    "            normed_input = normed_input * rms_before_attn[layer_idx]\n",
    "\n",
    "            qkv_proj = multi_head_layers[layer_idx](normed_input)\n",
    "            qkv_proj = qkv_proj.view(batch_size_gen, seq_len_gen, num_heads, 3 * dim_k)\n",
    "            query, key, value = qkv_proj.chunk(3, dim=-1)\n",
    "\n",
    "            query_cmplx = torch.view_as_complex(query.float().reshape(batch_size_gen, seq_len_gen, num_heads, -1, 2))\n",
    "            key_cmplx = torch.view_as_complex(key.float().reshape(batch_size_gen, seq_len_gen, num_heads, -1, 2))\n",
    "            rope_cis_broadcast = rope_rotations.unsqueeze(2)\n",
    "            query_rot = query_cmplx * rope_cis_broadcast\n",
    "            key_rot = key_cmplx * rope_cis_broadcast\n",
    "            query = torch.view_as_real(query_rot).flatten(3).type_as(query)\n",
    "            key = torch.view_as_real(key_rot).flatten(3).type_as(key)\n",
    "\n",
    "            query = query.permute(0, 2, 1, 3)\n",
    "            key = key.permute(0, 2, 1, 3)\n",
    "            value = value.permute(0, 2, 1, 3)\n",
    "            attn_scores = (query @ key.transpose(-2, -1)) * (dim_k ** -0.5)\n",
    "            attn_scores = attn_scores.masked_fill(lm_mask[:, :, :seq_len_gen, :seq_len_gen] == 0, float('-inf'))\n",
    "            attn_probs = F.softmax(attn_scores, dim=-1)\n",
    "            attn_probs = torch.nan_to_num(attn_probs)\n",
    "            attn_out = attn_probs @ value\n",
    "            attn_out = attn_out.permute(0, 2, 1, 3).contiguous().view(batch_size_gen, seq_len_gen, hidden_size_gen)\n",
    "            attn_out = feed_forward_layers[layer_idx](attn_out)\n",
    "\n",
    "            layer_input = attn_skip + attn_out\n",
    "\n",
    "            moe_skip = layer_input\n",
    "\n",
    "            x_fp32 = layer_input.float()\n",
    "            norm_factor = torch.rsqrt(x_fp32.pow(2).mean(-1, keepdim=True) + rms_norm_eps)\n",
    "            normed_input = (x_fp32 * norm_factor).type_as(layer_input)\n",
    "            normed_input = normed_input * rms_after_attn[layer_idx]\n",
    "\n",
    "            route_logits = router_layer[layer_idx](normed_input)\n",
    "            topk_weights, topk_indices = torch.topk(route_logits, select_experts_per_token, dim=-1)\n",
    "            topk_weights = torch.sigmoid(topk_weights)\n",
    "\n",
    "            flattened_input = normed_input.view(-1, hidden_size_gen)\n",
    "            flattened_expert_ids = topk_indices.view(-1)\n",
    "            flattened_weights = topk_weights.view(-1)\n",
    "            token_positions = torch.arange(batch_size_gen * seq_len_gen, device=device).repeat_interleave(select_experts_per_token)\n",
    "\n",
    "            expert_inputs = flattened_input[token_positions]\n",
    "            gate_up_weights = expert_feedforward_first_layer[layer_idx][flattened_expert_ids]\n",
    "            down_weights = expert_feedforward_second_layer[layer_idx][flattened_expert_ids]\n",
    "\n",
    "            up_states = torch.bmm(expert_inputs.unsqueeze(1), gate_up_weights)\n",
    "            gate_vals, up_vals = up_states.chunk(2, dim=-1)\n",
    "            activated = activation_fn(gate_vals) * up_vals\n",
    "            expert_out_flat = torch.bmm(activated, down_weights).squeeze(1)\n",
    "            scaled_expert_out = expert_out_flat * flattened_weights.unsqueeze(-1)\n",
    "\n",
    "            combined_expert_out = torch.zeros_like(flattened_input)\n",
    "            combined_expert_out.scatter_add_(\n",
    "                0, token_positions.unsqueeze(-1).expand(-1, hidden_size_gen), scaled_expert_out\n",
    "            )\n",
    "\n",
    "            shared_gate = shared_expert_layer[layer_idx](normed_input)\n",
    "            shared_up = shared_expert_feedforward_first_layer[layer_idx](normed_input)\n",
    "            shared_activated = activation_fn(shared_gate) * shared_up\n",
    "            shared_out = shared_expert_feedforward_second_layer[layer_idx](shared_activated)\n",
    "\n",
    "            moe_combined = combined_expert_out.view(batch_size_gen, seq_len_gen, hidden_size_gen)\n",
    "            final_moe_out = moe_combined + shared_out\n",
    "\n",
    "            layer_input = moe_skip + final_moe_out\n",
    "\n",
    "        x_fp32 = layer_input.float()\n",
    "        norm_factor = torch.rsqrt(x_fp32.pow(2).mean(-1, keepdim=True) + rms_norm_eps)\n",
    "        final_norm = (x_fp32 * norm_factor).type_as(layer_input)\n",
    "        final_norm = final_norm * rms_before_final_output\n",
    "\n",
    "        vocab_logits = language_modeling_head(final_norm)\n",
    "        logits_last_step = vocab_logits[:, -1, :] \n",
    "\n",
    "        token_probs = F.softmax(logits_last_step, dim=-1)\n",
    "        sampled_token = torch.multinomial(token_probs, num_samples=1)\n",
    "\n",
    "        gen_sequence_buffer = torch.cat((gen_sequence_buffer, sampled_token), dim=1)"
   ]
  },
  {
   "cell_type": "code",
   "execution_count": 31,
   "metadata": {},
   "outputs": [
    {
     "data": {
      "text/plain": [
       "tensor([[ 3, 10, 12, 14, 11, 23, 23, 19,  0, 31, 10, 27,  0, 15, 23, 29, 22, 13,\n",
       "         14, 13,  0, 18, 22,  0, 10,  0, 13, 23, 26, 21,  0, 26, 23, 23, 21,  0,\n",
       "         10, 28,  0,  4, 10, 26, 30, 10, 26, 13,  0, 11, 33,  0,  5, 10, 26, 19,\n",
       "          0,  9, 29, 12, 19, 14, 26, 11, 14, 26, 16,  0, 10, 22, 13,  0, 17, 18,\n",
       "         27,  0, 26, 23, 23, 21, 21, 10, 28, 14, 27,  2,  0,  8, 17, 10, 28,  0,\n",
       "         11, 14, 16, 10, 22,  0, 10, 27,  0, 10,  0, 27, 21, 10, 20, 20,  0, 27,\n",
       "         23]])"
      ]
     },
     "execution_count": 31,
     "metadata": {},
     "output_type": "execute_result"
    }
   ],
   "source": [
    "gen_sequence_buffer"
   ]
  },
  {
   "cell_type": "code",
   "execution_count": 32,
   "metadata": {},
   "outputs": [
    {
     "name": "stdout",
     "output_type": "stream",
     "text": [
      "Facebook was founded in a dorm room at Harvard by Mark Zuckerberg and his roommates. What began as a small so\n"
     ]
    }
   ],
   "source": [
    "final_generated_ids = gen_sequence_buffer[0].tolist()\n",
    "\n",
    "decoded_text = ''.join([int_to_char.get(id_val, '[UNK]') for id_val in final_generated_ids])\n",
    "\n",
    "print(decoded_text)"
   ]
  },
  {
   "cell_type": "code",
   "execution_count": 33,
   "metadata": {},
   "outputs": [
    {
     "data": {
      "text/plain": [
       "Linear(in_features=64, out_features=34, bias=False)"
      ]
     },
     "execution_count": 33,
     "metadata": {},
     "output_type": "execute_result"
    }
   ],
   "source": [
    "prompt_text = \"Dorm rooms are \" \n",
    "\n",
    "generation_limit = 100\n",
    "\n",
    "prompt_token_ids = [char_to_int[ch] for ch in prompt_text if ch in char_to_int]\n",
    "gen_sequence_buffer = torch.tensor([prompt_token_ids], dtype=torch.long, device=device)\n",
    "\n",
    "character_embedding_map.eval()\n",
    "for layer_idx in range(transformer_layers):\n",
    "    multi_head_layers[layer_idx].eval()\n",
    "    feed_forward_layers[layer_idx].eval()\n",
    "    router_layer[layer_idx].eval()\n",
    "    shared_expert_layer[layer_idx].eval()\n",
    "    shared_expert_feedforward_first_layer[layer_idx].eval()\n",
    "    shared_expert_feedforward_second_layer[layer_idx].eval()\n",
    "\n",
    "language_modeling_head.eval()\n"
   ]
  },
  {
   "cell_type": "code",
   "execution_count": 34,
   "metadata": {},
   "outputs": [
    {
     "name": "stdout",
     "output_type": "stream",
     "text": [
      "...Generation loop finished.\n"
     ]
    }
   ],
   "source": [
    "with torch.no_grad():\n",
    "    for _ in range(generation_limit):\n",
    "        \n",
    "        input_context = gen_sequence_buffer[:, -block_size:] \n",
    "        batch_size_gen, seq_len_gen = input_context.shape\n",
    "        hidden_size_gen = hidden_dim\n",
    "\n",
    "        embedded_input = character_embedding_map(input_context) \n",
    "\n",
    "        position_indices = torch.arange(seq_len_gen, device=device).unsqueeze(0)\n",
    "        inv_freq_broadcast = rope_freqs.unsqueeze(0).unsqueeze(-1).expand(batch_size_gen, -1, 1)\n",
    "        pos_ids_broadcast = position_indices.expand(batch_size_gen, -1).unsqueeze(1).float()\n",
    "        \n",
    "        with torch.autocast(device_type=device, enabled=False):\n",
    "            pos_angles = (inv_freq_broadcast.float() @ pos_ids_broadcast).transpose(1, 2)\n",
    "            rope_rotations = torch.polar(torch.ones_like(pos_angles), pos_angles)\n",
    "\n",
    "        layer_input = embedded_input\n",
    "\n",
    "        for layer_idx in range(transformer_layers):\n",
    "            attn_skip = layer_input\n",
    "\n",
    "            x_fp32 = layer_input.float()\n",
    "            norm_factor = torch.rsqrt(x_fp32.pow(2).mean(-1, keepdim=True) + rms_norm_eps)\n",
    "            normed_input = (x_fp32 * norm_factor).type_as(layer_input)\n",
    "            normed_input = normed_input * rms_before_attn[layer_idx]\n",
    "\n",
    "            qkv_proj = multi_head_layers[layer_idx](normed_input)\n",
    "            qkv_proj = qkv_proj.view(batch_size_gen, seq_len_gen, num_heads, 3 * dim_k)\n",
    "            query, key, value = qkv_proj.chunk(3, dim=-1)\n",
    "\n",
    "            query_cmplx = torch.view_as_complex(query.float().reshape(batch_size_gen, seq_len_gen, num_heads, -1, 2))\n",
    "            key_cmplx = torch.view_as_complex(key.float().reshape(batch_size_gen, seq_len_gen, num_heads, -1, 2))\n",
    "            rope_cis_broadcast = rope_rotations.unsqueeze(2)\n",
    "            query_rot = query_cmplx * rope_cis_broadcast\n",
    "            key_rot = key_cmplx * rope_cis_broadcast\n",
    "            query = torch.view_as_real(query_rot).flatten(3).type_as(query)\n",
    "            key = torch.view_as_real(key_rot).flatten(3).type_as(key)\n",
    "\n",
    "            query = query.permute(0, 2, 1, 3)\n",
    "            key = key.permute(0, 2, 1, 3)\n",
    "            value = value.permute(0, 2, 1, 3)\n",
    "            attn_scores = (query @ key.transpose(-2, -1)) * (dim_k ** -0.5)\n",
    "            attn_scores = attn_scores.masked_fill(lm_mask[:, :, :seq_len_gen, :seq_len_gen] == 0, float('-inf'))\n",
    "            attn_probs = F.softmax(attn_scores, dim=-1)\n",
    "            attn_probs = torch.nan_to_num(attn_probs)\n",
    "            attn_out = attn_probs @ value\n",
    "            attn_out = attn_out.permute(0, 2, 1, 3).contiguous().view(batch_size_gen, seq_len_gen, hidden_size_gen)\n",
    "            attn_out = feed_forward_layers[layer_idx](attn_out)\n",
    "\n",
    "            layer_input = attn_skip + attn_out\n",
    "\n",
    "            moe_skip = layer_input\n",
    "\n",
    "            x_fp32 = layer_input.float()\n",
    "            norm_factor = torch.rsqrt(x_fp32.pow(2).mean(-1, keepdim=True) + rms_norm_eps)\n",
    "            normed_input = (x_fp32 * norm_factor).type_as(layer_input)\n",
    "            normed_input = normed_input * rms_after_attn[layer_idx]\n",
    "\n",
    "            route_logits = router_layer[layer_idx](normed_input)\n",
    "            topk_weights, topk_indices = torch.topk(route_logits, select_experts_per_token, dim=-1)\n",
    "            topk_weights = torch.sigmoid(topk_weights)\n",
    "\n",
    "            flattened_input = normed_input.view(-1, hidden_size_gen)\n",
    "            flattened_expert_ids = topk_indices.view(-1)\n",
    "            flattened_weights = topk_weights.view(-1)\n",
    "            token_positions = torch.arange(batch_size_gen * seq_len_gen, device=device).repeat_interleave(select_experts_per_token)\n",
    "\n",
    "            expert_inputs = flattened_input[token_positions]\n",
    "            gate_up_weights = expert_feedforward_first_layer[layer_idx][flattened_expert_ids]\n",
    "            down_weights = expert_feedforward_second_layer[layer_idx][flattened_expert_ids]\n",
    "\n",
    "            up_states = torch.bmm(expert_inputs.unsqueeze(1), gate_up_weights)\n",
    "            gate_vals, up_vals = up_states.chunk(2, dim=-1)\n",
    "            activated = activation_fn(gate_vals) * up_vals\n",
    "            expert_out_flat = torch.bmm(activated, down_weights).squeeze(1)\n",
    "            scaled_expert_out = expert_out_flat * flattened_weights.unsqueeze(-1)\n",
    "\n",
    "            combined_expert_out = torch.zeros_like(flattened_input)\n",
    "            combined_expert_out.scatter_add_(\n",
    "                0, token_positions.unsqueeze(-1).expand(-1, hidden_size_gen), scaled_expert_out\n",
    "            )\n",
    "\n",
    "            shared_gate = shared_expert_layer[layer_idx](normed_input)\n",
    "            shared_up = shared_expert_feedforward_first_layer[layer_idx](normed_input)\n",
    "            shared_activated = activation_fn(shared_gate) * shared_up\n",
    "            shared_out = shared_expert_feedforward_second_layer[layer_idx](shared_activated)\n",
    "\n",
    "            moe_combined = combined_expert_out.view(batch_size_gen, seq_len_gen, hidden_size_gen)\n",
    "            final_moe_out = moe_combined + shared_out\n",
    "\n",
    "            layer_input = moe_skip + final_moe_out\n",
    "\n",
    "        x_fp32 = layer_input.float()\n",
    "        norm_factor = torch.rsqrt(x_fp32.pow(2).mean(-1, keepdim=True) + rms_norm_eps)\n",
    "        final_norm = (x_fp32 * norm_factor).type_as(layer_input)\n",
    "        final_norm = final_norm * rms_before_final_output\n",
    "\n",
    "        vocab_logits = language_modeling_head(final_norm)\n",
    "        logits_last_step = vocab_logits[:, -1, :] \n",
    "\n",
    "        token_probs = F.softmax(logits_last_step, dim=-1)\n",
    "        sampled_token = torch.multinomial(token_probs, num_samples=1)\n",
    "\n",
    "        gen_sequence_buffer = torch.cat((gen_sequence_buffer, sampled_token), dim=1)\n",
    "\n",
    "print(\"...Generation loop finished.\")\n"
   ]
  },
  {
   "cell_type": "code",
   "execution_count": 35,
   "metadata": {},
   "outputs": [
    {
     "name": "stdout",
     "output_type": "stream",
     "text": [
      "orm rooms are t Wh began and frkerommmaterimates. beyond plat Overoon yerkermat and bey Mas aroHarvard his rkerber\n"
     ]
    }
   ],
   "source": [
    "final_generated_ids = gen_sequence_buffer[0].tolist()\n",
    "\n",
    "decoded_text = ''.join([int_to_char.get(id_val, '[UNK]') for id_val in final_generated_ids])\n",
    "\n",
    "print(decoded_text)"
   ]
  },
  {
   "cell_type": "code",
   "execution_count": null,
   "metadata": {},
   "outputs": [],
   "source": []
  }
 ],
 "metadata": {
  "kernelspec": {
   "display_name": "code-blogs-articles",
   "language": "python",
   "name": "python3"
  },
  "language_info": {
   "codemirror_mode": {
    "name": "ipython",
    "version": 3
   },
   "file_extension": ".py",
   "mimetype": "text/x-python",
   "name": "python",
   "nbconvert_exporter": "python",
   "pygments_lexer": "ipython3",
   "version": "3.12.0"
  }
 },
 "nbformat": 4,
 "nbformat_minor": 2
}
