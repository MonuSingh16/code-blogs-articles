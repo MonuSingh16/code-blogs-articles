{
 "cells": [
  {
   "cell_type": "code",
   "execution_count": null,
   "id": "e8f60dde",
   "metadata": {},
   "outputs": [],
   "source": [
    "import torch\n",
    "import torch.nn as nn\n",
    "import torch.nn.functional as F\n",
    "\n",
    "class Attention(nn.Module): #inherits from nn.Module\n",
    "    def __init__(self, d_in, d_out): # contructor of the class\n",
    "        super().__init__() # intialize the parent class\n",
    "        # keyword self in a classs refers to the instance of the class\n",
    "        self.d_in = d_in\n",
    "        self.d_out = d_out\n",
    "        # create a layer that applies an affine transformation to the input\n",
    "        # y = Ax + b, where A is a weight matrix and b is a bias vector\n",
    "        # Weights intialized with a uniform distribution\n",
    "        # its weights and biases are stored as torch.nn.Parameter objects.\n",
    "        # This makes them part of the model’s .parameters() \n",
    "        # returns the parameters of the model when called\n",
    "        self.Q = nn.Linear(d_in, d_out) \n",
    "        self.K = nn.Linear(d_in, d_out)\n",
    "        self.V = nn.Linear(d_in, d_out)\n",
    "\n",
    "    def forward(self, x):\n",
    "        queries = self.Q(x) # apply the affine transformation to the input x\n",
    "        keys = self.K(x)\n",
    "        values = self.V(x)\n",
    "        # Compute the attention scores, bmm is batch matrix multiplication\n",
    "        # scores = queries * keys^T / sqrt(d_out)\n",
    "        scores = torch.bmm(queries, keys.transpose(1, 2)) \n",
    "        # keys.transpose(1, 2) transposes the last two dimensions\n",
    "        # (batch_size, seq_len, d_out) -> (batch_size, d_out, seq_len)\n",
    "        scores = scores / (self.d_out ** 0.5)\n",
    "        attention = F.softmax(scores, dim=2)\n",
    "        # converts the attention scores into probabilities along the last dimension, \n",
    "        # so each set of scores sums to 1 for every query in the batch.\n",
    "        hidden_states = torch.bmm(attention, values)\n",
    "        return hidden_states\n"
   ]
  },
  {
   "cell_type": "markdown",
   "id": "567e99aa",
   "metadata": {},
   "source": [
    "##### Q. Why do we have muliple attention heads ?\n",
    "\n",
    "To attend to information from different representation subspaces at differen positions. Module computes several attention in parallel, each with it own learn projection.\n",
    "\n",
    "Token embedding is identicial for the same sequence for all heads, for each head, model applies a different linear transformation to the embedding to produce Q, K, V. Each head computes attention using Q, K, V as each head sees the input differently. The output are concatenated and mixed, allowing the model to combine information.\n",
    "\n",
    "##### Q. If all projection matrices start randomly and see the same input, why don't all attention heads learn the same thing ?\n",
    "\n",
    "W_Q, W_K, W_V - Start with random values. Do not necessarily converge to same solution. Updated during training independently, During BackPropagation, gradient for each head's parameters depend on - head's own output, loss function, interaction with other heads. Hence each head to receive different gradient updates.\n",
    "\n",
    "- Random Intialization -- Different staring points\n",
    "- Independent Weights -- Unique learning paths\n",
    "- Gradient Updates -- Driven by head-specific outputs\n",
    "- Loss Optimization -- Encourages diversity for better results\n"
   ]
  },
  {
   "cell_type": "code",
   "execution_count": null,
   "id": "65afcf35",
   "metadata": {},
   "outputs": [],
   "source": [
    "# MultiheadAttention class that uses multiple Attention heads\n",
    "# What is hidden_size and num_heads? -\n",
    "# refer to the dimensiaonlity of input & output vectors\n",
    "# if model is used for NLP tasks, hidden_size is the size of the word embeddings\n",
    "# num_heads is the number of attention heads to use -\n",
    "# each head will learn different representations of the input data\n",
    "\n",
    "class MultiheadAttention(nn.Module):\n",
    "    def __init__(self, hidden_size, num_heads):\n",
    "        super().__init__()\n",
    "        self.hidden_size = hidden_size # size of input & outpu vectors\n",
    "        self.num_heads = num_heads # number of attention heads\n",
    "        self.out = nn.Linear(hidden_size, hidden_size) # linear layer\n",
    "        self.head = nn.ModuleList([\n",
    "            Attention(hidden_size, hidden_size // num_heads)\n",
    "            for _ in range(num_heads)\n",
    "        ]) # create a list of Attention heads # each head has its own set of weights and biases\n",
    "        # The hidden size is divided by the number of heads to ensure \n",
    "        # that each head has a smaller dimensionality, allowing the model \n",
    "        # to learn different representations of the input data.\n",
    "    \n",
    "    def foward(self, x):\n",
    "        outputs = [head(x) for head in self.head]\n",
    "        outputs = torch.cat(outputs, dim=-1)\n",
    "        hidden_states = self.out(outputs)\n",
    "        return hidden_states"
   ]
  },
  {
   "cell_type": "code",
   "execution_count": null,
   "id": "f10ac900",
   "metadata": {},
   "outputs": [],
   "source": [
    "class MultiheadAttention(nn.Module):\n",
    "    def __init__(self, hidden_size, num_heads):\n",
    "        super().__init__()\n",
    "\n",
    "        self.hidden_size = hidden_size\n",
    "        self.num_heads = num_heads\n",
    "        self.head_dim = hidden_size // num_heads\n",
    "\n",
    "        self.qkv_linear = nn.Linear(hidden_size, hidden_size * 3)\n",
    "        self.out = nn.Linear(hidden_size, hidden_size)\n",
    "\n",
    "    def forward(self, x):\n",
    "        batch_size, seq_length, hidden_size = x.size()\n",
    "\n",
    "        # [batch]"
   ]
  },
  {
   "cell_type": "code",
   "execution_count": null,
   "id": "7b8a2fda",
   "metadata": {},
   "outputs": [],
   "source": []
  },
  {
   "cell_type": "code",
   "execution_count": null,
   "id": "5b5304ae",
   "metadata": {},
   "outputs": [],
   "source": []
  },
  {
   "cell_type": "markdown",
   "id": "e29b0a1b",
   "metadata": {},
   "source": []
  },
  {
   "cell_type": "code",
   "execution_count": null,
   "id": "48d0cb9a",
   "metadata": {},
   "outputs": [],
   "source": []
  }
 ],
 "metadata": {
  "kernelspec": {
   "display_name": ".venv",
   "language": "python",
   "name": "python3"
  },
  "language_info": {
   "codemirror_mode": {
    "name": "ipython",
    "version": 3
   },
   "file_extension": ".py",
   "mimetype": "text/x-python",
   "name": "python",
   "nbconvert_exporter": "python",
   "pygments_lexer": "ipython3",
   "version": "3.12.0"
  }
 },
 "nbformat": 4,
 "nbformat_minor": 5
}
