{
 "cells": [
  {
   "cell_type": "markdown",
   "metadata": {},
   "source": [
    "### K Means Clustering\n",
    "\n",
    "K-Means is an unsupervised machine learning algorithm used for clustering, which partitions a dataset into K clusters based on similarity. It minimizes the sum of squared distances from each data point to the centroid of its assigned cluster."
   ]
  },
  {
   "cell_type": "raw",
   "metadata": {},
   "source": [
    "Algorithm: K-Means Clustering\n",
    "\n",
    "Inputs:\n",
    "- X: Data matrix (m x n)\n",
    "- K: Number of clusters\n",
    "\n",
    "Output:\n",
    "- Centroids: Final centroids of the clusters\n",
    "- Assignments: Cluster assignments for each data point\n",
    "\n",
    "Procedure:\n",
    "1. Initialize K centroids randomly or using a specific initialization method.\n",
    "2. Repeat until convergence (no change in cluster assignments):\n",
    "   2.1 Assign each data point to the cluster whose centroid is the closest (minimizing Euclidean distance).\n",
    "       Mathematically: argmin_k ||x - μ_k||^2\n",
    "   2.2 Recalculate the centroids of each cluster as the mean of the data points assigned to it.\n",
    "       Mathematically: μ_k = (1/|C_k|) * Σ_{x in C_k} x\n",
    "3. Return the final centroids and cluster assignments.\n",
    "\n",
    "Pseudo-Code:\n",
    "\n",
    "function kmeans(X, K):\n",
    "    1. Initialize centroids randomly or using a specific initialization method.\n",
    "    2. Repeat until convergence:\n",
    "        2.1 Assign each data point to the cluster with the closest centroid.\n",
    "        2.2 Update the centroids as the mean of the data points in each cluster.\n",
    "    3. Return the final centroids and cluster assignments.\n"
   ]
  },
  {
   "cell_type": "code",
   "execution_count": 4,
   "metadata": {},
   "outputs": [
    {
     "name": "stdout",
     "output_type": "stream",
     "text": [
      "Centroids: [[0.8039633  0.57026999]\n",
      " [0.36376248 0.20008043]\n",
      " [0.18520943 0.72228065]]\n",
      "Cluster Assignments: [2 0 1 2 0 2 0 1 2 1 1 1 2 2 1 1 2 0 1 0 2 2 2 2 1 0 0 0 1 1 1 0 2 2 2 0 2\n",
      " 0 1 1 0 1 1 0 0 2 0 0 1 1 2 2 0 2 1 1 0 0 0 0 0 1 1 0 2 1 1 0 0 2 0 1 1 0\n",
      " 1 0 2 0 0 2 2 0 2 1 2 1 1 1 0 0 1 0 2 0 1 2 0 1 0 0]\n"
     ]
    }
   ],
   "source": [
    "from sklearn.cluster import KMeans\n",
    "import numpy as np\n",
    "\n",
    "# Generate synthetic data\n",
    "np.random.seed(42)\n",
    "X = np.random.rand(100, 2)\n",
    "\n",
    "# Instantiate K Means model\n",
    "kmeans = KMeans(n_clusters=3, random_state=42, n_init='auto')\n",
    "\n",
    "# Fit the model to the data\n",
    "kmeans.fit(X)\n",
    "\n",
    "# Get the centroids and cluster assignments\n",
    "centroids = kmeans.cluster_centers_\n",
    "cluster_assignments = kmeans.labels_\n",
    "\n",
    "print(\"Centroids:\", centroids)\n",
    "print(\"Cluster Assignments:\", cluster_assignments)"
   ]
  },
  {
   "cell_type": "markdown",
   "metadata": {},
   "source": [
    "#### K-Means clustering algorithm from scratch "
   ]
  },
  {
   "cell_type": "code",
   "execution_count": 5,
   "metadata": {},
   "outputs": [
    {
     "name": "stdout",
     "output_type": "stream",
     "text": [
      "Centroids (from scratch): [[0.36376248 0.20008043]\n",
      " [0.19671223 0.72161646]\n",
      " [0.81167067 0.56668218]]\n",
      "Cluster Assignments (from scratch): [1 2 0 1 2 1 2 0 1 0 0 0 1 1 0 0 1 2 0 2 1 1 1 1 0 2 2 2 0 0 0 2 1 1 1 2 1\n",
      " 2 0 0 2 0 0 2 2 1 2 2 0 0 1 1 2 1 0 0 2 2 2 2 2 0 0 2 1 0 0 2 1 1 2 0 0 2\n",
      " 0 2 1 2 2 1 1 2 1 0 1 0 0 0 2 2 0 2 1 2 0 1 2 0 2 2]\n"
     ]
    }
   ],
   "source": [
    "import numpy as np\n",
    "\n",
    "class KMeansScratch:\n",
    "\n",
    "    def __init__(self, n_clusters, max_iters=100, random_state=None):\n",
    "        self.n_clusters = n_clusters\n",
    "        self.max_iters = max_iters\n",
    "        self.random_state = random_state\n",
    "        self.centroids = None\n",
    "        self.cluster_assignments = None\n",
    "\n",
    "    def initialize_centroids(self, X):\n",
    "        if self.random_state is not None:\n",
    "            np.random.seed(self.random_state)\n",
    "        indices = np.random.choice(len(X), self.n_clusters, replace=False)\n",
    "        return X[indices]\n",
    "    \n",
    "    def assign_to_clusters(self, X):\n",
    "        distances = np.linalg.norm(X[:, np.newaxis] - self.centroids, axis=2)\n",
    "        return np.argmin(distances, axis=1)\n",
    "\n",
    "    def update_centroids(self, X):\n",
    "        new_centroids = np.array([np.mean(X[self.cluster_assignments == k], axis=0) for k in range(self.n_clusters)])\n",
    "        return new_centroids\n",
    "\n",
    "    def fit(self, X):\n",
    "        self.centroids = self.initialize_centroids(X)\n",
    "        for _ in range(self.max_iters):\n",
    "            prev_assignments = self.cluster_assignments\n",
    "            self.cluster_assignments = self.assign_to_clusters(X)\n",
    "            self.centroids = self.update_centroids(X)\n",
    "            if np.array_equal(prev_assignments, self.cluster_assignments):\n",
    "                break\n",
    "\n",
    "    def predict(self, X):\n",
    "        return self.assign_to_clusters(X)\n",
    "\n",
    "# Example usage:\n",
    "# Generate synthetic data\n",
    "np.random.seed(42)\n",
    "X = np.random.rand(100, 2)\n",
    "\n",
    "# Instantiate and fit the KMeansScratch model\n",
    "kmeans_scratch = KMeansScratch(n_clusters=3, random_state=42)\n",
    "kmeans_scratch.fit(X)\n",
    "\n",
    "# Get the centroids and cluster assignments\n",
    "centroids_scratch = kmeans_scratch.centroids\n",
    "cluster_assignments_scratch = kmeans_scratch.cluster_assignments\n",
    "\n",
    "print(\"Centroids (from scratch):\", centroids_scratch)\n",
    "print(\"Cluster Assignments (from scratch):\", cluster_assignments_scratch)"
   ]
  },
  {
   "cell_type": "code",
   "execution_count": null,
   "metadata": {},
   "outputs": [],
   "source": []
  }
 ],
 "metadata": {
  "kernelspec": {
   "display_name": "venv-dl-1.0",
   "language": "python",
   "name": "python3"
  },
  "language_info": {
   "codemirror_mode": {
    "name": "ipython",
    "version": 3
   },
   "file_extension": ".py",
   "mimetype": "text/x-python",
   "name": "python",
   "nbconvert_exporter": "python",
   "pygments_lexer": "ipython3",
   "version": "3.9.18"
  }
 },
 "nbformat": 4,
 "nbformat_minor": 2
}
