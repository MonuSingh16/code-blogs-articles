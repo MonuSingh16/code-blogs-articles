{
 "cells": [
  {
   "cell_type": "markdown",
   "metadata": {},
   "source": [
    "#### Mean Squared Error (MSE):\n",
    "\n",
    "- $MSE = 1/n * \\sum\\limits_{i=1}^{n}(y_i - ŷ_i)$\n",
    "- $MAE = 1/n * \\sum\\limits_{i=1}^{n}|y_i - ŷ_i|$    \n",
    "- $RMSE = \\sqrt{MSE}$\n"
   ]
  },
  {
   "cell_type": "code",
   "execution_count": 6,
   "metadata": {},
   "outputs": [
    {
     "name": "stdout",
     "output_type": "stream",
     "text": [
      "Mean Squared Error: 0.2500\n",
      "Mean Absolute Error: 0.5000\n",
      "Root Mean Squared Error (RMSE): 0.5000\n",
      "R-squared (R2): 0.9500\n"
     ]
    }
   ],
   "source": [
    "from sklearn.metrics import mean_squared_error, mean_absolute_error, r2_score\n",
    "import numpy as np\n",
    "\n",
    "# Example Data\n",
    "true_value = [2, 4, 6, 8]\n",
    "predicted_values = [1.5, 3.5, 5.5, 7.5]\n",
    "\n",
    "mse = mean_squared_error(true_value, predicted_values)\n",
    "print(f\"Mean Squared Error: {mse:.4f}\")\n",
    "\n",
    "mae = mean_absolute_error(true_value, predicted_values)\n",
    "print(f\"Mean Absolute Error: {mae:.4f}\")\n",
    "\n",
    "rmse = np.sqrt(mse)\n",
    "print(f\"Root Mean Squared Error (RMSE): {rmse:.4f}\")\n",
    "\n",
    "r2 = r2_score(true_value, predicted_values)\n",
    "print(f\"R-squared (R2): {r2:.4f}\")"
   ]
  }
 ],
 "metadata": {
  "kernelspec": {
   "display_name": "venv-dl-1.0",
   "language": "python",
   "name": "python3"
  },
  "language_info": {
   "codemirror_mode": {
    "name": "ipython",
    "version": 3
   },
   "file_extension": ".py",
   "mimetype": "text/x-python",
   "name": "python",
   "nbconvert_exporter": "python",
   "pygments_lexer": "ipython3",
   "version": "3.9.18"
  }
 },
 "nbformat": 4,
 "nbformat_minor": 2
}
