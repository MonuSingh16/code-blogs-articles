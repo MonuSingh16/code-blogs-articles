{
 "cells": [
  {
   "cell_type": "markdown",
   "metadata": {},
   "source": [
    "### Decision Trees\n",
    "\n",
    "A Decision Tree is a popular supervised machine learning algorithm used for both classification and regression tasks. It recursively splits the data into subsets based on the most significant attribute at each level, creating a tree-like structure of decisions. Each node in the tree represents a decision based on a feature, and each leaf node represents the predicted output.\n",
    "\n",
    "<u>Inner Workings of a Decision Tree:</u>\n",
    "\n",
    "1. Choosing the Best Split:\n",
    "At each node, the algorithm chooses the feature that provides the best split. The \"best\" split is typically determined by maximizing information gain (for classification) or minimizing variance (for regression).\n",
    "    \n",
    "    - ***Information Gain***: Measures the reduction in uncertainty about the target variable.\n",
    "    - ***Variance***: Measures the homogeneity of the target variable in a node.\n",
    "\n",
    "2. Recursive Splitting:\n",
    "    - The chosen feature is used to split the data into subsets. This process is repeated recursively for each subset until a stopping condition is met.\n",
    "    - Stopping conditions may include reaching a maximum depth, having a minimum number of samples in a node, or achieving perfect purity.\n",
    "    \n",
    "3. Leaf Nodes and Predictions:\n",
    "    - For classification, the majority class in the leaf node is the predicted class.\n",
    "    - For regression, the mean or median of the target values in the leaf node is the predicted value."
   ]
  },
  {
   "cell_type": "code",
   "execution_count": 1,
   "metadata": {},
   "outputs": [
    {
     "name": "stdout",
     "output_type": "stream",
     "text": [
      "Accuracy: 1.0\n",
      "Classification Report:\n",
      "              precision    recall  f1-score   support\n",
      "\n",
      "           0       1.00      1.00      1.00        15\n",
      "           1       1.00      1.00      1.00        11\n",
      "           2       1.00      1.00      1.00        12\n",
      "\n",
      "    accuracy                           1.00        38\n",
      "   macro avg       1.00      1.00      1.00        38\n",
      "weighted avg       1.00      1.00      1.00        38\n",
      "\n"
     ]
    }
   ],
   "source": [
    "from sklearn.tree import DecisionTreeClassifier\n",
    "from sklearn.model_selection import train_test_split\n",
    "from sklearn.metrics import accuracy_score, classification_report\n",
    "from sklearn.datasets import load_iris\n",
    "\n",
    "# Load the Iris dataset\n",
    "iris = load_iris()\n",
    "X = iris.data\n",
    "y = iris.target\n",
    "\n",
    "# Split the data into training and testing sets\n",
    "X_train, X_test, y_train, y_test = train_test_split(X, y, test_size=0.25, random_state=42)\n",
    "\n",
    "# Instantiate a Decision Tree classifier\n",
    "decision_tree_classifier = DecisionTreeClassifier(random_state=42)\n",
    "\n",
    "# Train the classifier\n",
    "decision_tree_classifier.fit(X_train, y_train)\n",
    "\n",
    "# Make predictions on the test set\n",
    "y_pred = decision_tree_classifier.predict(X_test)\n",
    "\n",
    "# Evaluate the model\n",
    "accuracy = accuracy_score(y_test, y_pred)\n",
    "classification_rep = classification_report(y_test, y_pred)\n",
    "\n",
    "print(\"Accuracy:\", accuracy)\n",
    "print(\"Classification Report:\")\n",
    "print(classification_rep)"
   ]
  },
  {
   "cell_type": "code",
   "execution_count": null,
   "metadata": {},
   "outputs": [],
   "source": []
  }
 ],
 "metadata": {
  "kernelspec": {
   "display_name": "venv-dl-1.0",
   "language": "python",
   "name": "python3"
  },
  "language_info": {
   "codemirror_mode": {
    "name": "ipython",
    "version": 3
   },
   "file_extension": ".py",
   "mimetype": "text/x-python",
   "name": "python",
   "nbconvert_exporter": "python",
   "pygments_lexer": "ipython3",
   "version": "3.9.18"
  }
 },
 "nbformat": 4,
 "nbformat_minor": 2
}
