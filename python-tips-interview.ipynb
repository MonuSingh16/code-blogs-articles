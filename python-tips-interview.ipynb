{
 "cells": [
  {
   "cell_type": "markdown",
   "metadata": {},
   "source": [
    "### 1. Reverse Array using .reverse()\n",
    "\n",
    "This approach is concise and uses the built-in functionality of the reverse() method to reverse the elements of the array in place. It's a good choice for a coding interview because it's efficient (O(n) time complexity) and demonstrates familiarity with Python list methods."
   ]
  },
  {
   "cell_type": "code",
   "execution_count": 1,
   "metadata": {},
   "outputs": [
    {
     "name": "stdout",
     "output_type": "stream",
     "text": [
      "[5, 4, 3, 2, 1]\n"
     ]
    }
   ],
   "source": [
    "list_a = [1, 2, 3, 4, 5]\n",
    "list_a.reverse()\n",
    "print(list_a)"
   ]
  },
  {
   "cell_type": "markdown",
   "metadata": {},
   "source": [
    "### 2. Loop Using enumerate()\n",
    "\n",
    "Using enumerate() is a handy technique in Python, especially in programming tests or coding interviews. It allows you to iterate over both the elements and their indices in a sequence, providing a cleaner and more readable way to handle index-based operations. "
   ]
  },
  {
   "cell_type": "code",
   "execution_count": 3,
   "metadata": {},
   "outputs": [
    {
     "name": "stdout",
     "output_type": "stream",
     "text": [
      "Index: 0, Value: apple\n",
      "Index: 1, Value: banana\n",
      "Index: 2, Value: orange\n",
      "Index: 3, Value: grape\n"
     ]
    }
   ],
   "source": [
    "my_list = ['apple', 'banana', 'orange', 'grape']\n",
    "\n",
    "# Looping through the elements and their indices using enumerate\n",
    "for index, value in enumerate(my_list):\n",
    "    print(f\"Index: {index}, Value: {value}\")"
   ]
  },
  {
   "cell_type": "markdown",
   "metadata": {},
   "source": [
    "Here’s a breakdown of how enumerate() works:\n",
    "\n",
    "- The enumerate() function returns pairs of indices and elements as you iterate through a sequence.\n",
    "\n",
    "- In the loop header, index represents the index of the current element, and value represents the element itself.\n",
    "\n",
    "- This makes it easy to access both the index and the value within the loop body."
   ]
  },
  {
   "cell_type": "markdown",
   "metadata": {},
   "source": [
    "### 3. Unpacking Iterables\n",
    "\n",
    "Unpacking iterables is a powerful and concise feature in Python that allows you to assign the elements of an iterable (such as a tuple or a list) to individual variables in a single line. This technique is not only useful for clarity and brevity but also demonstrates a good understanding of Python’s syntax. "
   ]
  },
  {
   "cell_type": "code",
   "execution_count": 4,
   "metadata": {},
   "outputs": [
    {
     "name": "stdout",
     "output_type": "stream",
     "text": [
      "a: 1, b: 2, c: 3\n"
     ]
    }
   ],
   "source": [
    "# sample tuple\n",
    "my_tuple = (1, 2, 3)\n",
    "\n",
    "# Unpacking the tuple into individual variables\n",
    "a, b, c = my_tuple\n",
    "\n",
    "#Displaying the values\n",
    "print(f\"a: {a}, b: {b}, c: {c}\")"
   ]
  },
  {
   "cell_type": "markdown",
   "metadata": {},
   "source": [
    "Here are a few tips for using unpacking iterables in a programming test:\n",
    "\n",
    "<b>Multiple Assignments</b>: You can unpack multiple variables at once, which is particularly useful when working with functions that return multiple values"
   ]
  },
  {
   "cell_type": "code",
   "execution_count": 5,
   "metadata": {},
   "outputs": [],
   "source": [
    "# Sample function returning multiple values\n",
    "def get_coordinates():\n",
    "    return 4, 5, 6\n",
    "\n",
    "# Unpacking the returned values\n",
    "x, y, z = get_coordinates()"
   ]
  },
  {
   "cell_type": "markdown",
   "metadata": {},
   "source": [
    "<b> Swapping Values</b>: Unpacking allows for a concise way to swap the values of two variables without needing a temporary variable."
   ]
  },
  {
   "cell_type": "code",
   "execution_count": 6,
   "metadata": {},
   "outputs": [],
   "source": [
    "a = 10\n",
    "b = 20\n",
    "\n",
    "# Swapping values\n",
    "a, b = b, a"
   ]
  },
  {
   "cell_type": "markdown",
   "metadata": {},
   "source": [
    "<b> Extended Unpacking </b>: You can use the * operator for extended unpacking, which allows you to collect multiple elements into a single variable."
   ]
  },
  {
   "cell_type": "code",
   "execution_count": 7,
   "metadata": {},
   "outputs": [],
   "source": [
    "# Sample list\n",
    "my_list = [1, 2, 3, 4, 5]\n",
    "\n",
    "# Unpacking the first element and collecting the rest\n",
    "first, *rest = my_list"
   ]
  },
  {
   "cell_type": "markdown",
   "metadata": {},
   "source": [
    "### 4. Using List & Dictionary Comprehension\n",
    "\n",
    "#### 4.1. List Comprehension\n",
    "List comprehensions provide a concise way to create lists. They are more readable and often faster than using traditional loops. \n",
    "\n",
    "The general syntax is `[expression for item in iterable if condition]`."
   ]
  },
  {
   "cell_type": "code",
   "execution_count": 8,
   "metadata": {},
   "outputs": [],
   "source": [
    "# Traditiona Loop\n",
    "squares = []\n",
    "for x in range(5):\n",
    "    squares.append(x**2)\n",
    "\n",
    "# List Comprehension equivalent\n",
    "squares = [x ** 2 for x in range(5)]"
   ]
  },
  {
   "cell_type": "code",
   "execution_count": 9,
   "metadata": {},
   "outputs": [],
   "source": [
    "# Traditional Loop with conditions\n",
    "even_squares = []\n",
    "for x in range(5):\n",
    "    if x % 2 == 0:\n",
    "        even_squares.append(x ** 2)\n",
    "\n",
    "# List Comprehension equivalent\n",
    "even_squares = [x ** 2 for x in range(5) if x % 2 == 0] "
   ]
  },
  {
   "cell_type": "code",
   "execution_count": null,
   "metadata": {},
   "outputs": [],
   "source": []
  }
 ],
 "metadata": {
  "kernelspec": {
   "display_name": "venv-dl-1.0",
   "language": "python",
   "name": "python3"
  },
  "language_info": {
   "codemirror_mode": {
    "name": "ipython",
    "version": 3
   },
   "file_extension": ".py",
   "mimetype": "text/x-python",
   "name": "python",
   "nbconvert_exporter": "python",
   "pygments_lexer": "ipython3",
   "version": "3.9.18"
  }
 },
 "nbformat": 4,
 "nbformat_minor": 2
}
